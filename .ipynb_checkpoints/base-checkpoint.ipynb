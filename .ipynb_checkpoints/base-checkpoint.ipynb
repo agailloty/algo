{
 "cells": [
  {
   "cell_type": "markdown",
   "id": "a2162db7-cd52-440f-80d8-ad3c53ec1eae",
   "metadata": {
    "slideshow": {
     "slide_type": "slide"
    },
    "tags": []
   },
   "source": [
    "# Les variables\n",
    "Une variable est une référence vers une donnée en mémoire.  \n"
   ]
  },
  {
   "cell_type": "code",
   "execution_count": 2,
   "id": "e86ab7f5-574c-4f8d-92c8-d06ab761058a",
   "metadata": {
    "slideshow": {
     "slide_type": "slide"
    },
    "tags": []
   },
   "outputs": [
    {
     "name": "stdout",
     "output_type": "stream",
     "text": [
      "L'année actuelle est 2021\n"
     ]
    }
   ],
   "source": [
    "# Exemple \n",
    "annee_actuelle = 2021\n",
    "print(f\"L'année actuelle est {annee_actuelle}\")"
   ]
  },
  {
   "cell_type": "code",
   "execution_count": 8,
   "id": "e467c283-a63e-4ac0-a012-6997d1423576",
   "metadata": {},
   "outputs": [
    {
     "data": {
      "text/plain": [
       "41"
      ]
     },
     "execution_count": 8,
     "metadata": {},
     "output_type": "execute_result"
    }
   ],
   "source": [
    "annee_actuelle - 1980"
   ]
  },
  {
   "cell_type": "code",
   "execution_count": null,
   "id": "41e56668-fe8f-44e6-b17c-f1266e641e5b",
   "metadata": {},
   "outputs": [],
   "source": []
  },
  {
   "cell_type": "markdown",
   "id": "715c983d-75a7-4b65-865f-783433bbf7a8",
   "metadata": {
    "slideshow": {
     "slide_type": "subslide"
    },
    "tags": []
   },
   "source": [
    "Python est un langage à type dynamique. Cela signifie que nous n'avons pas besoin de spécifier le type des variables que nous utilisons. \n",
    "L'interpréteur Python se charge, au moment d'exécuter le code, de déterminer quel type de données ira dans la variable. \n",
    "\n",
    "La fonction `type(x)` retourne le type de données que contient la variable. "
   ]
  },
  {
   "cell_type": "code",
   "execution_count": 1,
   "id": "cf4de5c6-9bbd-447b-915e-e6a70b7c4e27",
   "metadata": {},
   "outputs": [
    {
     "data": {
      "text/plain": [
       "int"
      ]
     },
     "execution_count": 1,
     "metadata": {},
     "output_type": "execute_result"
    }
   ],
   "source": [
    "x = 1\n",
    "type(x)"
   ]
  },
  {
   "cell_type": "code",
   "execution_count": null,
   "id": "58852c7b",
   "metadata": {},
   "outputs": [],
   "source": []
  },
  {
   "cell_type": "code",
   "execution_count": 3,
   "id": "d8774189-24d8-4e42-a87a-d0dd32b9da21",
   "metadata": {},
   "outputs": [
    {
     "data": {
      "text/plain": [
       "str"
      ]
     },
     "execution_count": 3,
     "metadata": {},
     "output_type": "execute_result"
    }
   ],
   "source": [
    "x = \"Python\"\n",
    "type(x)"
   ]
  },
  {
   "cell_type": "code",
   "execution_count": 4,
   "id": "b540e360-90b7-47b2-9f3f-c4bf7a5e6912",
   "metadata": {},
   "outputs": [
    {
     "data": {
      "text/plain": [
       "float"
      ]
     },
     "execution_count": 4,
     "metadata": {},
     "output_type": "execute_result"
    }
   ],
   "source": [
    "x = 12.9\n",
    "type(x)"
   ]
  },
  {
   "cell_type": "code",
   "execution_count": null,
   "id": "7c2cde39-49d8-4fce-a65c-9b718ac92846",
   "metadata": {},
   "outputs": [],
   "source": []
  }
 ],
 "metadata": {
  "kernelspec": {
   "display_name": "Python 3 (ipykernel)",
   "language": "python",
   "name": "python3"
  },
  "language_info": {
   "codemirror_mode": {
    "name": "ipython",
    "version": 3
   },
   "file_extension": ".py",
   "mimetype": "text/x-python",
   "name": "python",
   "nbconvert_exporter": "python",
   "pygments_lexer": "ipython3",
   "version": "3.9.0"
  }
 },
 "nbformat": 4,
 "nbformat_minor": 5
}
