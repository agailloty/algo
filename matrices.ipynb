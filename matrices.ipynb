{
 "cells": [
  {
   "cell_type": "markdown",
   "metadata": {},
   "source": [
    "# Les matrices\n",
    "**Selon Wikipédia** : En mathématiques, les matrices sont des tableaux d'éléments (nombres, caractères) qui servent à interpréter en termes calculatoires, et donc opérationnels, les résultats théoriques de l'algèbre linéaire et même de l'algèbre bilinéaire. "
   ]
  },
  {
   "cell_type": "markdown",
   "metadata": {},
   "source": [
    "En mathématiques, un espace est un ensemble muni de structures supplémentaires remarquables, permettant d'y définir des objets analogues à ceux de la géométrie usuelle. Les éléments peuvent être appelés suivant le contexte points, vecteurs, fonctions ...\n",
    "\n",
    "## Les scalaires \n",
    "Ce sont des nombres dans l'espace R.  \n",
    "Exemple : 1, 98, 3.14, ...\n",
    "\n",
    "## Les vecteurs \n",
    "En mathématiques, plus précisément en algèbre linéaire, un espace vectoriel est un ensemble d'objets, appelés vecteurs, que l'on peut additionner entre eux, et que l'on peut multiplier par un scalaire (pour les étirer ou les rétrécir, les tourner, etc.). En d'autres termes, c'est un ensemble muni d'une structure permettant d'effectuer des combinaisons linéaires. Les scalaires sont généralement des nombres réels ou des nombres complexes, ou alors pris dans n'importe quel corps. \n",
    "\n"
   ]
  },
  {
   "cell_type": "markdown",
   "metadata": {},
   "source": [
    "# Représentation en Python "
   ]
  },
  {
   "cell_type": "code",
   "execution_count": 2,
   "metadata": {},
   "outputs": [],
   "source": [
    "# Un scalaire \n",
    "x = 23\n",
    "# Un vecteur \n",
    "v = [1, 3.15, 7, 9, 20]\n",
    "\n",
    "A = [\n",
    "        [2, 4, 3, 1],\n",
    "        [1, 0, 6, 3],\n",
    "        [3, 1, 2, 7]\n",
    "]"
   ]
  },
  {
   "cell_type": "markdown",
   "metadata": {},
   "source": [
    "# Opération sur les matrices \n",
    "## Addition \n"
   ]
  },
  {
   "cell_type": "code",
   "execution_count": 3,
   "metadata": {},
   "outputs": [],
   "source": [
    "B = [\n",
    "        [2, 3, 6, 7],\n",
    "        [1, 2, 6, 2],\n",
    "        [3, 1, 0, 4]\n",
    "]"
   ]
  },
  {
   "cell_type": "code",
   "execution_count": 4,
   "metadata": {},
   "outputs": [
    {
     "data": {
      "text/plain": [
       "[[2, 4, 3, 1],\n",
       " [1, 0, 6, 3],\n",
       " [3, 1, 2, 7],\n",
       " [2, 3, 6, 7],\n",
       " [1, 2, 6, 2],\n",
       " [3, 1, 0, 4]]"
      ]
     },
     "execution_count": 4,
     "metadata": {},
     "output_type": "execute_result"
    }
   ],
   "source": [
    "A + B"
   ]
  },
  {
   "cell_type": "markdown",
   "metadata": {},
   "source": [
    "Python ne sait pas additionner des matrices. Lorsqu'on ajoute deux matrices, Python les colle les listes. "
   ]
  },
  {
   "cell_type": "code",
   "execution_count": 7,
   "metadata": {},
   "outputs": [
    {
     "name": "stdout",
     "output_type": "stream",
     "text": [
      "[[4, 7, 9, 8], [2, 2, 12, 5], [6, 2, 2, 11]]\n"
     ]
    }
   ],
   "source": [
    "# Pour ajouter deux matrices, il faut ajouter chaque élement de la matrice A à la matrice B\n",
    "# Déterminer la taille de la matrice\n",
    "nb_row_A = len(A)\n",
    "nb_row_B = len(B)\n",
    "nb_col_A = len(A[0])\n",
    "nb_col_B = len(B[0])\n",
    "\n",
    "# Ajouter les matrices ssi (nb_row_A = nb_row_B) & (nb_col_A = nb_col_B)\n",
    "if (nb_row_A == nb_row_B) & (nb_col_A == nb_col_B):\n",
    "    result = []\n",
    "    for row in range(nb_row_A):\n",
    "        line = []\n",
    "        for col in range(nb_col_A):\n",
    "            total = A[row][col] + B[row][col]\n",
    "            line.append(total)\n",
    "        result.append(line)\n",
    "    print(result)\n",
    "else:\n",
    "    print(\"Les dimensions de la matrice ne correspondent pas.\")"
   ]
  },
  {
   "cell_type": "code",
   "execution_count": 6,
   "metadata": {},
   "outputs": [
    {
     "data": {
      "text/plain": [
       "[[4, 7, 9, 8], [2, 2, 12, 5], [6, 2, 2, 11]]"
      ]
     },
     "execution_count": 6,
     "metadata": {},
     "output_type": "execute_result"
    }
   ],
   "source": [
    "result"
   ]
  },
  {
   "cell_type": "code",
   "execution_count": 11,
   "metadata": {},
   "outputs": [],
   "source": [
    "# Transformer ce code en une fonction réutilisable\n",
    "def add_matrices(A, B):\n",
    "    # Trouver les dimensions de la matrice\n",
    "    nb_row_A = len(A)\n",
    "    nb_row_B = len(B)\n",
    "    nb_col_A = len(A[0])\n",
    "    nb_col_B = len(B[0])\n",
    "    \n",
    "    if (nb_row_A == nb_row_B) & (nb_col_A == nb_col_B):\n",
    "        result = []\n",
    "        for row in range(nb_row_A):\n",
    "            line = []\n",
    "            for col in range(nb_col_A):\n",
    "                total = A[row][col] + B[row][col]\n",
    "                line.append(total)\n",
    "            result.append(line)\n",
    "        return result\n",
    "    else:\n",
    "        raise Exception(\"Les dimensions ne correspondent pas.\")"
   ]
  },
  {
   "cell_type": "code",
   "execution_count": 12,
   "metadata": {},
   "outputs": [
    {
     "ename": "Exception",
     "evalue": "Les dimensions ne correspondent pas.",
     "output_type": "error",
     "traceback": [
      "\u001b[1;31m---------------------------------------------------------------------------\u001b[0m",
      "\u001b[1;31mException\u001b[0m                                 Traceback (most recent call last)",
      "\u001b[1;32m<ipython-input-12-7e642b662b63>\u001b[0m in \u001b[0;36m<module>\u001b[1;34m()\u001b[0m\n\u001b[0;32m      3\u001b[0m         \u001b[1;33m[\u001b[0m\u001b[1;36m2\u001b[0m\u001b[1;33m,\u001b[0m \u001b[1;36m8\u001b[0m\u001b[1;33m,\u001b[0m \u001b[1;36m9\u001b[0m\u001b[1;33m]\u001b[0m\u001b[1;33m\u001b[0m\u001b[1;33m\u001b[0m\u001b[0m\n\u001b[0;32m      4\u001b[0m ]\n\u001b[1;32m----> 5\u001b[1;33m \u001b[0madd_matrices\u001b[0m\u001b[1;33m(\u001b[0m\u001b[0mA\u001b[0m\u001b[1;33m,\u001b[0m \u001b[0mC\u001b[0m\u001b[1;33m)\u001b[0m\u001b[1;33m\u001b[0m\u001b[1;33m\u001b[0m\u001b[0m\n\u001b[0m",
      "\u001b[1;32m<ipython-input-11-0bcc37971c13>\u001b[0m in \u001b[0;36madd_matrices\u001b[1;34m(A, B)\u001b[0m\n\u001b[0;32m     17\u001b[0m         \u001b[1;32mreturn\u001b[0m \u001b[0mresult\u001b[0m\u001b[1;33m\u001b[0m\u001b[1;33m\u001b[0m\u001b[0m\n\u001b[0;32m     18\u001b[0m     \u001b[1;32melse\u001b[0m\u001b[1;33m:\u001b[0m\u001b[1;33m\u001b[0m\u001b[1;33m\u001b[0m\u001b[0m\n\u001b[1;32m---> 19\u001b[1;33m         \u001b[1;32mraise\u001b[0m \u001b[0mException\u001b[0m\u001b[1;33m(\u001b[0m\u001b[1;34m\"Les dimensions ne correspondent pas.\"\u001b[0m\u001b[1;33m)\u001b[0m\u001b[1;33m\u001b[0m\u001b[1;33m\u001b[0m\u001b[0m\n\u001b[0m",
      "\u001b[1;31mException\u001b[0m: Les dimensions ne correspondent pas."
     ]
    }
   ],
   "source": [
    "C = [\n",
    "        [2, 11, 9],\n",
    "        [2, 8, 9]\n",
    "]\n",
    "add_matrices(A, C)"
   ]
  },
  {
   "cell_type": "code",
   "execution_count": 13,
   "metadata": {},
   "outputs": [
    {
     "data": {
      "text/plain": [
       "[[4, 7, 9, 8], [2, 2, 12, 5], [6, 2, 2, 11]]"
      ]
     },
     "execution_count": 13,
     "metadata": {},
     "output_type": "execute_result"
    }
   ],
   "source": [
    "add_matrices(A, B)"
   ]
  },
  {
   "cell_type": "code",
   "execution_count": 74,
   "metadata": {},
   "outputs": [],
   "source": [
    "def transpose_matrices(M):\n",
    "    n = len(M)\n",
    "    m = len(M[0])\n",
    "    result = []\n",
    "    for col in range(m):\n",
    "        line = []\n",
    "        for row in M:\n",
    "            line.append(row[col])\n",
    "        result.append(line)\n",
    "    return result"
   ]
  },
  {
   "cell_type": "code",
   "execution_count": 75,
   "metadata": {},
   "outputs": [
    {
     "data": {
      "text/plain": [
       "[[2, 4, 3, 1], [1, 0, 6, 3], [3, 1, 2, 7]]"
      ]
     },
     "execution_count": 75,
     "metadata": {},
     "output_type": "execute_result"
    }
   ],
   "source": [
    "A"
   ]
  },
  {
   "cell_type": "code",
   "execution_count": 76,
   "metadata": {},
   "outputs": [
    {
     "data": {
      "text/plain": [
       "[[2, 1, 3], [4, 0, 1], [3, 6, 2], [1, 3, 7]]"
      ]
     },
     "execution_count": 76,
     "metadata": {},
     "output_type": "execute_result"
    }
   ],
   "source": [
    "transpose_matrices(A)"
   ]
  },
  {
   "cell_type": "code",
   "execution_count": 77,
   "metadata": {},
   "outputs": [],
   "source": [
    "## Multiplication\n",
    "def mul_matrices(A, B):\n",
    "    \"\"\"\n",
    "    Multiplier deux matrices. \n",
    "    Dimensions de A : n_A, m_A\n",
    "    Dimensions de b : n_B, m_B\n",
    "    Pour multiplier les deux matrices, il faut que m_A = n_B\n",
    "    \"\"\"\n",
    "    n_A = len(A)\n",
    "    m_A = len(A[0])\n",
    "    \n",
    "    n_B = len(B)\n",
    "    m_B = len(B[0])\n",
    "    if m_A != n_B:\n",
    "        raise Exception(f\"Les dimensions ne correspondent pas. m_A={m_A} doit être égal à n_B={n_B}\")\n",
    "    result = []\n",
    "    for row in range(m_A):\n",
    "        col_sum = []\n",
    "        for col in range(n_B):\n",
    "            mul = A[row][col] * B[row][col]\n",
    "            col_sum.append(col)\n",
    "        result.append(sum(col_sum))\n",
    "    return result"
   ]
  },
  {
   "cell_type": "code",
   "execution_count": 79,
   "metadata": {},
   "outputs": [
    {
     "ename": "IndexError",
     "evalue": "list index out of range",
     "output_type": "error",
     "traceback": [
      "\u001b[1;31m---------------------------------------------------------------------------\u001b[0m",
      "\u001b[1;31mIndexError\u001b[0m                                Traceback (most recent call last)",
      "\u001b[1;32m<ipython-input-79-7008a754dc88>\u001b[0m in \u001b[0;36m<module>\u001b[1;34m()\u001b[0m\n\u001b[1;32m----> 1\u001b[1;33m \u001b[0mmul_matrices\u001b[0m\u001b[1;33m(\u001b[0m\u001b[0mA\u001b[0m\u001b[1;33m,\u001b[0m \u001b[0mtranspose_matrices\u001b[0m\u001b[1;33m(\u001b[0m\u001b[0mA\u001b[0m\u001b[1;33m)\u001b[0m\u001b[1;33m)\u001b[0m\u001b[1;33m\u001b[0m\u001b[1;33m\u001b[0m\u001b[0m\n\u001b[0m",
      "\u001b[1;32m<ipython-input-77-a046c1681e3e>\u001b[0m in \u001b[0;36mmul_matrices\u001b[1;34m(A, B)\u001b[0m\n\u001b[0;32m     18\u001b[0m         \u001b[0mcol_sum\u001b[0m \u001b[1;33m=\u001b[0m \u001b[1;33m[\u001b[0m\u001b[1;33m]\u001b[0m\u001b[1;33m\u001b[0m\u001b[1;33m\u001b[0m\u001b[0m\n\u001b[0;32m     19\u001b[0m         \u001b[1;32mfor\u001b[0m \u001b[0mcol\u001b[0m \u001b[1;32min\u001b[0m \u001b[0mrange\u001b[0m\u001b[1;33m(\u001b[0m\u001b[0mn_B\u001b[0m\u001b[1;33m)\u001b[0m\u001b[1;33m:\u001b[0m\u001b[1;33m\u001b[0m\u001b[1;33m\u001b[0m\u001b[0m\n\u001b[1;32m---> 20\u001b[1;33m             \u001b[0mmul\u001b[0m \u001b[1;33m=\u001b[0m \u001b[0mA\u001b[0m\u001b[1;33m[\u001b[0m\u001b[0mrow\u001b[0m\u001b[1;33m]\u001b[0m\u001b[1;33m[\u001b[0m\u001b[0mcol\u001b[0m\u001b[1;33m]\u001b[0m \u001b[1;33m*\u001b[0m \u001b[0mB\u001b[0m\u001b[1;33m[\u001b[0m\u001b[0mrow\u001b[0m\u001b[1;33m]\u001b[0m\u001b[1;33m[\u001b[0m\u001b[0mcol\u001b[0m\u001b[1;33m]\u001b[0m\u001b[1;33m\u001b[0m\u001b[1;33m\u001b[0m\u001b[0m\n\u001b[0m\u001b[0;32m     21\u001b[0m             \u001b[0mcol_sum\u001b[0m\u001b[1;33m.\u001b[0m\u001b[0mappend\u001b[0m\u001b[1;33m(\u001b[0m\u001b[0mcol\u001b[0m\u001b[1;33m)\u001b[0m\u001b[1;33m\u001b[0m\u001b[1;33m\u001b[0m\u001b[0m\n\u001b[0;32m     22\u001b[0m         \u001b[0mresult\u001b[0m\u001b[1;33m.\u001b[0m\u001b[0mappend\u001b[0m\u001b[1;33m(\u001b[0m\u001b[0msum\u001b[0m\u001b[1;33m(\u001b[0m\u001b[0mcol_sum\u001b[0m\u001b[1;33m)\u001b[0m\u001b[1;33m)\u001b[0m\u001b[1;33m\u001b[0m\u001b[1;33m\u001b[0m\u001b[0m\n",
      "\u001b[1;31mIndexError\u001b[0m: list index out of range"
     ]
    }
   ],
   "source": [
    "mul_matrices(A, transpose_matrices(A))"
   ]
  },
  {
   "cell_type": "markdown",
   "metadata": {},
   "source": [
    "# Inverse d'une matrice\n",
    "## ALgorithme de Gauss-Jordan"
   ]
  },
  {
   "cell_type": "code",
   "execution_count": 32,
   "metadata": {},
   "outputs": [],
   "source": [
    "def identity_matrix(n):\n",
    "    result = []\n",
    "    for i in range(n):\n",
    "        line = []\n",
    "        for j in range(n):\n",
    "            if i == j:\n",
    "                line.append(1)\n",
    "            else:\n",
    "                line.append(0)\n",
    "        result.append(line)\n",
    "    return result"
   ]
  },
  {
   "cell_type": "code",
   "execution_count": 34,
   "metadata": {},
   "outputs": [
    {
     "data": {
      "text/plain": [
       "[[1, 0, 0, 0, 0],\n",
       " [0, 1, 0, 0, 0],\n",
       " [0, 0, 1, 0, 0],\n",
       " [0, 0, 0, 1, 0],\n",
       " [0, 0, 0, 0, 1]]"
      ]
     },
     "execution_count": 34,
     "metadata": {},
     "output_type": "execute_result"
    }
   ],
   "source": [
    "identity_matrix(5)"
   ]
  },
  {
   "cell_type": "code",
   "execution_count": null,
   "metadata": {},
   "outputs": [],
   "source": []
  }
 ],
 "metadata": {
  "kernelspec": {
   "display_name": "Python 3",
   "language": "python",
   "name": "python3"
  },
  "language_info": {
   "codemirror_mode": {
    "name": "ipython",
    "version": 3
   },
   "file_extension": ".py",
   "mimetype": "text/x-python",
   "name": "python",
   "nbconvert_exporter": "python",
   "pygments_lexer": "ipython3",
   "version": "3.7.7"
  }
 },
 "nbformat": 4,
 "nbformat_minor": 4
}
