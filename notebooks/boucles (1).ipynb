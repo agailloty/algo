{
 "cells": [
  {
   "cell_type": "markdown",
   "id": "24449318-e4d5-4426-a998-b60fa0374d5f",
   "metadata": {},
   "source": [
    "# Les boucles\n",
    "Les boucles sont un type de contrôle de flux dans un programme.  \n",
    "Nous avons vu que **les alternatives permettent d'exécuter une ou plusieurs instructions lorsqu'une condition est vérifiée**.  \n",
    "Les boucles quant à elles permettent de répéter une plusieurs instructions. "
   ]
  },
  {
   "cell_type": "markdown",
   "id": "abc242ed-3b33-43ee-8833-598ad974444c",
   "metadata": {},
   "source": [
    "## La boucle `while`\n",
    "La boucle `while` permet d'exécuter une ou plusieurs instructions de manière repetée jusqu'à ce qu'une condition soit vérifiée."
   ]
  },
  {
   "cell_type": "code",
   "execution_count": 1,
   "id": "10cac9a1-c055-40e4-a270-0f8449a4c1f8",
   "metadata": {},
   "outputs": [
    {
     "name": "stdout",
     "output_type": "stream",
     "text": [
      "L'age 1 est inférieur à 30\n",
      "L'age 2 est inférieur à 30\n",
      "L'age 3 est inférieur à 30\n",
      "L'age 4 est inférieur à 30\n",
      "L'age 5 est inférieur à 30\n",
      "L'age 6 est inférieur à 30\n",
      "L'age 7 est inférieur à 30\n",
      "L'age 8 est inférieur à 30\n",
      "L'age 9 est inférieur à 30\n",
      "L'age 10 est inférieur à 30\n",
      "L'age 11 est inférieur à 30\n",
      "L'age 12 est inférieur à 30\n",
      "L'age 13 est inférieur à 30\n",
      "L'age 14 est inférieur à 30\n",
      "L'age 15 est inférieur à 30\n",
      "L'age 16 est inférieur à 30\n",
      "L'age 17 est inférieur à 30\n",
      "L'age 18 est inférieur à 30\n",
      "L'age 19 est inférieur à 30\n",
      "L'age 20 est inférieur à 30\n",
      "L'age 21 est inférieur à 30\n",
      "L'age 22 est inférieur à 30\n",
      "L'age 23 est inférieur à 30\n",
      "L'age 24 est inférieur à 30\n",
      "L'age 25 est inférieur à 30\n",
      "L'age 26 est inférieur à 30\n",
      "L'age 27 est inférieur à 30\n",
      "L'age 28 est inférieur à 30\n",
      "L'age 29 est inférieur à 30\n"
     ]
    }
   ],
   "source": [
    "max_age = 30\n",
    "age = 1\n",
    "while age < max_age: # Tant que age < max_age, alors exécuter le code qui suit.\n",
    "    print(f\"L'age {age} est inférieur à {max_age}\")\n",
    "    age = age + 1"
   ]
  },
  {
   "cell_type": "markdown",
   "id": "b87276d0-80a1-49ae-a731-bdeae55a5ac5",
   "metadata": {},
   "source": [
    "Dans la boucle `while` il est important de mettre à jour la condition lorsque le code tourne autrement la boucle tourne indéfiniment. "
   ]
  },
  {
   "cell_type": "markdown",
   "id": "6d0d2efa-9dcb-4b14-9790-ceafcc97a173",
   "metadata": {},
   "source": [
    "```python\n",
    "max_age = 30\n",
    "age = 1\n",
    "while age < max_age:\n",
    "    print(f\"L'age {age} est inférieur à {max_age}\")\n",
    "``` \n",
    "Si j'enlève l'instruction `age = age + 1` alors, toutes les fois que la boucle tourne alors age < max_age. La condition st toujours vérifiée, donc l'instruction print s'exécutera indéfiniment. "
   ]
  },
  {
   "cell_type": "code",
   "execution_count": 7,
   "id": "bf848fd4-1670-4c76-a512-daed521614e5",
   "metadata": {},
   "outputs": [
    {
     "name": "stdin",
     "output_type": "stream",
     "text": [
      " gf\n"
     ]
    }
   ],
   "source": [
    "msg = input()"
   ]
  },
  {
   "cell_type": "code",
   "execution_count": 6,
   "id": "21d910a1-043c-48c5-a54d-3385a543afa5",
   "metadata": {},
   "outputs": [
    {
     "name": "stdout",
     "output_type": "stream",
     "text": [
      "Bonjour\n"
     ]
    },
    {
     "name": "stdin",
     "output_type": "stream",
     "text": [
      " salut!\n"
     ]
    },
    {
     "name": "stdout",
     "output_type": "stream",
     "text": [
      "Bonjour\n"
     ]
    },
    {
     "name": "stdin",
     "output_type": "stream",
     "text": [
      " ça va\n"
     ]
    },
    {
     "name": "stdout",
     "output_type": "stream",
     "text": [
      "Bonjour\n"
     ]
    },
    {
     "name": "stdin",
     "output_type": "stream",
     "text": [
      " t'es qui?\n"
     ]
    },
    {
     "name": "stdout",
     "output_type": "stream",
     "text": [
      "Bonjour\n"
     ]
    },
    {
     "name": "stdin",
     "output_type": "stream",
     "text": [
      " bonjour\n"
     ]
    }
   ],
   "source": [
    "msg = \"\"\n",
    "while not \"bonjour\" in msg:\n",
    "    print(\"Bonjour\")\n",
    "    msg = input()"
   ]
  },
  {
   "cell_type": "code",
   "execution_count": null,
   "id": "51ca8ae6-1657-4467-ad0c-bdc609256211",
   "metadata": {},
   "outputs": [],
   "source": []
  },
  {
   "cell_type": "markdown",
   "id": "13d390c6-1b9a-478a-ab7b-63562db6d858",
   "metadata": {},
   "source": [
    "## La boucle `for` \n",
    "\n",
    "En Python la boucle for itère sur les éléments d'une séquence (qui peut être une liste, une chaîne de caractères…), dans l'ordre dans lequel ils apparaissent dans la séquence. "
   ]
  },
  {
   "cell_type": "code",
   "execution_count": 3,
   "id": "9298113a-f23e-4e9f-9cc5-e4451f475a34",
   "metadata": {},
   "outputs": [
    {
     "data": {
      "text/plain": [
       "list"
      ]
     },
     "execution_count": 3,
     "metadata": {},
     "output_type": "execute_result"
    }
   ],
   "source": [
    "# Pour déclarer une liste \n",
    "cours = [\"Economie\", \"Biologie\", \"Chimie\"]\n",
    "type(cours)"
   ]
  },
  {
   "cell_type": "code",
   "execution_count": null,
   "id": "192bc20c-a1c0-483c-928a-e72347ea26ac",
   "metadata": {},
   "outputs": [],
   "source": []
  },
  {
   "cell_type": "code",
   "execution_count": 4,
   "id": "3f1c0996-13b1-49be-bde8-fb374df1f2de",
   "metadata": {},
   "outputs": [
    {
     "data": {
      "text/plain": [
       "['08', '03', '05', '11']"
      ]
     },
     "execution_count": 4,
     "metadata": {},
     "output_type": "execute_result"
    }
   ],
   "source": [
    "numero = \"08-03-05-11\"\n",
    "numero.split(\"-\")"
   ]
  },
  {
   "cell_type": "code",
   "execution_count": 5,
   "id": "1df7d752-0e20-41b6-98c1-5d0e84753143",
   "metadata": {},
   "outputs": [
    {
     "data": {
      "text/plain": [
       "str"
      ]
     },
     "execution_count": 5,
     "metadata": {},
     "output_type": "execute_result"
    }
   ],
   "source": [
    "type(numero)"
   ]
  },
  {
   "cell_type": "code",
   "execution_count": 9,
   "id": "4cf85c5e-9885-4e8c-bcbb-fb072dfba296",
   "metadata": {},
   "outputs": [
    {
     "name": "stdout",
     "output_type": "stream",
     "text": [
      "pomme\n",
      "ananas\n",
      "goyave\n",
      "mangue\n"
     ]
    }
   ],
   "source": [
    "fruits = [\"pomme\", \"ananas\", \"goyave\", \"mangue\"]\n",
    "# Onn décalre une variable d'itération\n",
    "# Assignée à chaque élement de la séquence. \n",
    "# L'avantage c'est qu'on a pas besoin de savoir le nombre \n",
    "# d'élements qu'il y a dans la séquence\n",
    "for el in fruits:\n",
    "    print(el)"
   ]
  },
  {
   "cell_type": "code",
   "execution_count": 53,
   "id": "a354dcd9-e456-482a-a71c-4b272e637ff5",
   "metadata": {},
   "outputs": [
    {
     "data": {
      "text/plain": [
       "'Il a dit \"Bonjour\" '"
      ]
     },
     "execution_count": 53,
     "metadata": {},
     "output_type": "execute_result"
    }
   ],
   "source": [
    "\"Il a dit \\\"Bonjour\\\" \""
   ]
  },
  {
   "cell_type": "code",
   "execution_count": 51,
   "id": "3cb779f4-b9c1-42c7-b693-2f467a607b32",
   "metadata": {},
   "outputs": [
    {
     "data": {
      "text/plain": [
       "'Il a dit \"Bonjour\" '"
      ]
     },
     "execution_count": 51,
     "metadata": {},
     "output_type": "execute_result"
    }
   ],
   "source": [
    "'Il a dit \"Bonjour\" ' "
   ]
  },
  {
   "cell_type": "code",
   "execution_count": 44,
   "id": "1a500dd5-768b-41ab-8135-dea1da093b7f",
   "metadata": {},
   "outputs": [
    {
     "name": "stdout",
     "output_type": "stream",
     "text": [
      "Le service mail est : gmail.com\n",
      "Le prénom est : jean\n",
      "Le service mail est : yahoo.fr\n",
      "Le prénom est : alfred\n",
      "Le service mail est : outlook.com\n",
      "Le prénom est : john\n"
     ]
    }
   ],
   "source": [
    "emails = [\"jean@gmail.com\", \"alfred@yahoo.fr\", \"john@outlook.com\"]\n",
    "# Obtenir les services de messagerie\n",
    "for mail in emails:\n",
    "    print(f\"Le service mail est : {mail.split('@')[1]}\")\n",
    "    print(f\"Le prénom est : {mail.split('@')[0]}\")"
   ]
  },
  {
   "cell_type": "code",
   "execution_count": 48,
   "id": "5a28123d-7ba7-48bf-acf7-49f12d981d54",
   "metadata": {},
   "outputs": [
    {
     "data": {
      "text/plain": [
       "['jean', 'gma', 'il.com']"
      ]
     },
     "execution_count": 48,
     "metadata": {},
     "output_type": "execute_result"
    }
   ],
   "source": [
    "\"jean@gma@il.com\".split(\"@\")"
   ]
  },
  {
   "cell_type": "code",
   "execution_count": 40,
   "id": "82e3b9ba-2626-40be-8267-1c80becb23d5",
   "metadata": {},
   "outputs": [
    {
     "name": "stdout",
     "output_type": "stream",
     "text": [
      "jean\n"
     ]
    }
   ],
   "source": [
    "mail = \"jean@gmail.com\".split(\"@\")\n",
    "print(mail[0])"
   ]
  },
  {
   "cell_type": "code",
   "execution_count": 42,
   "id": "d85ec999-1b17-4f29-ac84-950c8bb49c14",
   "metadata": {},
   "outputs": [
    {
     "data": {
      "text/plain": [
       "['jean', 'gmail.com']"
      ]
     },
     "execution_count": 42,
     "metadata": {},
     "output_type": "execute_result"
    }
   ],
   "source": [
    "mail"
   ]
  },
  {
   "cell_type": "code",
   "execution_count": 41,
   "id": "3222a25b-b865-48df-b6b1-04a7a12b902f",
   "metadata": {},
   "outputs": [
    {
     "name": "stdout",
     "output_type": "stream",
     "text": [
      "gmail.com\n"
     ]
    }
   ],
   "source": [
    "print(mail[1])"
   ]
  },
  {
   "cell_type": "code",
   "execution_count": 34,
   "id": "b097e9ce-b3fa-4441-9c8f-da66c67c3b55",
   "metadata": {},
   "outputs": [
    {
     "name": "stdout",
     "output_type": "stream",
     "text": [
      "pomme\n",
      "['p', 'mme']\n",
      "ananas\n",
      "['ananas']\n",
      "goyave\n",
      "['g', 'yave']\n",
      "mangue\n",
      "['mangue']\n"
     ]
    }
   ],
   "source": [
    "fruits = (\"pomme\", \"ananas\", \"goyave\", \"mangue\") # le type de la séquence n'est pas importante\n",
    "# list, tuple, dictionaire ...\n",
    "for el in fruits:\n",
    "    print(el)\n",
    "    print(el.split(\"o\"))"
   ]
  },
  {
   "cell_type": "markdown",
   "id": "9c12486c-f226-4876-a295-c0bce93eef3a",
   "metadata": {},
   "source": [
    "La fonction `range()` nous permet de générer une séquence de nombre. Nous pouvons générer une séquence de nombres sur lesquels itérer. "
   ]
  },
  {
   "cell_type": "code",
   "execution_count": 11,
   "id": "c763caaa-557e-402b-8bca-07d01ceb984b",
   "metadata": {},
   "outputs": [
    {
     "data": {
      "text/plain": [
       "range(0, 10)"
      ]
     },
     "execution_count": 11,
     "metadata": {},
     "output_type": "execute_result"
    }
   ],
   "source": [
    "range(10)"
   ]
  },
  {
   "cell_type": "code",
   "execution_count": 12,
   "id": "f7ee6a15-16f2-40c6-93b7-0a8403cbf99b",
   "metadata": {},
   "outputs": [
    {
     "data": {
      "text/plain": [
       "[0, 1, 2, 3, 4, 5, 6, 7, 8, 9]"
      ]
     },
     "execution_count": 12,
     "metadata": {},
     "output_type": "execute_result"
    }
   ],
   "source": [
    "list(range(10))"
   ]
  },
  {
   "cell_type": "code",
   "execution_count": 14,
   "id": "114f51fc-5b29-4f7b-8861-9790e95caaba",
   "metadata": {},
   "outputs": [
    {
     "data": {
      "text/plain": [
       "[1, 2, 3, 4, 5, 6, 7, 8, 9, 10, 11, 12, 13, 14, 15, 16, 17, 18, 19, 20]"
      ]
     },
     "execution_count": 14,
     "metadata": {},
     "output_type": "execute_result"
    }
   ],
   "source": [
    "# Exemple : générer une séquence de 20 nombres consécutifs\n",
    "# Range(n) crée une séquence de 0, n-1 élements\n",
    "list(range(1, 21))"
   ]
  },
  {
   "cell_type": "code",
   "execution_count": 5,
   "id": "19d9f0da-8562-40e2-ac50-83463ed93a1e",
   "metadata": {},
   "outputs": [
    {
     "data": {
      "text/plain": [
       "[10, 11, 12, 13, 14, 15, 16, 17, 18, 19, 20, 21, 22, 23, 24]"
      ]
     },
     "execution_count": 5,
     "metadata": {},
     "output_type": "execute_result"
    }
   ],
   "source": [
    "# Nous pouvons choisir le début et la fin \n",
    "list(range(10, 25))"
   ]
  },
  {
   "cell_type": "code",
   "execution_count": 16,
   "id": "2d957234-40ac-4ae3-a21a-4bbe3171eade",
   "metadata": {},
   "outputs": [
    {
     "name": "stdout",
     "output_type": "stream",
     "text": [
      "[0, 1, 2, 3, 4, 5, 6, 7, 8, 9, 10, 11, 12, 13, 14, 15, 16, 17, 18, 19]\n",
      "Le nombre actuel est 0\n",
      "Le nombre actuel est 1\n",
      "Le nombre actuel est 2\n",
      "Le nombre actuel est 3\n",
      "Le nombre actuel est 4\n",
      "Le nombre actuel est 5\n",
      "Le nombre actuel est 6\n",
      "Le nombre actuel est 7\n",
      "Le nombre actuel est 8\n",
      "Le nombre actuel est 9\n",
      "Le nombre actuel est 10\n",
      "Le nombre actuel est 11\n",
      "Le nombre actuel est 12\n",
      "Le nombre actuel est 13\n",
      "Le nombre actuel est 14\n",
      "Le nombre actuel est 15\n",
      "Le nombre actuel est 16\n",
      "Le nombre actuel est 17\n",
      "Le nombre actuel est 18\n",
      "Le nombre actuel est 19\n"
     ]
    }
   ],
   "source": [
    "# ous pouvons itérer ainsi\n",
    "print(list(range(20)))\n",
    "for i in range(20):\n",
    "    print(f\"Le nombre actuel est {i}\")"
   ]
  },
  {
   "cell_type": "markdown",
   "id": "760e2814-14b9-45b7-b47d-1c144fef82d0",
   "metadata": {},
   "source": [
    " % : modulo  \n",
    " Division et ne prend que la partie entière.  "
   ]
  },
  {
   "cell_type": "code",
   "execution_count": 18,
   "id": "9fbc93f7-a60b-46d1-a446-0593d4f2e212",
   "metadata": {},
   "outputs": [
    {
     "data": {
      "text/plain": [
       "2.0"
      ]
     },
     "execution_count": 18,
     "metadata": {},
     "output_type": "execute_result"
    }
   ],
   "source": [
    "4/2"
   ]
  },
  {
   "cell_type": "code",
   "execution_count": 17,
   "id": "59ff9472-e936-400f-a19d-57e569b7122b",
   "metadata": {},
   "outputs": [
    {
     "data": {
      "text/plain": [
       "0"
      ]
     },
     "execution_count": 17,
     "metadata": {},
     "output_type": "execute_result"
    }
   ],
   "source": [
    "4 % 2 \n",
    "# Si 4 est divisé par 2 on trouve un nombre entier"
   ]
  },
  {
   "cell_type": "code",
   "execution_count": 20,
   "id": "b8880ed2-9657-410e-bc2a-ae9bde33e48e",
   "metadata": {},
   "outputs": [
    {
     "data": {
      "text/plain": [
       "1.3333333333333333"
      ]
     },
     "execution_count": 20,
     "metadata": {},
     "output_type": "execute_result"
    }
   ],
   "source": [
    "4/3"
   ]
  },
  {
   "cell_type": "code",
   "execution_count": 19,
   "id": "f935db88-da27-48b6-9442-42fb75ef42aa",
   "metadata": {},
   "outputs": [
    {
     "data": {
      "text/plain": [
       "1"
      ]
     },
     "execution_count": 19,
     "metadata": {},
     "output_type": "execute_result"
    }
   ],
   "source": [
    "4%3"
   ]
  },
  {
   "cell_type": "code",
   "execution_count": 25,
   "id": "ef7cdfc0-35ca-4d42-ab27-6356563cb39c",
   "metadata": {},
   "outputs": [
    {
     "data": {
      "text/plain": [
       "2.6315789473684212"
      ]
     },
     "execution_count": 25,
     "metadata": {},
     "output_type": "execute_result"
    }
   ],
   "source": [
    "50/19"
   ]
  },
  {
   "cell_type": "code",
   "execution_count": 32,
   "id": "c5bbefe6-98b9-47ce-9478-c2b653f462c4",
   "metadata": {},
   "outputs": [
    {
     "data": {
      "text/plain": [
       "12.000000000000004"
      ]
     },
     "execution_count": 32,
     "metadata": {},
     "output_type": "execute_result"
    }
   ],
   "source": [
    "19 * .6315789473684212"
   ]
  },
  {
   "cell_type": "code",
   "execution_count": 26,
   "id": "ac2195ba-b61a-4283-8a5a-f6593dcfeac9",
   "metadata": {},
   "outputs": [
    {
     "name": "stdout",
     "output_type": "stream",
     "text": [
      "12\n"
     ]
    }
   ],
   "source": [
    "x = 50 - 19\n",
    "x = x- 19\n",
    "print(x)"
   ]
  },
  {
   "cell_type": "code",
   "execution_count": 28,
   "id": "de1f7bd3-eb13-4bcf-9a14-101d08373f55",
   "metadata": {},
   "outputs": [
    {
     "data": {
      "text/plain": [
       "True"
      ]
     },
     "execution_count": 28,
     "metadata": {},
     "output_type": "execute_result"
    }
   ],
   "source": [
    "50 == 2 * 19 + 12"
   ]
  },
  {
   "cell_type": "code",
   "execution_count": 31,
   "id": "90d5c1c4-4fd5-4beb-a15c-c20da2c66f4f",
   "metadata": {},
   "outputs": [
    {
     "data": {
      "text/plain": [
       "0"
      ]
     },
     "execution_count": 31,
     "metadata": {},
     "output_type": "execute_result"
    }
   ],
   "source": [
    "20  % 10"
   ]
  },
  {
   "cell_type": "code",
   "execution_count": 30,
   "id": "080bd993-d909-4c14-9048-331262dce16b",
   "metadata": {},
   "outputs": [
    {
     "name": "stdout",
     "output_type": "stream",
     "text": [
      "0\n"
     ]
    }
   ],
   "source": [
    "x = 20\n",
    "x = x - 10\n",
    "x = x - 10\n",
    "print(x)"
   ]
  },
  {
   "cell_type": "code",
   "execution_count": 24,
   "id": "a3ca309f-7f8c-48a8-8156-e22855782806",
   "metadata": {},
   "outputs": [
    {
     "data": {
      "text/plain": [
       "12"
      ]
     },
     "execution_count": 24,
     "metadata": {},
     "output_type": "execute_result"
    }
   ],
   "source": [
    "50%19"
   ]
  },
  {
   "cell_type": "code",
   "execution_count": 22,
   "id": "737bf381-1b08-4b0e-a075-ae4f4ab3bf31",
   "metadata": {},
   "outputs": [
    {
     "name": "stdout",
     "output_type": "stream",
     "text": [
      "[0, 1, 2, 3, 4, 5, 6, 7, 8, 9, 10, 11, 12, 13, 14, 15, 16, 17, 18, 19, 20, 21, 22, 23, 24, 25, 26, 27, 28, 29, 30, 31, 32, 33, 34, 35, 36, 37, 38, 39]\n",
      "\n",
      "Le nombre pair est 0\n",
      "Le nombre pair est 2\n",
      "Le nombre pair est 4\n",
      "Le nombre pair est 6\n",
      "Le nombre pair est 8\n",
      "Le nombre pair est 10\n",
      "Le nombre pair est 12\n",
      "Le nombre pair est 14\n",
      "Le nombre pair est 16\n",
      "Le nombre pair est 18\n",
      "Le nombre pair est 20\n",
      "Le nombre pair est 22\n",
      "Le nombre pair est 24\n",
      "Le nombre pair est 26\n",
      "Le nombre pair est 28\n",
      "Le nombre pair est 30\n",
      "Le nombre pair est 32\n",
      "Le nombre pair est 34\n",
      "Le nombre pair est 36\n",
      "Le nombre pair est 38\n"
     ]
    }
   ],
   "source": [
    "print(list(range(40)))\n",
    "print()\n",
    "for i in range(40):\n",
    "    if i%2==0:\n",
    "        print(f\"Le nombre pair est {i}\")"
   ]
  },
  {
   "cell_type": "markdown",
   "id": "a6b6077a-92db-47eb-9994-5513e650dc73",
   "metadata": {},
   "source": [
    "# Application : calculs moyenne, variance, écart-type, covariance"
   ]
  },
  {
   "cell_type": "markdown",
   "id": "3f327262-2e5e-4890-a156-51386637c978",
   "metadata": {},
   "source": [
    "## Données \n",
    "Soit la répartition de la taille des étudiants : "
   ]
  },
  {
   "cell_type": "code",
   "execution_count": 65,
   "id": "16afc91d-b15d-4e35-bf45-3fe3c00c3b1b",
   "metadata": {},
   "outputs": [
    {
     "name": "stdout",
     "output_type": "stream",
     "text": [
      "\n",
      "La moyenne est 1.8239999999999998\n"
     ]
    }
   ],
   "source": [
    "tailles = [1.90, 1.75, 1.88, 1.87, 2.04, 1.65, 1.77, 1.78, 1.81, 1.79]\n",
    "somme = 0\n",
    "n = 0\n",
    "for taille in tailles:\n",
    "    n = n+1\n",
    "    somme = somme + taille\n",
    "    #print(f\"La valeur actuelle de somme est : {somme}\")\n",
    "print()\n",
    "moyenne = somme / n\n",
    "print(f\"La moyenne est {moyenne}\")"
   ]
  },
  {
   "cell_type": "code",
   "execution_count": 66,
   "id": "07386213-b13b-4c07-95b4-a52c1a28a497",
   "metadata": {},
   "outputs": [
    {
     "name": "stdout",
     "output_type": "stream",
     "text": [
      "\n",
      "La moyenne est 1.8239999999999998\n",
      "Taille initiale de la liste : 13\n",
      "Taille finale de la liste : 10\n"
     ]
    }
   ],
   "source": [
    "tailles = [1.90, 1.75, 0, 0, 1.88, 1.87, 2.04, 1.65, 1.77, 0, 1.78, 1.81, 1.79]\n",
    "somme = 0\n",
    "n = 0\n",
    "# Calculer la moyenne mais en excluant les 0\n",
    "for taille in tailles:\n",
    "    if taille != 0:\n",
    "        n = n+1\n",
    "        somme = somme + taille\n",
    "    #print(f\"La valeur actuelle de somme est : {somme}\")\n",
    "print()\n",
    "moyenne = somme / n\n",
    "print(f\"La moyenne est {moyenne}\")\n",
    "print(f\"Taille initiale de la liste : {len(tailles)}\")\n",
    "print(f\"Taille finale de la liste : {n}\")"
   ]
  },
  {
   "cell_type": "markdown",
   "id": "951fb1dd-2759-49a0-8393-cfe7211fc465",
   "metadata": {},
   "source": [
    "**Calculer la moyenne :** \n",
    "\n",
    "Pour rappel la formule de la moyenne est  \n",
    "\n",
    "![](images/moyenne.jpg)"
   ]
  },
  {
   "cell_type": "code",
   "execution_count": null,
   "id": "9c26f4da-bb4b-49f9-91e3-871583d235cb",
   "metadata": {},
   "outputs": [],
   "source": []
  },
  {
   "cell_type": "markdown",
   "id": "bd20ab93-ad0d-4571-b574-6c6388393ad3",
   "metadata": {},
   "source": [
    "**Calculer la variance :**\n",
    "\n",
    "Pour rappel la formule de la variance est:  \n",
    "\n",
    "![](images/variance-formula.png)"
   ]
  },
  {
   "cell_type": "code",
   "execution_count": null,
   "id": "8e4d0223-032e-4b84-af64-722b537871ef",
   "metadata": {},
   "outputs": [],
   "source": []
  },
  {
   "cell_type": "markdown",
   "id": "3353e7dd-d139-430b-980c-ebf0e6012f88",
   "metadata": {},
   "source": [
    "**Calculer l'écart-type :**  \n",
    "L'écart-type est égal à la racine carrée de la variance. "
   ]
  },
  {
   "cell_type": "code",
   "execution_count": null,
   "id": "79995e87-6b8a-4113-accf-d914fad00c20",
   "metadata": {},
   "outputs": [],
   "source": []
  },
  {
   "cell_type": "markdown",
   "id": "9dca0478-7282-4541-b562-6bbbaab7d75e",
   "metadata": {},
   "source": [
    "Nous avons aussi la distribution du poids des étudiants : "
   ]
  },
  {
   "cell_type": "code",
   "execution_count": 10,
   "id": "b444fa87-79af-438e-bf5e-89617adc5d79",
   "metadata": {},
   "outputs": [],
   "source": [
    "poids = [95, 75, 70, 77, 103, 60, 71, 66, 80, 69]"
   ]
  },
  {
   "cell_type": "markdown",
   "id": "9e827316-f3d2-46e1-9a2c-38c22dc24eca",
   "metadata": {},
   "source": [
    "**Calculer la moyenne :**"
   ]
  },
  {
   "cell_type": "code",
   "execution_count": null,
   "id": "bde5a536-e4d1-4e15-8fc2-994b78644644",
   "metadata": {},
   "outputs": [],
   "source": []
  },
  {
   "cell_type": "markdown",
   "id": "13cfb510-7f48-4de1-8ae8-ffa07cbd7e36",
   "metadata": {},
   "source": [
    "**Calculer la variance :**"
   ]
  },
  {
   "cell_type": "code",
   "execution_count": null,
   "id": "df08877f-09e1-4704-9ad5-8cce6c350858",
   "metadata": {},
   "outputs": [],
   "source": []
  },
  {
   "cell_type": "markdown",
   "id": "aa227a7f-793b-4fa3-ab00-ef386536e55f",
   "metadata": {},
   "source": [
    "**Calculer l'écart-type :**"
   ]
  },
  {
   "cell_type": "code",
   "execution_count": null,
   "id": "735905b8-8e31-4e75-b106-3f6d098f6446",
   "metadata": {},
   "outputs": [],
   "source": []
  },
  {
   "cell_type": "markdown",
   "id": "b74fb0a9-ba08-4d75-830c-a51ca384ab57",
   "metadata": {},
   "source": [
    "**Calculer la covariance entre tailles et âges :**  \n",
    "Pour rappel, la covariance entre X et Y est :  \n",
    "\n",
    "![](images/covariance.png)"
   ]
  },
  {
   "cell_type": "code",
   "execution_count": null,
   "id": "3746e8cf-30e8-4948-b0ee-bcbf6670a54d",
   "metadata": {},
   "outputs": [],
   "source": []
  }
 ],
 "metadata": {
  "kernelspec": {
   "display_name": "Python 3 (ipykernel)",
   "language": "python",
   "name": "python3"
  },
  "language_info": {
   "codemirror_mode": {
    "name": "ipython",
    "version": 3
   },
   "file_extension": ".py",
   "mimetype": "text/x-python",
   "name": "python",
   "nbconvert_exporter": "python",
   "pygments_lexer": "ipython3",
   "version": "3.7.12"
  }
 },
 "nbformat": 4,
 "nbformat_minor": 5
}
