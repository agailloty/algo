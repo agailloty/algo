{
 "cells": [
  {
   "cell_type": "markdown",
   "metadata": {},
   "source": [
    "# Les OLS simples"
   ]
  },
  {
   "cell_type": "markdown",
   "metadata": {},
   "source": [
    "Les formules à implémenter pour estimer les coefficients de la régression linéaire simple $a, \\beta$  \n"
   ]
  },
  {
   "cell_type": "code",
   "execution_count": 1,
   "metadata": {},
   "outputs": [],
   "source": [
    "# Calcul de la moyenne\n",
    "def mean(data:list):\n",
    "    total = 0.0\n",
    "    for i in data:\n",
    "        total = total + i\n",
    "    return total / len(data)"
   ]
  },
  {
   "cell_type": "code",
   "execution_count": 2,
   "metadata": {},
   "outputs": [],
   "source": [
    "X = [1, 2, 0, 3, 1, 8, 7, 9, 1]"
   ]
  },
  {
   "cell_type": "code",
   "execution_count": 3,
   "metadata": {},
   "outputs": [
    {
     "data": {
      "text/plain": [
       "3.5555555555555554"
      ]
     },
     "execution_count": 3,
     "metadata": {},
     "output_type": "execute_result"
    }
   ],
   "source": [
    "mean(X)"
   ]
  },
  {
   "cell_type": "code",
   "execution_count": 4,
   "metadata": {},
   "outputs": [],
   "source": [
    "def variance(data:list):\n",
    "    squaredData = []\n",
    "    for i in data:\n",
    "        squaredData.append(i**2)\n",
    "    #squaredData = [i**2 for i in data]\n",
    "    return mean(squaredData) - mean(data)**2"
   ]
  },
  {
   "cell_type": "code",
   "execution_count": 5,
   "metadata": {},
   "outputs": [
    {
     "data": {
      "text/plain": [
       "10.691358024691358"
      ]
     },
     "execution_count": 5,
     "metadata": {},
     "output_type": "execute_result"
    }
   ],
   "source": [
    "variance(X)"
   ]
  },
  {
   "cell_type": "code",
   "execution_count": 6,
   "metadata": {},
   "outputs": [],
   "source": [
    "def stdev(data:list):\n",
    "    return variance(data) ** 0.5"
   ]
  },
  {
   "cell_type": "code",
   "execution_count": 7,
   "metadata": {},
   "outputs": [
    {
     "data": {
      "text/plain": [
       "3.269764215458258"
      ]
     },
     "execution_count": 7,
     "metadata": {},
     "output_type": "execute_result"
    }
   ],
   "source": [
    "stdev(X)"
   ]
  },
  {
   "cell_type": "code",
   "execution_count": 8,
   "metadata": {},
   "outputs": [],
   "source": [
    "def covariance(X, y):\n",
    "    nX = len(X) # X et y sont de la même taille\n",
    "    ny = len(y)\n",
    "    if nX == ny:\n",
    "        Xy = []\n",
    "        for i in range(nX):\n",
    "            Xy.append(X[i] * y[i])\n",
    "        meanX = mean(X)\n",
    "        meanY = mean(y)\n",
    "        return mean(Xy) - (meanX * meanY)\n",
    "    print(\"Longueur X: \", nX)\n",
    "    print(\"Longeur y: \", ny)\n",
    "    raise Exception(\"X et y doivent être de taille identique\")"
   ]
  },
  {
   "cell_type": "code",
   "execution_count": 9,
   "metadata": {},
   "outputs": [],
   "source": [
    "X = [2.2, 3.1, 3.7, 4,1, 4.4, 4.7, 5, 5.4, 6, 7]"
   ]
  },
  {
   "cell_type": "code",
   "execution_count": 10,
   "metadata": {},
   "outputs": [],
   "source": [
    "y = [2.7, 2.9, 3.2, 4, 4.5, 4.9, 5, 6.7, 7.2, 8, 8.9]"
   ]
  },
  {
   "cell_type": "code",
   "execution_count": 11,
   "metadata": {},
   "outputs": [
    {
     "data": {
      "text/plain": [
       "2.711652892561979"
      ]
     },
     "execution_count": 11,
     "metadata": {},
     "output_type": "execute_result"
    }
   ],
   "source": [
    "covariance(X, y)"
   ]
  },
  {
   "cell_type": "code",
   "execution_count": 12,
   "metadata": {},
   "outputs": [
    {
     "data": {
      "text/plain": [
       "True"
      ]
     },
     "execution_count": 12,
     "metadata": {},
     "output_type": "execute_result"
    }
   ],
   "source": [
    "covariance(X, X) == variance(X)"
   ]
  },
  {
   "cell_type": "code",
   "execution_count": 13,
   "metadata": {},
   "outputs": [
    {
     "data": {
      "text/plain": [
       "2.711652892561979"
      ]
     },
     "execution_count": 13,
     "metadata": {},
     "output_type": "execute_result"
    }
   ],
   "source": [
    "covariance(y, X)"
   ]
  },
  {
   "cell_type": "markdown",
   "metadata": {},
   "source": [
    "# Calcul des coefficients du MCO"
   ]
  },
  {
   "cell_type": "markdown",
   "metadata": {},
   "source": [
    "La formule de l'estimateur des moindres carrés ordinaires.  \n",
    "$$\\hat{y} = \\hat{a}\\bar{X}$$"
   ]
  },
  {
   "cell_type": "code",
   "execution_count": 14,
   "metadata": {},
   "outputs": [
    {
     "data": {
      "text/plain": [
       "[2.0, 3.0, 4.0, 5.0, 6.0]"
      ]
     },
     "execution_count": 14,
     "metadata": {},
     "output_type": "execute_result"
    }
   ],
   "source": [
    "from math import sqrt # Pour calculer la racine carrée d'un nombre\n",
    "# Exemple\n",
    "[sqrt(x) for x in [4, 9, 16, 25, 36]]"
   ]
  },
  {
   "cell_type": "markdown",
   "metadata": {},
   "source": [
    "Calculons $\\beta$  \n",
    "La formule pour déterminer $\\beta$\n",
    "\n",
    "![images/b_formula.png](images/b_formula.png)\n",
    "\n",
    "$$\\beta = \\frac{Cov(X, y)}{V(X)}$$"
   ]
  },
  {
   "cell_type": "code",
   "execution_count": 15,
   "metadata": {},
   "outputs": [],
   "source": [
    "beta = covariance(X, y) / variance(X)"
   ]
  },
  {
   "cell_type": "code",
   "execution_count": 16,
   "metadata": {},
   "outputs": [
    {
     "data": {
      "text/plain": [
       "1.0221495327102788"
      ]
     },
     "execution_count": 16,
     "metadata": {},
     "output_type": "execute_result"
    }
   ],
   "source": [
    "beta"
   ]
  },
  {
   "cell_type": "markdown",
   "metadata": {},
   "source": [
    "La formula pour déterminer $a$  \n",
    "\n",
    "![images/a_formula.png](images/a_formula.png)"
   ]
  },
  {
   "cell_type": "code",
   "execution_count": 17,
   "metadata": {},
   "outputs": [],
   "source": [
    "a = mean(y) - (beta * mean(X))"
   ]
  },
  {
   "cell_type": "code",
   "execution_count": 18,
   "metadata": {},
   "outputs": [
    {
     "data": {
      "text/plain": [
       "0.9518224299065494"
      ]
     },
     "execution_count": 18,
     "metadata": {},
     "output_type": "execute_result"
    }
   ],
   "source": [
    "a"
   ]
  },
  {
   "cell_type": "markdown",
   "metadata": {},
   "source": [
    "$$\\hat{y_i} = 0.9518 + 1.021 * x_i$$"
   ]
  },
  {
   "cell_type": "code",
   "execution_count": 19,
   "metadata": {},
   "outputs": [],
   "source": [
    "def predict(x_i:float):\n",
    "    y_hat = a + beta * x_i\n",
    "    return y_hat"
   ]
  },
  {
   "cell_type": "code",
   "execution_count": 20,
   "metadata": {},
   "outputs": [
    {
     "data": {
      "text/plain": [
       "[(2.7, 3.2005514018691628),\n",
       " (2.9, 4.120485981308414),\n",
       " (3.2, 4.733775700934581),\n",
       " (4, 5.040420560747664),\n",
       " (4.5, 1.9739719626168282),\n",
       " (4.9, 5.449280373831776),\n",
       " (5, 5.755925233644859),\n",
       " (6.7, 6.062570093457943),\n",
       " (7.2, 6.471429906542055),\n",
       " (8, 7.084719626168222),\n",
       " (8.9, 8.106869158878501)]"
      ]
     },
     "execution_count": 20,
     "metadata": {},
     "output_type": "execute_result"
    }
   ],
   "source": [
    "predicted = [predict(x) for x in X]\n",
    "list(zip(y, predicted))"
   ]
  },
  {
   "cell_type": "markdown",
   "metadata": {},
   "source": [
    "# Diagnostic"
   ]
  },
  {
   "cell_type": "code",
   "execution_count": 21,
   "metadata": {},
   "outputs": [
    {
     "data": {
      "text/plain": [
       "[0.2505517059131839,\n",
       " 1.4895860305703614,\n",
       " 2.352467900777365,\n",
       " 1.0824749432264844,\n",
       " 6.380817645645879,\n",
       " 0.3017089290767753,\n",
       " 0.5714229588610353,\n",
       " 0.4063168857542161,\n",
       " 0.5308143810813185,\n",
       " 0.8377381627216394,\n",
       " 0.6290565311380969]"
      ]
     },
     "execution_count": 21,
     "metadata": {},
     "output_type": "execute_result"
    }
   ],
   "source": [
    "#RMSE : root mean squared error\n",
    "diff = []\n",
    "n = len(y)\n",
    "for i in range(n):\n",
    "    diff.append((y[i] - predicted[i])**2)\n",
    "diff"
   ]
  },
  {
   "cell_type": "code",
   "execution_count": 22,
   "metadata": {},
   "outputs": [
    {
     "data": {
      "text/plain": [
       "1.348450552251487"
      ]
     },
     "execution_count": 22,
     "metadata": {},
     "output_type": "execute_result"
    }
   ],
   "source": [
    "sum(diff)/len(diff)"
   ]
  },
  {
   "cell_type": "markdown",
   "metadata": {},
   "source": [
    "# Calculer le $R^2$"
   ]
  },
  {
   "cell_type": "code",
   "execution_count": 23,
   "metadata": {},
   "outputs": [
    {
     "data": {
      "text/plain": [
       "([2.2, 3.1, 3.7, 4, 1, 4.4, 4.7, 5, 5.4, 6, 7],\n",
       " [2.7, 2.9, 3.2, 4, 4.5, 4.9, 5, 6.7, 7.2, 8, 8.9])"
      ]
     },
     "execution_count": 23,
     "metadata": {},
     "output_type": "execute_result"
    }
   ],
   "source": [
    "(X, y)"
   ]
  },
  {
   "cell_type": "code",
   "execution_count": 24,
   "metadata": {},
   "outputs": [
    {
     "name": "stdout",
     "output_type": "stream",
     "text": [
      "R^2 : 0.6727193067307912\n"
     ]
    }
   ],
   "source": [
    "# coefficient de détermination\n",
    "sigmaX = sqrt(variance(X))\n",
    "sigmaY = sqrt(variance(y))\n",
    "correl = covariance(X, y) /  (sigmaX * sigmaY)\n",
    "print(\"R^2 :\", correl**2)"
   ]
  },
  {
   "cell_type": "code",
   "execution_count": 25,
   "metadata": {},
   "outputs": [],
   "source": [
    "# Vérifier nos résultats avec statsmodels"
   ]
  },
  {
   "cell_type": "code",
   "execution_count": 26,
   "metadata": {},
   "outputs": [],
   "source": [
    "import statsmodels.api as sm\n",
    "X_c = sm.add_constant(X)"
   ]
  },
  {
   "cell_type": "code",
   "execution_count": 27,
   "metadata": {},
   "outputs": [
    {
     "data": {
      "text/plain": [
       "array([[1. , 2.2],\n",
       "       [1. , 3.1],\n",
       "       [1. , 3.7],\n",
       "       [1. , 4. ],\n",
       "       [1. , 1. ],\n",
       "       [1. , 4.4],\n",
       "       [1. , 4.7],\n",
       "       [1. , 5. ],\n",
       "       [1. , 5.4],\n",
       "       [1. , 6. ],\n",
       "       [1. , 7. ]])"
      ]
     },
     "execution_count": 27,
     "metadata": {},
     "output_type": "execute_result"
    }
   ],
   "source": [
    "X_c"
   ]
  },
  {
   "cell_type": "code",
   "execution_count": 28,
   "metadata": {},
   "outputs": [],
   "source": [
    "mod = sm.OLS(y, X_c).fit()"
   ]
  },
  {
   "cell_type": "code",
   "execution_count": 29,
   "metadata": {},
   "outputs": [
    {
     "name": "stderr",
     "output_type": "stream",
     "text": [
      "c:\\users\\axel-cleris gailloty\\desktop\\algo\\algo\\lib\\site-packages\\scipy\\stats\\stats.py:1541: UserWarning: kurtosistest only valid for n>=20 ... continuing anyway, n=11\n",
      "  warnings.warn(\"kurtosistest only valid for n>=20 ... continuing \"\n"
     ]
    },
    {
     "data": {
      "text/html": [
       "<table class=\"simpletable\">\n",
       "<caption>OLS Regression Results</caption>\n",
       "<tr>\n",
       "  <th>Dep. Variable:</th>            <td>y</td>        <th>  R-squared:         </th> <td>   0.673</td>\n",
       "</tr>\n",
       "<tr>\n",
       "  <th>Model:</th>                   <td>OLS</td>       <th>  Adj. R-squared:    </th> <td>   0.636</td>\n",
       "</tr>\n",
       "<tr>\n",
       "  <th>Method:</th>             <td>Least Squares</td>  <th>  F-statistic:       </th> <td>   18.50</td>\n",
       "</tr>\n",
       "<tr>\n",
       "  <th>Date:</th>             <td>Fri, 14 Jan 2022</td> <th>  Prob (F-statistic):</th>  <td>0.00199</td>\n",
       "</tr>\n",
       "<tr>\n",
       "  <th>Time:</th>                 <td>14:47:21</td>     <th>  Log-Likelihood:    </th> <td> -17.253</td>\n",
       "</tr>\n",
       "<tr>\n",
       "  <th>No. Observations:</th>      <td>    11</td>      <th>  AIC:               </th> <td>   38.51</td>\n",
       "</tr>\n",
       "<tr>\n",
       "  <th>Df Residuals:</th>          <td>     9</td>      <th>  BIC:               </th> <td>   39.30</td>\n",
       "</tr>\n",
       "<tr>\n",
       "  <th>Df Model:</th>              <td>     1</td>      <th>                     </th>     <td> </td>   \n",
       "</tr>\n",
       "<tr>\n",
       "  <th>Covariance Type:</th>      <td>nonrobust</td>    <th>                     </th>     <td> </td>   \n",
       "</tr>\n",
       "</table>\n",
       "<table class=\"simpletable\">\n",
       "<tr>\n",
       "    <td></td>       <th>coef</th>     <th>std err</th>      <th>t</th>      <th>P>|t|</th>  <th>[0.025</th>    <th>0.975]</th>  \n",
       "</tr>\n",
       "<tr>\n",
       "  <th>const</th> <td>    0.9518</td> <td>    1.077</td> <td>    0.884</td> <td> 0.400</td> <td>   -1.484</td> <td>    3.387</td>\n",
       "</tr>\n",
       "<tr>\n",
       "  <th>x1</th>    <td>    1.0221</td> <td>    0.238</td> <td>    4.301</td> <td> 0.002</td> <td>    0.485</td> <td>    1.560</td>\n",
       "</tr>\n",
       "</table>\n",
       "<table class=\"simpletable\">\n",
       "<tr>\n",
       "  <th>Omnibus:</th>       <td> 1.378</td> <th>  Durbin-Watson:     </th> <td>   1.691</td>\n",
       "</tr>\n",
       "<tr>\n",
       "  <th>Prob(Omnibus):</th> <td> 0.502</td> <th>  Jarque-Bera (JB):  </th> <td>   0.794</td>\n",
       "</tr>\n",
       "<tr>\n",
       "  <th>Skew:</th>          <td> 0.624</td> <th>  Prob(JB):          </th> <td>   0.672</td>\n",
       "</tr>\n",
       "<tr>\n",
       "  <th>Kurtosis:</th>      <td> 2.583</td> <th>  Cond. No.          </th> <td>    13.1</td>\n",
       "</tr>\n",
       "</table><br/><br/>Notes:<br/>[1] Standard Errors assume that the covariance matrix of the errors is correctly specified."
      ],
      "text/plain": [
       "<class 'statsmodels.iolib.summary.Summary'>\n",
       "\"\"\"\n",
       "                            OLS Regression Results                            \n",
       "==============================================================================\n",
       "Dep. Variable:                      y   R-squared:                       0.673\n",
       "Model:                            OLS   Adj. R-squared:                  0.636\n",
       "Method:                 Least Squares   F-statistic:                     18.50\n",
       "Date:                Fri, 14 Jan 2022   Prob (F-statistic):            0.00199\n",
       "Time:                        14:47:21   Log-Likelihood:                -17.253\n",
       "No. Observations:                  11   AIC:                             38.51\n",
       "Df Residuals:                       9   BIC:                             39.30\n",
       "Df Model:                           1                                         \n",
       "Covariance Type:            nonrobust                                         \n",
       "==============================================================================\n",
       "                 coef    std err          t      P>|t|      [0.025      0.975]\n",
       "------------------------------------------------------------------------------\n",
       "const          0.9518      1.077      0.884      0.400      -1.484       3.387\n",
       "x1             1.0221      0.238      4.301      0.002       0.485       1.560\n",
       "==============================================================================\n",
       "Omnibus:                        1.378   Durbin-Watson:                   1.691\n",
       "Prob(Omnibus):                  0.502   Jarque-Bera (JB):                0.794\n",
       "Skew:                           0.624   Prob(JB):                        0.672\n",
       "Kurtosis:                       2.583   Cond. No.                         13.1\n",
       "==============================================================================\n",
       "\n",
       "Notes:\n",
       "[1] Standard Errors assume that the covariance matrix of the errors is correctly specified.\n",
       "\"\"\""
      ]
     },
     "execution_count": 29,
     "metadata": {},
     "output_type": "execute_result"
    }
   ],
   "source": [
    "mod.summary()"
   ]
  },
  {
   "cell_type": "code",
   "execution_count": 30,
   "metadata": {},
   "outputs": [
    {
     "data": {
      "text/plain": [
       "array([3.2005514 , 4.12048598, 4.7337757 , 5.04042056, 1.97397196,\n",
       "       5.44928037, 5.75592523, 6.06257009, 6.47142991, 7.08471963,\n",
       "       8.10686916])"
      ]
     },
     "execution_count": 30,
     "metadata": {},
     "output_type": "execute_result"
    }
   ],
   "source": [
    "mod.fittedvalues"
   ]
  },
  {
   "cell_type": "code",
   "execution_count": 31,
   "metadata": {},
   "outputs": [
    {
     "data": {
      "text/plain": [
       "[3.2005514018691628,\n",
       " 4.120485981308414,\n",
       " 4.733775700934581,\n",
       " 5.040420560747664,\n",
       " 1.9739719626168282,\n",
       " 5.449280373831776,\n",
       " 5.755925233644859,\n",
       " 6.062570093457943,\n",
       " 6.471429906542055,\n",
       " 7.084719626168222,\n",
       " 8.106869158878501]"
      ]
     },
     "execution_count": 31,
     "metadata": {},
     "output_type": "execute_result"
    }
   ],
   "source": [
    "predicted"
   ]
  },
  {
   "cell_type": "code",
   "execution_count": null,
   "metadata": {},
   "outputs": [],
   "source": []
  }
 ],
 "metadata": {
  "kernelspec": {
   "display_name": "Python 3 (ipykernel)",
   "language": "python",
   "name": "python3"
  },
  "language_info": {
   "codemirror_mode": {
    "name": "ipython",
    "version": 3
   },
   "file_extension": ".py",
   "mimetype": "text/x-python",
   "name": "python",
   "nbconvert_exporter": "python",
   "pygments_lexer": "ipython3",
   "version": "3.9.0"
  }
 },
 "nbformat": 4,
 "nbformat_minor": 4
}
