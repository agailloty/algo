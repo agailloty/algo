{
 "cells": [
  {
   "cell_type": "markdown",
   "id": "6ef24855-da25-49ec-b21f-05a04afe74c9",
   "metadata": {},
   "source": [
    "# Les fonctions \n",
    "En programmation, les fonctions sont très utiles pour réaliser plusieurs fois la même opération au sein d'un programme. Elles rendent également le code plus lisible et plus clair en le fractionnant en blocs logiques.  \n",
    "\n",
    "Une fonction contient un groupe dinstructions liées. A mesure que notre programme grandit de plus en plus, les fonctions rendent notre programme plus organisé et facilement gérable.  "
   ]
  },
  {
   "cell_type": "markdown",
   "id": "e1df0023-a88b-4114-bbdd-0823446d9a54",
   "metadata": {},
   "source": [
    "## Les fonctions natives de Python \n",
    "Nous avons déjà utilisé des fonctions natives en Python.  \n",
    "Par exemple `print()` est une fonction.  \n",
    "Cette fonction accomplit une tâche spécifique : afficher sur la console un texte.  \n",
    "Il existe également d'autres nombreuses fonctions natives en Python.  \n",
    "\n",
    "![](images/nativ-funcs.PNG)"
   ]
  },
  {
   "cell_type": "markdown",
   "id": "b15d8f78-93bc-45db-ab30-cec97af61ae0",
   "metadata": {},
   "source": [
    "Nous n'aurons pas forcément d'utilité pour certaines de ces fonctions.  "
   ]
  },
  {
   "cell_type": "markdown",
   "id": "ed19dc7d-45ab-41c5-b62a-5e600f7cac50",
   "metadata": {},
   "source": [
    "# Définir et utiliser des fonctions\n",
    "Ce qui nous intéresse c'est de savoir construire nos propres fonctions et les utiliser. "
   ]
  },
  {
   "cell_type": "markdown",
   "id": "f76e8eb9-ca58-42e4-bee6-a197305fb6e7",
   "metadata": {},
   "source": [
    "## Les fonctions comme en maths !\n",
    "On peut voir les fonctions en Python comme les fonctions que nous trouvons en maths. \n"
   ]
  },
  {
   "cell_type": "code",
   "execution_count": 4,
   "id": "bca29d27-c817-4a8b-8924-513b6bcc0361",
   "metadata": {},
   "outputs": [],
   "source": [
    "def f():\n",
    "    print(\"f est une fonction sans paramètre\")"
   ]
  },
  {
   "cell_type": "code",
   "execution_count": 5,
   "id": "6198a31d-a73e-4c1c-82f6-c208f4aac2f6",
   "metadata": {},
   "outputs": [
    {
     "name": "stdout",
     "output_type": "stream",
     "text": [
      "f est une fonction sans paramètre\n"
     ]
    }
   ],
   "source": [
    "f()"
   ]
  },
  {
   "cell_type": "code",
   "execution_count": 6,
   "id": "c61eaf20-ea21-4d88-919c-5ac36c425108",
   "metadata": {},
   "outputs": [
    {
     "data": {
      "text/plain": [
       "'def f():\\n    print(\"f est une fonction sans paramètre\")\\n'"
      ]
     },
     "execution_count": 6,
     "metadata": {},
     "output_type": "execute_result"
    }
   ],
   "source": [
    "inspect.getsource(f)"
   ]
  },
  {
   "cell_type": "code",
   "execution_count": null,
   "id": "30ac4137-d1dd-4155-832e-16318c9a09d9",
   "metadata": {},
   "outputs": [],
   "source": []
  }
 ],
 "metadata": {
  "kernelspec": {
   "display_name": "Python 3 (ipykernel)",
   "language": "python",
   "name": "python3"
  },
  "language_info": {
   "codemirror_mode": {
    "name": "ipython",
    "version": 3
   },
   "file_extension": ".py",
   "mimetype": "text/x-python",
   "name": "python",
   "nbconvert_exporter": "python",
   "pygments_lexer": "ipython3",
   "version": "3.7.12"
  }
 },
 "nbformat": 4,
 "nbformat_minor": 5
}
