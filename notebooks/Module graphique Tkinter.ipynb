{
 "cells": [
  {
   "cell_type": "code",
   "execution_count": 3,
   "id": "c7379996",
   "metadata": {},
   "outputs": [],
   "source": [
    "import tkinter as tk\n",
    "app = tk.Tk()\n",
    "canvas1 = tk.Canvas(app, width = 400, height = 300)\n",
    "canvas1.pack()\n",
    "\n",
    "entry = tk.Entry(app)\n",
    "canvas1.create_window(200, 140, window=entry)\n",
    "entry.pack()\n",
    "\n",
    "\n",
    "app.mainloop()"
   ]
  },
  {
   "cell_type": "code",
   "execution_count": 7,
   "id": "07afbda0",
   "metadata": {},
   "outputs": [
    {
     "name": "stdout",
     "output_type": "stream",
     "text": [
      "Bonjour, bienvenue dans ce programme\n",
      "Voici les taux de TVA en vigueur en France\n",
      "Taux normal : 0.2\n",
      "Taux intermédiaire : 0.1\n",
      "Taux réduit : 0.055\n",
      "Taux particulier : 0.021\n",
      "Veuillez taper TN pour le taux normal, TI pour le taux intermédiaire, TR pour le taux réduit et TP pour le taux particulierTN\n",
      "Veuiller entrer le montant5000\n",
      "La TVA pour le montant saisi est de 1000.0EUR\n",
      "\n"
     ]
    },
    {
     "data": {
      "text/plain": [
       "''"
      ]
     },
     "execution_count": 7,
     "metadata": {},
     "output_type": "execute_result"
    }
   ],
   "source": [
    "# Algorithme TVA\n",
    "TN = 0.2\n",
    "TI = 0.1\n",
    "TR = 0.055\n",
    "TP = 0.021\n",
    "\n",
    "input(\"Bonjour, bienvenue dans ce programme\")\n",
    "print(\"Voici les taux de TVA en vigueur en France\" + \"\\n\" + \n",
    "     \"Taux normal : \" + str(TN) + \"\\n\" + \n",
    "     \"Taux intermédiaire : \" + str(TI) + \"\\n\" + \n",
    "     \"Taux réduit : \" + str(TR) + \"\\n\" + \n",
    "     \"Taux particulier : \" + str(TP))\n",
    "TAUX_CHOISI = input(\"Veuillez taper TN pour le taux normal, TI pour le taux intermédiaire, TR pour le taux réduit et TP pour le taux particulier\")\n",
    "if (TAUX_CHOISI != \"TN\") & (TAUX_CHOISI != \"TI\") & (TAUX_CHOISI != \"TR\") & (TAUX_CHOISI != \"TP\"):\n",
    "    raise Exception(\"Veuillez saisir une valeur dans la liste suivante : TN, TI, TR, TP\")\n",
    "MONTANT = input(\"Veuiller entrer le montant\")\n",
    "MONTANT = float(MONTANT)\n",
    "\n",
    "if TAUX_CHOISI == \"TN\":\n",
    "    RESULTAT = MONTANT * TN\n",
    "elif TAUX_CHOISI == \"TI\":\n",
    "    RESULTAT = MONTANT * TI\n",
    "elif TAUX_CHOISI == \"TR\":\n",
    "    RESULTAT = MONTANT * TR\n",
    "elif TAUX_CHOISI == \"TP\":\n",
    "    RESULTAT = MONTANT * TP\n",
    "    \n",
    "print(\"La TVA pour le montant saisi est de \" + str(RESULTAT) + \"EUR\")\n",
    "input()"
   ]
  },
  {
   "cell_type": "code",
   "execution_count": null,
   "id": "8be599d1",
   "metadata": {},
   "outputs": [],
   "source": []
  }
 ],
 "metadata": {
  "kernelspec": {
   "display_name": "Python 3 (ipykernel)",
   "language": "python",
   "name": "python3"
  },
  "language_info": {
   "codemirror_mode": {
    "name": "ipython",
    "version": 3
   },
   "file_extension": ".py",
   "mimetype": "text/x-python",
   "name": "python",
   "nbconvert_exporter": "python",
   "pygments_lexer": "ipython3",
   "version": "3.9.0"
  }
 },
 "nbformat": 4,
 "nbformat_minor": 5
}
