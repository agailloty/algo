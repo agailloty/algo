{
 "cells": [
  {
   "cell_type": "markdown",
   "id": "94e87121-edc1-47b6-b9a2-dbac162218a0",
   "metadata": {},
   "source": [
    "# Les alternatives\n",
    "Les alternatives sont des structures de programmation effectuant un test logique sur une condition et permettant un choix entre divers blocs d'instructions suivant le résultat de ce test. \n",
    "\n",
    "## La condition `if`\n"
   ]
  },
  {
   "cell_type": "code",
   "execution_count": 1,
   "id": "880de82e-b80e-40e0-a1bc-f156064d30b1",
   "metadata": {},
   "outputs": [],
   "source": [
    "x = 10\n",
    "y = 5\n",
    "operation = \"addition\""
   ]
  },
  {
   "cell_type": "code",
   "execution_count": 2,
   "id": "f26bed8b-6208-4d23-ad46-ae9d5f16a388",
   "metadata": {},
   "outputs": [
    {
     "name": "stdout",
     "output_type": "stream",
     "text": [
      "15\n"
     ]
    }
   ],
   "source": [
    "if operation == \"addition\":\n",
    "    print(x+y)"
   ]
  },
  {
   "cell_type": "code",
   "execution_count": 3,
   "id": "aa7947cb-94a4-4a9d-a234-aef0f7f846e1",
   "metadata": {},
   "outputs": [],
   "source": [
    "if operation == \"multiplication\":\n",
    "    print(x*y)"
   ]
  },
  {
   "cell_type": "markdown",
   "id": "78bd69f7-2988-4c9e-be44-f7c7b2eaeca5",
   "metadata": {},
   "source": [
    "## La condition `if - elif - else`"
   ]
  },
  {
   "cell_type": "code",
   "execution_count": 5,
   "id": "55c92847-855d-48df-98a9-57089117f9cc",
   "metadata": {},
   "outputs": [
    {
     "name": "stdout",
     "output_type": "stream",
     "text": [
      "L'opération n'est pas valide\n"
     ]
    }
   ],
   "source": [
    "x = 10\n",
    "y = 5\n",
    "operation = \"inconnu\"\n",
    "if operation == \"addition\":\n",
    "    print(x+y)\n",
    "elif operation == \"multiplication\":\n",
    "    print(x*y)\n",
    "else:\n",
    "    print(\"L'opération n'est pas valide\")"
   ]
  },
  {
   "cell_type": "markdown",
   "id": "05eaa635-fe3c-46fb-8d31-d511c7626b0b",
   "metadata": {},
   "source": [
    "## Visualiser l'exécution d'un code Python\n",
    "\n",
    "https://pythontutor.com/visualize.html#mode=edit\n",
    "```python\n",
    "x = 10\n",
    "y = 5\n",
    "operation = \"inconnu\"\n",
    "if operation == \"addition\":\n",
    "    print(x+y)\n",
    "elif operation == \"multiplication\":\n",
    "    print(x*y)\n",
    "else:\n",
    "    print(\"L'opération n'est pas valide\")\n",
    "```"
   ]
  },
  {
   "cell_type": "code",
   "execution_count": null,
   "id": "b78c04d8-52e2-4d77-98e0-72d40db5a0e8",
   "metadata": {},
   "outputs": [],
   "source": []
  }
 ],
 "metadata": {
  "kernelspec": {
   "display_name": "Python 3 (ipykernel)",
   "language": "python",
   "name": "python3"
  },
  "language_info": {
   "codemirror_mode": {
    "name": "ipython",
    "version": 3
   },
   "file_extension": ".py",
   "mimetype": "text/x-python",
   "name": "python",
   "nbconvert_exporter": "python",
   "pygments_lexer": "ipython3",
   "version": "3.7.12"
  }
 },
 "nbformat": 4,
 "nbformat_minor": 5
}
