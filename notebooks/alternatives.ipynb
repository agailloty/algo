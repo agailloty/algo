{
 "cells": [
  {
   "cell_type": "markdown",
   "id": "c0d44acb-ef12-495d-b81e-1f4518d6388b",
   "metadata": {},
   "source": [
    "# Les contrôles de flux\n",
    "Pour l’instant, toutes les instructions que nous avons écrites ont été exécutée une par une et dans l’ordre d’apparition dans le code source.\n",
    "Chaque ligne est constituée d'une instruction unique. \n",
    "Nous voulons à présent modifier l'ordre d'exécution des instructions que nous écrivons.   \n",
    "On appelle ce procédé, le **contrôle de flux**.  \n",
    "\n",
    "Nous verrons deux notions essentielles en programmation : les alternatives et les boucles. "
   ]
  },
  {
   "cell_type": "markdown",
   "id": "94e87121-edc1-47b6-b9a2-dbac162218a0",
   "metadata": {},
   "source": [
    "# Les alternatives\n",
    "Les alternatives sont des structures de programmation effectuant un test logique sur une condition et permettant un choix entre divers blocs d'instructions suivant le résultat de ce test. \n",
    "Pour faire simple, une alternative nous permet d'exécuter de manière **conditionnelle** une partie de notre code.  \n",
    "**La notion de condition est importante**.   "
   ]
  },
  {
   "cell_type": "markdown",
   "id": "05235486-69f4-41da-a502-91a6cfc4866b",
   "metadata": {},
   "source": [
    "## Les structures conditionnelles disponibles en Python\n",
    "### `if`\n",
    "On peut utiliser le mot-clé if pour autoriser ou empêcher l’exécution d'une ou de plusieurs instructions. "
   ]
  },
  {
   "cell_type": "code",
   "execution_count": 7,
   "id": "6e969d6f-bbff-4f86-b365-11eb0421eaa1",
   "metadata": {},
   "outputs": [],
   "source": [
    "age = 17\n",
    "if age >= 18:\n",
    "    print(\"Vous êtes majeur\")"
   ]
  },
  {
   "cell_type": "markdown",
   "id": "b3314e56-7ebe-490a-bdc1-7cdddcb29927",
   "metadata": {},
   "source": [
    "Ici l'instruction `print(\"Vous êtes majeur\")` n'est pas exécutée parce que la condition n'est pas vérifiée. En effet la variable age qui contient la valeur 17 est inférieure à 18. "
   ]
  },
  {
   "cell_type": "code",
   "execution_count": 8,
   "id": "4c453d2e-3a8b-42e4-8b33-570a6ac53336",
   "metadata": {},
   "outputs": [
    {
     "name": "stdout",
     "output_type": "stream",
     "text": [
      "Vous êtes majeur\n"
     ]
    }
   ],
   "source": [
    "age = 21\n",
    "if age >= 18:\n",
    "    print(\"Vous êtes majeur\")"
   ]
  },
  {
   "cell_type": "markdown",
   "id": "78bd69f7-2988-4c9e-be44-f7c7b2eaeca5",
   "metadata": {},
   "source": [
    "## La condition `if - elif - else`"
   ]
  },
  {
   "cell_type": "code",
   "execution_count": 5,
   "id": "55c92847-855d-48df-98a9-57089117f9cc",
   "metadata": {},
   "outputs": [
    {
     "name": "stdout",
     "output_type": "stream",
     "text": [
      "L'opération n'est pas valide\n"
     ]
    }
   ],
   "source": [
    "x = 10\n",
    "y = 5\n",
    "operation = \"inconnu\"\n",
    "if operation == \"addition\":\n",
    "    print(x+y)\n",
    "elif operation == \"multiplication\":\n",
    "    print(x*y)\n",
    "else:\n",
    "    print(\"L'opération n'est pas valide\")"
   ]
  },
  {
   "cell_type": "markdown",
   "id": "05eaa635-fe3c-46fb-8d31-d511c7626b0b",
   "metadata": {},
   "source": [
    "## Visualiser l'exécution d'un code Python\n",
    "\n",
    "https://pythontutor.com/visualize.html#mode=edit\n",
    "```python\n",
    "x = 10\n",
    "y = 5\n",
    "operation = \"inconnu\"\n",
    "if operation == \"addition\":\n",
    "    print(x+y)\n",
    "elif operation == \"multiplication\":\n",
    "    print(x*y)\n",
    "else:\n",
    "    print(\"L'opération n'est pas valide\")\n",
    "```"
   ]
  },
  {
   "cell_type": "markdown",
   "id": "45275c84-9ccf-471e-a072-35642246d87a",
   "metadata": {},
   "source": [
    "# Application \n",
    "## Le discriminant\n",
    "\n",
    "Equation : $2x^2 + 3x + 1$\n",
    "\n",
    "**Resoudre avec le discriminant**   \n",
    "La formule du discriminant est $$ \\Delta = b^2 - 4ac $$\n",
    "Si $\\Delta < 0$ alors terminer la procedure. Il n'y a pas de solution à l'équation  \n",
    "Sinon: \n",
    "> Si $\\Delta = 0$ alors :  \n",
    "Il n'existe qu'une seule solution à l'équation. Cette solution est :   \n",
    "$$ x_1 = x_2 = - \\frac{b}{2a} $$\n",
    "\n",
    "> Si $\\Delta > 0$ alors il existe deux solutions : $x_1, x_2$.\n",
    "$$x_1 = \\frac{-b - \\sqrt{\\Delta}}{2a}$$\n",
    "$$x_2 = \\frac{-b + \\sqrt{\\Delta}}{2a}$$\n",
    "\n",
    "Traduire cela en un programme Python pour résoudre des équations du second degré. "
   ]
  }
 ],
 "metadata": {
  "kernelspec": {
   "display_name": "Python 3 (ipykernel)",
   "language": "python",
   "name": "python3"
  },
  "language_info": {
   "codemirror_mode": {
    "name": "ipython",
    "version": 3
   },
   "file_extension": ".py",
   "mimetype": "text/x-python",
   "name": "python",
   "nbconvert_exporter": "python",
   "pygments_lexer": "ipython3",
   "version": "3.7.12"
  }
 },
 "nbformat": 4,
 "nbformat_minor": 5
}
