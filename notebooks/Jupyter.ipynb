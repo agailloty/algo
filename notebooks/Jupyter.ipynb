{
 "cells": [
  {
   "cell_type": "markdown",
   "id": "c6322b62-2857-44dd-b45f-ea5417f02e15",
   "metadata": {},
   "source": [
    "# Savoir utiliser Jupyter"
   ]
  },
  {
   "cell_type": "markdown",
   "id": "2a2fb8dd-5ac3-410a-a4d2-e9394d197e0c",
   "metadata": {},
   "source": [
    "## Lire la documentation des fonctions et objets\n",
    "Pour obtenir la documentation d'une fonction, d'une classe, d'un module ou d'un autre objet présent dans l'environnement actuel de Python nous ajoutons `?` à la fin du nom de l'objet.  \n",
    "Cette commande ne marche que dans Jupyter. "
   ]
  },
  {
   "cell_type": "code",
   "execution_count": 1,
   "id": "a68e5d25-e53b-4eba-80f6-0c92b10729b8",
   "metadata": {},
   "outputs": [
    {
     "data": {
      "text/plain": [
       "\u001b[0;31mSignature:\u001b[0m \u001b[0mlen\u001b[0m\u001b[0;34m(\u001b[0m\u001b[0mobj\u001b[0m\u001b[0;34m,\u001b[0m \u001b[0;34m/\u001b[0m\u001b[0;34m)\u001b[0m\u001b[0;34m\u001b[0m\u001b[0;34m\u001b[0m\u001b[0m\n",
       "\u001b[0;31mDocstring:\u001b[0m Return the number of items in a container.\n",
       "\u001b[0;31mType:\u001b[0m      builtin_function_or_method\n"
      ]
     },
     "metadata": {},
     "output_type": "display_data"
    }
   ],
   "source": [
    "len?"
   ]
  },
  {
   "cell_type": "code",
   "execution_count": 2,
   "id": "ed4195d0-e919-4612-938a-1fe21971f2da",
   "metadata": {},
   "outputs": [
    {
     "data": {
      "text/plain": [
       "\u001b[0;31mDocstring:\u001b[0m\n",
       "print(value, ..., sep=' ', end='\\n', file=sys.stdout, flush=False)\n",
       "\n",
       "Prints the values to a stream, or to sys.stdout by default.\n",
       "Optional keyword arguments:\n",
       "file:  a file-like object (stream); defaults to the current sys.stdout.\n",
       "sep:   string inserted between values, default a space.\n",
       "end:   string appended after the last value, default a newline.\n",
       "flush: whether to forcibly flush the stream.\n",
       "\u001b[0;31mType:\u001b[0m      builtin_function_or_method\n"
      ]
     },
     "metadata": {},
     "output_type": "display_data"
    }
   ],
   "source": [
    "print?"
   ]
  },
  {
   "cell_type": "code",
   "execution_count": 3,
   "id": "22979200-981f-4bdb-ba70-e5fd1f98312d",
   "metadata": {},
   "outputs": [],
   "source": [
    "import csv"
   ]
  },
  {
   "cell_type": "code",
   "execution_count": 4,
   "id": "38618f63-ea29-456e-b91c-68d44bda2ed1",
   "metadata": {},
   "outputs": [
    {
     "data": {
      "text/plain": [
       "\u001b[0;31mType:\u001b[0m        module\n",
       "\u001b[0;31mString form:\u001b[0m <module 'csv' from '/srv/conda/envs/notebook/lib/python3.7/csv.py'>\n",
       "\u001b[0;31mFile:\u001b[0m        /srv/conda/envs/notebook/lib/python3.7/csv.py\n",
       "\u001b[0;31mDocstring:\u001b[0m  \n",
       "CSV parsing and writing.\n",
       "\n",
       "This module provides classes that assist in the reading and writing\n",
       "of Comma Separated Value (CSV) files, and implements the interface\n",
       "described by PEP 305.  Although many CSV files are simple to parse,\n",
       "the format is not formally defined by a stable specification and\n",
       "is subtle enough that parsing lines of a CSV file with something\n",
       "like line.split(\",\") is bound to fail.  The module supports three\n",
       "basic APIs: reading, writing, and registration of dialects.\n",
       "\n",
       "\n",
       "DIALECT REGISTRATION:\n",
       "\n",
       "Readers and writers support a dialect argument, which is a convenient\n",
       "handle on a group of settings.  When the dialect argument is a string,\n",
       "it identifies one of the dialects previously registered with the module.\n",
       "If it is a class or instance, the attributes of the argument are used as\n",
       "the settings for the reader or writer:\n",
       "\n",
       "    class excel:\n",
       "        delimiter = ','\n",
       "        quotechar = '\"'\n",
       "        escapechar = None\n",
       "        doublequote = True\n",
       "        skipinitialspace = False\n",
       "        lineterminator = '\\r\\n'\n",
       "        quoting = QUOTE_MINIMAL\n",
       "\n",
       "SETTINGS:\n",
       "\n",
       "    * quotechar - specifies a one-character string to use as the \n",
       "        quoting character.  It defaults to '\"'.\n",
       "    * delimiter - specifies a one-character string to use as the \n",
       "        field separator.  It defaults to ','.\n",
       "    * skipinitialspace - specifies how to interpret whitespace which\n",
       "        immediately follows a delimiter.  It defaults to False, which\n",
       "        means that whitespace immediately following a delimiter is part\n",
       "        of the following field.\n",
       "    * lineterminator -  specifies the character sequence which should \n",
       "        terminate rows.\n",
       "    * quoting - controls when quotes should be generated by the writer.\n",
       "        It can take on any of the following module constants:\n",
       "\n",
       "        csv.QUOTE_MINIMAL means only when required, for example, when a\n",
       "            field contains either the quotechar or the delimiter\n",
       "        csv.QUOTE_ALL means that quotes are always placed around fields.\n",
       "        csv.QUOTE_NONNUMERIC means that quotes are always placed around\n",
       "            fields which do not parse as integers or floating point\n",
       "            numbers.\n",
       "        csv.QUOTE_NONE means that quotes are never placed around fields.\n",
       "    * escapechar - specifies a one-character string used to escape \n",
       "        the delimiter when quoting is set to QUOTE_NONE.\n",
       "    * doublequote - controls the handling of quotes inside fields.  When\n",
       "        True, two consecutive quotes are interpreted as one during read,\n",
       "        and when writing, each quote character embedded in the data is\n",
       "        written as two quotes\n"
      ]
     },
     "metadata": {},
     "output_type": "display_data"
    }
   ],
   "source": [
    "csv?"
   ]
  },
  {
   "cell_type": "code",
   "execution_count": null,
   "id": "f1702cc9-0949-4d2f-bbe0-5c1f207914f2",
   "metadata": {},
   "outputs": [],
   "source": []
  }
 ],
 "metadata": {
  "kernelspec": {
   "display_name": "Python 3 (ipykernel)",
   "language": "python",
   "name": "python3"
  },
  "language_info": {
   "codemirror_mode": {
    "name": "ipython",
    "version": 3
   },
   "file_extension": ".py",
   "mimetype": "text/x-python",
   "name": "python",
   "nbconvert_exporter": "python",
   "pygments_lexer": "ipython3",
   "version": "3.7.12"
  }
 },
 "nbformat": 4,
 "nbformat_minor": 5
}
