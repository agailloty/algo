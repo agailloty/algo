{
 "cells": [
  {
   "cell_type": "markdown",
   "id": "bdb6a3a8-879f-462a-9f66-dc4b169803fc",
   "metadata": {},
   "source": [
    "# Récap : Les contrôles de flux\n",
    "## Les alternatives "
   ]
  },
  {
   "cell_type": "markdown",
   "id": "83d59b14-ef28-4324-bb53-e2ca485e07e2",
   "metadata": {},
   "source": [
    "Avec les alternatives on exécute de manière conditionnelle un bloc de code (suite d'instructions)."
   ]
  },
  {
   "cell_type": "code",
   "execution_count": 29,
   "id": "35982c62-efa7-46ff-ab74-bf1faecfe254",
   "metadata": {},
   "outputs": [
    {
     "name": "stdout",
     "output_type": "stream",
     "text": [
      "Vous êtes majeur\n"
     ]
    }
   ],
   "source": [
    "age = 25\n",
    "if age <0 :\n",
    "    if (age < -5) & (age <=-100):\n",
    "        print(\"drôle d'âge !\")\n",
    "    else:\n",
    "        print(\"Impossible d'avoir un âge négatif\")\n",
    "elif age == 0:\n",
    "    print(\"Vous êtes sûr ?\")\n",
    "elif (age >0) & (age <=17):\n",
    "    print(f\"Vous n'êtes pas majeur car vous avez {age} ans\")\n",
    "else:\n",
    "    print(\"Vous êtes majeur\")    "
   ]
  },
  {
   "cell_type": "code",
   "execution_count": 32,
   "id": "e538ec86-c247-4c9b-b1b5-b19c3eb5bc07",
   "metadata": {},
   "outputs": [
    {
     "name": "stdout",
     "output_type": "stream",
     "text": [
      "30\n"
     ]
    }
   ],
   "source": [
    "age = 30; print(age)"
   ]
  },
  {
   "cell_type": "code",
   "execution_count": 25,
   "id": "1f37aa53-7478-4da7-ab19-81ff8b668e83",
   "metadata": {},
   "outputs": [],
   "source": [
    "# Les opérateurs booléens \n",
    "# Et : &   \n",
    "# Ou : |   \n",
    "# Possible de comprendre sous forme d'union ou d'intersection \n"
   ]
  },
  {
   "cell_type": "markdown",
   "id": "ab2ff68b-8dd4-48d5-b683-5728f94acb8a",
   "metadata": {},
   "source": [
    "## Les opérateurs : \n",
    "Et : &  \n",
    "Ou :  |  \n",
    "Différent : !=   \n",
    "Supérieur ou égal :  >=  \n",
    "Inférieur ou égal :  <=  "
   ]
  },
  {
   "cell_type": "code",
   "execution_count": 9,
   "id": "35a8f2f1-f89d-4b1d-9d96-1cb79c2b1e03",
   "metadata": {},
   "outputs": [
    {
     "data": {
      "text/plain": [
       "True"
      ]
     },
     "execution_count": 9,
     "metadata": {},
     "output_type": "execute_result"
    }
   ],
   "source": [
    "# Combiner plusieurs conditions\n",
    "# True = 1 et False = 0\n",
    "True & True"
   ]
  },
  {
   "cell_type": "markdown",
   "id": "4dc958d9-3acf-4326-9fc4-38374e336dfc",
   "metadata": {},
   "source": [
    "False & True = False   (0*1)    \n",
    "True & True = True     (1*1)"
   ]
  },
  {
   "cell_type": "markdown",
   "id": "eee486fd-8672-466a-a753-d07af8a15f65",
   "metadata": {},
   "source": [
    "## Les boucles"
   ]
  },
  {
   "cell_type": "markdown",
   "id": "df4faeab-99ab-4961-96e6-54dc9117a8c9",
   "metadata": {},
   "source": [
    "Les boucles permettent d'exécuter plusieurs fois une suite d'instructions. "
   ]
  },
  {
   "cell_type": "code",
   "execution_count": 37,
   "id": "f3386101-ec55-40f9-aeea-85cd5fd4ff74",
   "metadata": {},
   "outputs": [
    {
     "name": "stdout",
     "output_type": "stream",
     "text": [
      "L'age 1 est inférieur à 100\n",
      "L'age 2 est inférieur à 100\n",
      "L'age 3 est inférieur à 100\n",
      "L'age 4 est inférieur à 100\n",
      "L'age 5 est inférieur à 100\n",
      "L'age 6 est inférieur à 100\n",
      "L'age 7 est inférieur à 100\n",
      "L'age 8 est inférieur à 100\n",
      "L'age 9 est inférieur à 100\n",
      "L'age 10 est inférieur à 100\n",
      "L'age 11 est inférieur à 100\n",
      "L'age 12 est inférieur à 100\n",
      "L'age 13 est inférieur à 100\n",
      "L'age 14 est inférieur à 100\n",
      "L'age 15 est inférieur à 100\n",
      "L'age 16 est inférieur à 100\n",
      "L'age 17 est inférieur à 100\n",
      "L'age 18 est inférieur à 100\n",
      "L'age 19 est inférieur à 100\n",
      "L'age 20 est inférieur à 100\n",
      "L'age 21 est inférieur à 100\n",
      "L'age 22 est inférieur à 100\n",
      "L'age 23 est inférieur à 100\n",
      "L'age 24 est inférieur à 100\n",
      "L'age 25 est inférieur à 100\n",
      "L'age 26 est inférieur à 100\n",
      "L'age 27 est inférieur à 100\n",
      "L'age 28 est inférieur à 100\n",
      "L'age 29 est inférieur à 100\n",
      "L'age 30 est inférieur à 100\n",
      "L'age 31 est inférieur à 100\n",
      "L'age 32 est inférieur à 100\n",
      "L'age 33 est inférieur à 100\n",
      "L'age 34 est inférieur à 100\n",
      "L'age 35 est inférieur à 100\n",
      "L'age 36 est inférieur à 100\n",
      "L'age 37 est inférieur à 100\n",
      "L'age 38 est inférieur à 100\n",
      "L'age 39 est inférieur à 100\n",
      "L'age 40 est inférieur à 100\n",
      "L'age 41 est inférieur à 100\n",
      "L'age 42 est inférieur à 100\n",
      "L'age 43 est inférieur à 100\n",
      "L'age 44 est inférieur à 100\n",
      "L'age 45 est inférieur à 100\n",
      "L'age 46 est inférieur à 100\n",
      "L'age 47 est inférieur à 100\n",
      "L'age 48 est inférieur à 100\n",
      "L'age 49 est inférieur à 100\n",
      "L'age 50 est inférieur à 100\n",
      "L'age 51 est inférieur à 100\n",
      "L'age 52 est inférieur à 100\n",
      "L'age 53 est inférieur à 100\n",
      "L'age 54 est inférieur à 100\n",
      "L'age 55 est inférieur à 100\n",
      "L'age 56 est inférieur à 100\n",
      "L'age 57 est inférieur à 100\n",
      "L'age 58 est inférieur à 100\n",
      "L'age 59 est inférieur à 100\n",
      "L'age 60 est inférieur à 100\n",
      "L'age 61 est inférieur à 100\n",
      "L'age 62 est inférieur à 100\n",
      "L'age 63 est inférieur à 100\n",
      "L'age 64 est inférieur à 100\n",
      "L'age 65 est inférieur à 100\n",
      "L'age 66 est inférieur à 100\n",
      "L'age 67 est inférieur à 100\n",
      "L'age 68 est inférieur à 100\n",
      "L'age 69 est inférieur à 100\n",
      "L'age 70 est inférieur à 100\n",
      "L'age 71 est inférieur à 100\n",
      "L'age 72 est inférieur à 100\n",
      "L'age 73 est inférieur à 100\n",
      "L'age 74 est inférieur à 100\n",
      "L'age 75 est inférieur à 100\n",
      "L'age 76 est inférieur à 100\n",
      "L'age 77 est inférieur à 100\n",
      "L'age 78 est inférieur à 100\n",
      "L'age 79 est inférieur à 100\n",
      "L'age 80 est inférieur à 100\n",
      "L'age 81 est inférieur à 100\n",
      "L'age 82 est inférieur à 100\n",
      "L'age 83 est inférieur à 100\n",
      "L'age 84 est inférieur à 100\n",
      "L'age 85 est inférieur à 100\n",
      "L'age 86 est inférieur à 100\n",
      "L'age 87 est inférieur à 100\n",
      "L'age 88 est inférieur à 100\n",
      "L'age 89 est inférieur à 100\n",
      "L'age 90 est inférieur à 100\n",
      "L'age 91 est inférieur à 100\n",
      "L'age 92 est inférieur à 100\n",
      "L'age 93 est inférieur à 100\n",
      "L'age 94 est inférieur à 100\n",
      "L'age 95 est inférieur à 100\n",
      "L'age 96 est inférieur à 100\n",
      "L'age 97 est inférieur à 100\n",
      "L'age 98 est inférieur à 100\n",
      "L'age 99 est inférieur à 100\n"
     ]
    }
   ],
   "source": [
    "max_age = 100\n",
    "age = 1\n",
    "while age < max_age: # Tant que age < max_age, alors exécuter le code qui suit.\n",
    "    if age <=100: # On exécute ce code que si la condition est vérifiée\n",
    "        print(f\"L'age {age} est inférieur à {max_age}\")\n",
    "    age = age + 1"
   ]
  },
  {
   "cell_type": "code",
   "execution_count": null,
   "id": "7a00b048-72b7-4a19-9294-861a2c829dfe",
   "metadata": {},
   "outputs": [],
   "source": []
  }
 ],
 "metadata": {
  "kernelspec": {
   "display_name": "Python 3 (ipykernel)",
   "language": "python",
   "name": "python3"
  },
  "language_info": {
   "codemirror_mode": {
    "name": "ipython",
    "version": 3
   },
   "file_extension": ".py",
   "mimetype": "text/x-python",
   "name": "python",
   "nbconvert_exporter": "python",
   "pygments_lexer": "ipython3",
   "version": "3.7.12"
  }
 },
 "nbformat": 4,
 "nbformat_minor": 5
}
