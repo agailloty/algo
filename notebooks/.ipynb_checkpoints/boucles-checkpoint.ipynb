{
 "cells": [
  {
   "cell_type": "markdown",
   "id": "24449318-e4d5-4426-a998-b60fa0374d5f",
   "metadata": {},
   "source": [
    "# Les boucles\n",
    "Les boucles sont un type de contrôle de flux dans un programme.  \n",
    "Nous avons vu que **les alternatives permettent d'exécuter une ou plusieurs instructions lorsqu'une condition est vérifiée**.  \n",
    "Les boucles quant à elles permettent de répéter une plusieurs instructions. "
   ]
  },
  {
   "cell_type": "markdown",
   "id": "abc242ed-3b33-43ee-8833-598ad974444c",
   "metadata": {},
   "source": [
    "## La boucle `while`\n",
    "La boucle `while` permet d'exécuter une ou plusieurs instructions de manière repetée jusqu'à ce qu'une condition soit vérifiée."
   ]
  },
  {
   "cell_type": "code",
   "execution_count": 1,
   "id": "10cac9a1-c055-40e4-a270-0f8449a4c1f8",
   "metadata": {},
   "outputs": [
    {
     "name": "stdout",
     "output_type": "stream",
     "text": [
      "L'age 1 est inférieur à 30\n",
      "L'age 2 est inférieur à 30\n",
      "L'age 3 est inférieur à 30\n",
      "L'age 4 est inférieur à 30\n",
      "L'age 5 est inférieur à 30\n",
      "L'age 6 est inférieur à 30\n",
      "L'age 7 est inférieur à 30\n",
      "L'age 8 est inférieur à 30\n",
      "L'age 9 est inférieur à 30\n",
      "L'age 10 est inférieur à 30\n",
      "L'age 11 est inférieur à 30\n",
      "L'age 12 est inférieur à 30\n",
      "L'age 13 est inférieur à 30\n",
      "L'age 14 est inférieur à 30\n",
      "L'age 15 est inférieur à 30\n",
      "L'age 16 est inférieur à 30\n",
      "L'age 17 est inférieur à 30\n",
      "L'age 18 est inférieur à 30\n",
      "L'age 19 est inférieur à 30\n",
      "L'age 20 est inférieur à 30\n",
      "L'age 21 est inférieur à 30\n",
      "L'age 22 est inférieur à 30\n",
      "L'age 23 est inférieur à 30\n",
      "L'age 24 est inférieur à 30\n",
      "L'age 25 est inférieur à 30\n",
      "L'age 26 est inférieur à 30\n",
      "L'age 27 est inférieur à 30\n",
      "L'age 28 est inférieur à 30\n",
      "L'age 29 est inférieur à 30\n"
     ]
    }
   ],
   "source": [
    "max_age = 30\n",
    "age = 1\n",
    "while age < max_age:\n",
    "    print(f\"L'age {age} est inférieur à {max_age}\")\n",
    "    age = age + 1"
   ]
  },
  {
   "cell_type": "markdown",
   "id": "b87276d0-80a1-49ae-a731-bdeae55a5ac5",
   "metadata": {},
   "source": [
    "Dans la boucle `while` il est important de mettre à jour la condition lorsque le code tourne autrement la boucle tourne indéfiniment. "
   ]
  },
  {
   "cell_type": "markdown",
   "id": "6d0d2efa-9dcb-4b14-9790-ceafcc97a173",
   "metadata": {},
   "source": [
    "```python\n",
    "max_age = 30\n",
    "age = 1\n",
    "while age < max_age:\n",
    "    print(f\"L'age {age} est inférieur à {max_age}\")\n",
    "``` \n",
    "Si j'enlève l'instruction `age = age + 1` alors, toutes les fois que la boucle tourne alors age < max_age. La condition st toujours vérifiée, donc l'instruction print s'exécutera indéfiniment. "
   ]
  },
  {
   "cell_type": "markdown",
   "id": "13d390c6-1b9a-478a-ab7b-63562db6d858",
   "metadata": {},
   "source": [
    "## La boucle `for` \n",
    "\n",
    "En Python la boucle for itère sur les éléments d'une séquence (qui peut être une liste, une chaîne de caractères…), dans l'ordre dans lequel ils apparaissent dans la séquence. "
   ]
  },
  {
   "cell_type": "code",
   "execution_count": 2,
   "id": "4cf85c5e-9885-4e8c-bcbb-fb072dfba296",
   "metadata": {},
   "outputs": [
    {
     "name": "stdout",
     "output_type": "stream",
     "text": [
      "pomme\n",
      "ananas\n",
      "goyave\n",
      "mangue\n"
     ]
    }
   ],
   "source": [
    "fruits = [\"pomme\", \"ananas\", \"goyave\", \"mangue\"]\n",
    "for fruit in fruits:\n",
    "    print(fruit)"
   ]
  },
  {
   "cell_type": "markdown",
   "id": "a6b6077a-92db-47eb-9994-5513e650dc73",
   "metadata": {},
   "source": [
    "# Application : OLS simple"
   ]
  },
  {
   "cell_type": "code",
   "execution_count": null,
   "id": "36fc4ac4-9d75-45da-8aeb-bf91a35b573b",
   "metadata": {},
   "outputs": [],
   "source": []
  }
 ],
 "metadata": {
  "kernelspec": {
   "display_name": "Python 3 (ipykernel)",
   "language": "python",
   "name": "python3"
  },
  "language_info": {
   "codemirror_mode": {
    "name": "ipython",
    "version": 3
   },
   "file_extension": ".py",
   "mimetype": "text/x-python",
   "name": "python",
   "nbconvert_exporter": "python",
   "pygments_lexer": "ipython3",
   "version": "3.7.12"
  }
 },
 "nbformat": 4,
 "nbformat_minor": 5
}
