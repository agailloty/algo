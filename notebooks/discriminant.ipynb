{
 "cells": [
  {
   "cell_type": "code",
   "execution_count": 5,
   "metadata": {},
   "outputs": [],
   "source": [
    "from math import sqrt"
   ]
  },
  {
   "cell_type": "markdown",
   "metadata": {},
   "source": [
    "Equation : $ax^2 + bx + c$\n",
    "\n",
    "**Resoudre avec le discriminant**   \n",
    "La formule du discriminant est $$ \\Delta = b^2 - 4ac $$\n",
    "Si $\\Delta < 0$ alors terminer la procedure. Il n'y a pas de solution à l'équation  \n",
    "Sinon: \n",
    "> Si $\\Delta = 0$ alors :  \n",
    "Il n'existe qu'une seule solution à l'équation. Cette solution est :   \n",
    "$$ x_1 = x_2 = - \\frac{b}{2a} $$\n",
    "\n",
    "> Si $\\Delta > 0$ alors il existe deux racines : $x_1, x_2$.\n",
    "$$x_1 = \\frac{-b - \\sqrt{\\Delta}}{2a}$$\n",
    "$$x_2 = \\frac{-b + \\sqrt{\\Delta}}{2a}$$\n",
    "\n",
    "Traduire cela en un programme Python pour résoudre des équations du second degré. "
   ]
  },
  {
   "cell_type": "code",
   "execution_count": 2,
   "metadata": {},
   "outputs": [],
   "source": [
    "import numbers, decimal\n",
    "def solve_2nd_equation(a:float, b:float, c:float):\n",
    "    all_numbers = [isinstance(x, numbers.Number) for x in (a, b, c)]\n",
    "    if not all(all_numbers):\n",
    "        print(\"a, b, c doivent être des nombres.\")\n",
    "        return\n",
    "    D = b**2 - 4 * (a*c)\n",
    "    print(\"Delta : \" + str(D))\n",
    "    if D < 0: \n",
    "        print(\"Il n'y a pas de solution à cette équation.\")\n",
    "        return\n",
    "    elif D == 0:\n",
    "        x = -b / 2 *a\n",
    "        print(f\"Il n'existe qu'une seule solution à cette équation : x1=x2= {x}\")\n",
    "        #return x\n",
    "    else:\n",
    "        d_root = sqrt(D)\n",
    "        x_1 = (-b - d_root) / 2 *a\n",
    "        x_1 = round(x_1, 3)\n",
    "        x_2 = (-b + d_root) / 2*a\n",
    "        x_2 = round(x_2, 3)\n",
    "        print(f\"Il existe deux solutions : x1 = {x_1} et x2 = {x_2}\")\n",
    "        #return x_1, x_2"
   ]
  },
  {
   "cell_type": "code",
   "execution_count": 7,
   "metadata": {},
   "outputs": [
    {
     "name": "stdout",
     "output_type": "stream",
     "text": [
      "Delta : 1\n",
      "Il existe deux solutions : x1 = -4.0 et x2 = -2.0\n"
     ]
    }
   ],
   "source": [
    "solve_2nd_equation(2, 3, 1)"
   ]
  },
  {
   "cell_type": "code",
   "execution_count": 45,
   "metadata": {},
   "outputs": [
    {
     "name": "stdout",
     "output_type": "stream",
     "text": [
      "Delta : 81\n",
      "Il existe deux solutions : x1 = -9.0 et x2 = 0.0\n"
     ]
    }
   ],
   "source": [
    "solve_2nd_equation(1, 9, 0)"
   ]
  },
  {
   "cell_type": "code",
   "execution_count": 46,
   "metadata": {},
   "outputs": [
    {
     "name": "stdout",
     "output_type": "stream",
     "text": [
      "a, b, c doivent être des nombres.\n"
     ]
    }
   ],
   "source": [
    "solve_2nd_equation(2, \"x\", 0)"
   ]
  },
  {
   "cell_type": "code",
   "execution_count": null,
   "metadata": {},
   "outputs": [],
   "source": []
  }
 ],
 "metadata": {
  "kernelspec": {
   "display_name": "Python 3 (ipykernel)",
   "language": "python",
   "name": "python3"
  },
  "language_info": {
   "codemirror_mode": {
    "name": "ipython",
    "version": 3
   },
   "file_extension": ".py",
   "mimetype": "text/x-python",
   "name": "python",
   "nbconvert_exporter": "python",
   "pygments_lexer": "ipython3",
   "version": "3.9.0"
  }
 },
 "nbformat": 4,
 "nbformat_minor": 4
}
