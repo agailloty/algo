{
 "cells": [
  {
   "cell_type": "markdown",
   "id": "d5914de3-f53c-4e42-a1f5-b7d39cbbdcd2",
   "metadata": {},
   "source": [
    "# Instructions en Python"
   ]
  },
  {
   "cell_type": "code",
   "execution_count": 8,
   "id": "ffe2cecd-aaf3-4c54-8636-fbb9e4f81e37",
   "metadata": {},
   "outputs": [
    {
     "data": {
      "text/plain": [
       "3"
      ]
     },
     "execution_count": 8,
     "metadata": {},
     "output_type": "execute_result"
    }
   ],
   "source": [
    "1 + 2"
   ]
  },
  {
   "cell_type": "markdown",
   "id": "2cc70700-1783-4714-9dd2-718263bf5b68",
   "metadata": {},
   "source": [
    "Un programme est une suite d'instructions. "
   ]
  },
  {
   "cell_type": "markdown",
   "id": "966e6319-c186-4bb0-a083-d4047bc40eed",
   "metadata": {},
   "source": [
    "## Opérations"
   ]
  },
  {
   "cell_type": "code",
   "execution_count": 1,
   "id": "85ed101d-8f54-4cfb-8f27-945faf97ab08",
   "metadata": {},
   "outputs": [
    {
     "data": {
      "text/plain": [
       "18"
      ]
     },
     "execution_count": 1,
     "metadata": {},
     "output_type": "execute_result"
    }
   ],
   "source": [
    "3 * 6"
   ]
  },
  {
   "cell_type": "code",
   "execution_count": 2,
   "id": "16b3d40f-4cad-475b-8b97-38bbac65db5f",
   "metadata": {},
   "outputs": [
    {
     "data": {
      "text/plain": [
       "2"
      ]
     },
     "execution_count": 2,
     "metadata": {},
     "output_type": "execute_result"
    }
   ],
   "source": [
    "5 - 3"
   ]
  },
  {
   "cell_type": "code",
   "execution_count": 3,
   "id": "83038876-804e-460f-88e2-f939ffe67a61",
   "metadata": {},
   "outputs": [
    {
     "data": {
      "text/plain": [
       "25"
      ]
     },
     "execution_count": 3,
     "metadata": {},
     "output_type": "execute_result"
    }
   ],
   "source": [
    "5**2"
   ]
  },
  {
   "cell_type": "code",
   "execution_count": 4,
   "id": "5e5edd73-e3ff-4798-8e4e-49ac8890b761",
   "metadata": {},
   "outputs": [
    {
     "data": {
      "text/plain": [
       "27"
      ]
     },
     "execution_count": 4,
     "metadata": {},
     "output_type": "execute_result"
    }
   ],
   "source": [
    "3**3"
   ]
  },
  {
   "cell_type": "code",
   "execution_count": 5,
   "id": "1ebb71dc-065a-4267-91ab-0f8337141ebd",
   "metadata": {},
   "outputs": [
    {
     "data": {
      "text/plain": [
       "2.0"
      ]
     },
     "execution_count": 5,
     "metadata": {},
     "output_type": "execute_result"
    }
   ],
   "source": [
    "10/5"
   ]
  },
  {
   "cell_type": "markdown",
   "id": "454266f9-685f-4fbd-83bd-05cb0f06c5f8",
   "metadata": {},
   "source": [
    "# Les variables"
   ]
  },
  {
   "cell_type": "code",
   "execution_count": 6,
   "id": "ce8f1a7f-5152-41d5-9580-30bce608f260",
   "metadata": {},
   "outputs": [],
   "source": [
    "x = 2"
   ]
  },
  {
   "cell_type": "code",
   "execution_count": 7,
   "id": "cc3903e1-e5e9-4a86-ac7f-206b8a9752da",
   "metadata": {},
   "outputs": [
    {
     "name": "stdout",
     "output_type": "stream",
     "text": [
      "2\n"
     ]
    }
   ],
   "source": [
    "print(x)"
   ]
  },
  {
   "cell_type": "code",
   "execution_count": 8,
   "id": "5521b593-81a6-44f8-8836-1598a23934a5",
   "metadata": {},
   "outputs": [
    {
     "data": {
      "text/plain": [
       "4"
      ]
     },
     "execution_count": 8,
     "metadata": {},
     "output_type": "execute_result"
    }
   ],
   "source": [
    "2 * x "
   ]
  },
  {
   "cell_type": "code",
   "execution_count": 9,
   "id": "927aec9d-a719-40ad-9f85-fd6c37d54df6",
   "metadata": {},
   "outputs": [],
   "source": [
    "y = 15"
   ]
  },
  {
   "cell_type": "code",
   "execution_count": 10,
   "id": "a73d0485-596c-4b9d-a50f-d3c9644f8271",
   "metadata": {},
   "outputs": [
    {
     "data": {
      "text/plain": [
       "30"
      ]
     },
     "execution_count": 10,
     "metadata": {},
     "output_type": "execute_result"
    }
   ],
   "source": [
    "x * y "
   ]
  },
  {
   "cell_type": "code",
   "execution_count": 11,
   "id": "ca17db35-e202-46ad-bbca-320da1812860",
   "metadata": {},
   "outputs": [],
   "source": [
    "prenom = \"Jean\""
   ]
  },
  {
   "cell_type": "code",
   "execution_count": 12,
   "id": "1bf5f719-1212-447f-ae4c-3369eff708a7",
   "metadata": {},
   "outputs": [
    {
     "name": "stdout",
     "output_type": "stream",
     "text": [
      "Jean\n"
     ]
    }
   ],
   "source": [
    "print(prenom)"
   ]
  },
  {
   "cell_type": "code",
   "execution_count": null,
   "id": "ab5bb4c2-ec8b-4560-b4c2-3ecb7e52b19b",
   "metadata": {},
   "outputs": [],
   "source": []
  }
 ],
 "metadata": {
  "kernelspec": {
   "display_name": "Python 3 (ipykernel)",
   "language": "python",
   "name": "python3"
  },
  "language_info": {
   "codemirror_mode": {
    "name": "ipython",
    "version": 3
   },
   "file_extension": ".py",
   "mimetype": "text/x-python",
   "name": "python",
   "nbconvert_exporter": "python",
   "pygments_lexer": "ipython3",
   "version": "3.7.12"
  }
 },
 "nbformat": 4,
 "nbformat_minor": 5
}
