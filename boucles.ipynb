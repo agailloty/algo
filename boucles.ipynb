{
 "cells": [
  {
   "cell_type": "markdown",
   "metadata": {},
   "source": [
    "# Les boucles \n",
    "La boucle est l’une des bases de la programmation informatique. Elle est parmi **les plus basiques** et les plus puissantes des concepts de programmation. \n",
    "Une boucle dans un programme d’ordinateur est **une instruction qui se répète jusqu’à ce qu’une condition spécifiée soit atteinte**. Dans une structure en boucle, elle pose une question,et si la réponse exige une autre action, elle sera exécutée automatiquement. La même question est posée successivement jusqu’à ce qu’aucune action supplémentaire ne soit nécessaire. Cette action est communément appelée itération."
   ]
  },
  {
   "cell_type": "markdown",
   "metadata": {},
   "source": [
    "## La boucle `for`\n"
   ]
  },
  {
   "cell_type": "code",
   "execution_count": null,
   "metadata": {},
   "outputs": [],
   "source": []
  }
 ],
 "metadata": {
  "kernelspec": {
   "display_name": "Python 3 (ipykernel)",
   "language": "python",
   "name": "python3"
  },
  "language_info": {
   "codemirror_mode": {
    "name": "ipython",
    "version": 3
   },
   "file_extension": ".py",
   "mimetype": "text/x-python",
   "name": "python",
   "nbconvert_exporter": "python",
   "pygments_lexer": "ipython3",
   "version": "3.9.0"
  }
 },
 "nbformat": 4,
 "nbformat_minor": 4
}
