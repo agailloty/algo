{
 "cells": [
  {
   "cell_type": "markdown",
   "id": "bc735510-86a9-43ca-bb68-fda8bdcd858b",
   "metadata": {},
   "source": [
    "# Liste des projets à réaliser \n",
    "\n",
    "Dans le cadre du cours d'algorithmique et programmation, voici les idées de projets que je propose. \n",
    "\n",
    "## Implémenter les OLS multiples en pur Python sans aide d'une librarie par la méthode la méthode matricielle OU par la méthode de la descente du gradient.  \n",
    "\n",
    "## Mise en production d'un modèle de machine learning à travers l'interface graphique `Tkinter`\n",
    "\n",
    "## Développement d'un outil de veille d'offres d'emploi grâce au webscraper `BeautifulSoup` \n",
    "\n",
    "## Création et alimentation d'un blog Internet sur le langage Python grâce au générateur de site statique `Pelican`"
   ]
  },
  {
   "cell_type": "markdown",
   "id": "477d63c5-0908-4a56-a9fe-0816f44fee0c",
   "metadata": {},
   "source": [
    "# Prérequis \n",
    "Tous les projets doivent être déposés dans un répertoire Git. Ce qui implique de vous de créer un chacun un compte GitHub https://github.com/"
   ]
  },
  {
   "cell_type": "code",
   "execution_count": null,
   "id": "8cdcad6f-12fa-481d-a17c-420854fb00bc",
   "metadata": {},
   "outputs": [],
   "source": []
  }
 ],
 "metadata": {
  "kernelspec": {
   "display_name": "Python 3 (ipykernel)",
   "language": "python",
   "name": "python3"
  },
  "language_info": {
   "codemirror_mode": {
    "name": "ipython",
    "version": 3
   },
   "file_extension": ".py",
   "mimetype": "text/x-python",
   "name": "python",
   "nbconvert_exporter": "python",
   "pygments_lexer": "ipython3",
   "version": "3.7.12"
  }
 },
 "nbformat": 4,
 "nbformat_minor": 5
}
