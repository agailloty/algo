{
 "cells": [
  {
   "cell_type": "markdown",
   "id": "1b260c67",
   "metadata": {},
   "source": [
    "# Les fonctions \n",
    "\n",
    "En Python, une fonction est un groupe d'instructions liées qui effectue une tâche spécifique.\n",
    "\n",
    "Les fonctions aident à diviser notre programme en morceaux plus petits et modulaires. À mesure que notre programme grandit de plus en plus, les fonctions le rendent plus organisé et plus gérable.\n",
    "\n",
    "De plus, cela évite les répétitions et rend le code réutilisable. \n",
    "\n",
    "Il existe des fonctions natives dans le langage Python.  \n",
    "Voici la liste des fonctions natives en Python : https://docs.python.org/fr/3/library/functions.html \n",
    "\n",
    "## Lien entre fonction et méthode\n",
    "\n",
    "Une définition très générale de la différence principale entre une Fonction et une Méthode :\n",
    "Les fonctions sont définies en dehors des classes, tandis que les méthodes sont définies à l'intérieur des classes et en font partie."
   ]
  },
  {
   "cell_type": "code",
   "execution_count": 1,
   "id": "371b0ecb",
   "metadata": {},
   "outputs": [],
   "source": [
    "def f(x):\n",
    "    return 2 * x -5"
   ]
  },
  {
   "cell_type": "code",
   "execution_count": 2,
   "id": "bfe7fdf2",
   "metadata": {},
   "outputs": [
    {
     "data": {
      "text/plain": [
       "15"
      ]
     },
     "execution_count": 2,
     "metadata": {},
     "output_type": "execute_result"
    }
   ],
   "source": [
    "f(10)"
   ]
  },
  {
   "cell_type": "code",
   "execution_count": 3,
   "id": "9d81069b",
   "metadata": {},
   "outputs": [
    {
     "data": {
      "text/plain": [
       "35"
      ]
     },
     "execution_count": 3,
     "metadata": {},
     "output_type": "execute_result"
    }
   ],
   "source": [
    "f(20)"
   ]
  },
  {
   "cell_type": "code",
   "execution_count": null,
   "id": "75bc4599",
   "metadata": {},
   "outputs": [],
   "source": []
  }
 ],
 "metadata": {
  "kernelspec": {
   "display_name": "Python 3 (ipykernel)",
   "language": "python",
   "name": "python3"
  },
  "language_info": {
   "codemirror_mode": {
    "name": "ipython",
    "version": 3
   },
   "file_extension": ".py",
   "mimetype": "text/x-python",
   "name": "python",
   "nbconvert_exporter": "python",
   "pygments_lexer": "ipython3",
   "version": "3.9.0"
  }
 },
 "nbformat": 4,
 "nbformat_minor": 5
}
