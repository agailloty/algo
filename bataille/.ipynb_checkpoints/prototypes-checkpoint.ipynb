{
 "cells": [
  {
   "cell_type": "markdown",
   "id": "4abfaaf0-3809-4a5b-b3b3-88afc1e42956",
   "metadata": {},
   "source": [
    "# Les règles du jeu : bataille navale"
   ]
  },
  {
   "cell_type": "markdown",
   "id": "fd60df2a-7566-41ee-8c00-07d3c733d50a",
   "metadata": {},
   "source": [
    "On se propose de programmer un jeu de **\"bataille navale\"** pour 2 joueurs A et B qui s'affrontent sur 3\n",
    "damiers 10*5 cases (sous la mer en fait…). Chaque utilisateur pourra placer 3 sous-marins au total, à une\n",
    "profondeur de 100 m, de 200 m ou encore de 300 m:\n"
   ]
  },
  {
   "cell_type": "markdown",
   "id": "6d3caa81-9fd0-4bf6-9b98-a2161801ecc1",
   "metadata": {},
   "source": [
    "![](regle.JPG)"
   ]
  },
  {
   "cell_type": "code",
   "execution_count": null,
   "id": "22085bdf-5cf7-4e09-9e60-c8bd0b6be2b7",
   "metadata": {},
   "outputs": [],
   "source": [
    "joueurs = [\"A\", \"B\"]\n"
   ]
  },
  {
   "cell_type": "markdown",
   "id": "7946edff-c842-409b-a081-9963ab825760",
   "metadata": {},
   "source": [
    "## Représenter les damiers (10 * 5)"
   ]
  },
  {
   "cell_type": "code",
   "execution_count": 3,
   "id": "705c63c8-ce86-4900-b008-0c0044634a34",
   "metadata": {},
   "outputs": [],
   "source": [
    "longueur = [\"A\", \"B\", \"C\", \"D\", \"E\"]\n",
    "largeur = range(10)"
   ]
  },
  {
   "cell_type": "code",
   "execution_count": 12,
   "id": "1352a994-407e-49d4-90f3-ac19adbc400b",
   "metadata": {},
   "outputs": [
    {
     "name": "stdout",
     "output_type": "stream",
     "text": [
      "--|--|--|--|--|--|--|--|--|--|\n",
      "--|--|--|--|--|--|--|--|--|--|\n",
      "--|--|--|--|--|--|--|--|--|--|\n",
      "--|--|--|--|--|--|--|--|--|--|\n",
      "--|--|--|--|--|--|--|--|--|--|\n"
     ]
    }
   ],
   "source": [
    "for x in longueur:\n",
    "    #print(\"--\", end = \"\")\n",
    "    for y in largeur:\n",
    "        print(\"--\", end = \"\")\n",
    "        print(\"|\", end = \"\")\n",
    "    print()"
   ]
  },
  {
   "cell_type": "code",
   "execution_count": null,
   "id": "21f6d87d-1110-41a5-9e0c-41546afd456f",
   "metadata": {},
   "outputs": [],
   "source": []
  }
 ],
 "metadata": {
  "kernelspec": {
   "display_name": "Python 3 (ipykernel)",
   "language": "python",
   "name": "python3"
  },
  "language_info": {
   "codemirror_mode": {
    "name": "ipython",
    "version": 3
   },
   "file_extension": ".py",
   "mimetype": "text/x-python",
   "name": "python",
   "nbconvert_exporter": "python",
   "pygments_lexer": "ipython3",
   "version": "3.9.0"
  }
 },
 "nbformat": 4,
 "nbformat_minor": 5
}
