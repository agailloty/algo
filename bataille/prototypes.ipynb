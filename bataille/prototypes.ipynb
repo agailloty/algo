{
 "cells": [
  {
   "cell_type": "markdown",
   "id": "4abfaaf0-3809-4a5b-b3b3-88afc1e42956",
   "metadata": {},
   "source": [
    "# Les règles du jeu : bataille navale"
   ]
  },
  {
   "cell_type": "markdown",
   "id": "fd60df2a-7566-41ee-8c00-07d3c733d50a",
   "metadata": {},
   "source": [
    "On se propose de programmer un jeu de **\"bataille navale\"** pour 2 joueurs A et B qui s'affrontent sur 3\n",
    "damiers 10*5 cases (sous la mer en fait…). Chaque utilisateur pourra placer 3 sous-marins au total, à une\n",
    "profondeur de 100 m, de 200 m ou encore de 300 m:\n"
   ]
  },
  {
   "cell_type": "markdown",
   "id": "6d3caa81-9fd0-4bf6-9b98-a2161801ecc1",
   "metadata": {},
   "source": [
    "![](regle.JPG)"
   ]
  },
  {
   "cell_type": "code",
   "execution_count": null,
   "id": "22085bdf-5cf7-4e09-9e60-c8bd0b6be2b7",
   "metadata": {},
   "outputs": [],
   "source": [
    "joueurs = [\"A\", \"B\"]\n"
   ]
  },
  {
   "cell_type": "markdown",
   "id": "7946edff-c842-409b-a081-9963ab825760",
   "metadata": {},
   "source": [
    "## Représenter les damiers (10 * 5)"
   ]
  },
  {
   "cell_type": "code",
   "execution_count": 30,
   "id": "705c63c8-ce86-4900-b008-0c0044634a34",
   "metadata": {},
   "outputs": [],
   "source": [
    "longueur = [\"\", \"A\", \"B\", \"C\", \"D\", \"E\"]\n",
    "largeur = range(11)"
   ]
  },
  {
   "cell_type": "code",
   "execution_count": 33,
   "id": "1352a994-407e-49d4-90f3-ac19adbc400b",
   "metadata": {},
   "outputs": [
    {
     "name": "stdout",
     "output_type": "stream",
     "text": [
      "0__|__|__|__|__|__|__|__|__|__|__|\n",
      "A__|__|__|__|__|__|__|__|__|__|__|\n",
      "B__|__|__|__|__|__|__|__|__|__|__|\n",
      "C__|__|__|__|__|__|__|__|__|__|__|\n",
      "D__|__|__|__|__|__|__|__|__|__|__|\n",
      "E__|__|__|__|__|__|__|__|__|__|__|\n"
     ]
    }
   ],
   "source": [
    "count = 0\n",
    "for x in longueur:\n",
    "    print(x, end=\"\")\n",
    "    for y in largeur:\n",
    "        count = count + 1\n",
    "        if count == 1:\n",
    "            print(y, end = \"\")\n",
    "        print(\"__\", end = \"\")\n",
    "        print(\"|\", end = \"\")\n",
    "    print()"
   ]
  },
  {
   "cell_type": "markdown",
   "id": "939af0d1-aa54-4758-936a-b87fee1a181d",
   "metadata": {},
   "source": [
    "Chaque utilisateur pourra placer 3 sous-marins au total, à une profondeur de 100 m, de 200 m ou encore de 300 m: \n",
    " **Compréhension ** :   \n",
    "- Total = 3 sous marins \n",
    "\n",
    "Sur chaque damier combien au maximum doit-il placer ? 3 mais vu qu'il y a deux joueurs il y a en total 6 sous-marins à représenter sur les 3 damiers. "
   ]
  },
  {
   "cell_type": "markdown",
   "id": "034c1bc7-e2ff-4f1b-b972-774f40800056",
   "metadata": {},
   "source": [
    "### Suite de la règle\n",
    "Les 3 sous-marins ont une taille respective de 1 case, 2 cases et 3 cases de long et peuvent être\n",
    "disposés horizontalement (voir l’exemple à la profondeur de 300 m) ou verticalement (voir l’exemple à la Figure   \n",
    "\n",
    "1- profondeur de 100 m).   \n",
    "Une solution classique consisterait à faire jouer le joueur A sur un ordinateur et le joueur B sur un\n",
    "autre. Ici, nous allons utiliser une autre approche: les deux joueurs vont s'affronter sur le même ordinateur.     \n",
    "\n",
    "Dès lors, pour des raisons évidentes de confidentialité, il faut prévoir 4 phases dans le jeu:\n",
    "-  1ère phase : le joueur A indique à l'ordinateur où se trouvent ses sous-marins (le joueur B ne\n",
    "regarde pas bien entendu). \n",
    "\n",
    "- 2ème phase : le joueur B réalise la même opération pour ses propres sous-marins.\n",
    "\n",
    "-  3ème phase : le joueur A revient et la partie peut commencer.\n",
    "\n",
    "- 4ème phase : chaque adversaire joue à son tour et entre les coordonnées où il tire (exemple:\n",
    "C5 profondeur 100). Après chaque tir, l'ordinateur affichera le nouvel état des grilles (les ‘R’\n",
    "vont être expliqués ci-dessous) :"
   ]
  },
  {
   "cell_type": "markdown",
   "id": "35f4b6fe-8b89-4c16-816d-1495e420f7b9",
   "metadata": {},
   "source": [
    "![](regle2.JPG)"
   ]
  },
  {
   "cell_type": "markdown",
   "id": "0fb399b3-a0d3-4891-9beb-d99a04c8fd1d",
   "metadata": {},
   "source": [
    "Le joueur A tire donc sur la mer B et le joueur B tire sur la mer A:   \n",
    "- 'R': veut dire \"Rien en vue\", cela veut dire que si l'utilisateur tire sur la case (X,Y) à la profondeur P,  \n",
    "on teste les cases (X,Y-1), (X+1,Y), (X,Y+1), (X-1,Y) à la profondeur P ainsi que la case (X,Y) à la\n",
    "profondeur P-100 mètres (si elle existe) et la case (X,Y) à la profondeur P+100 mètres (si elle existe).  \n",
    "\n",
    "Exemple: le joueur A a tiré en C5 à 100 m de profondeur, étant donné qu'il n'y avait rien sur les cases\n",
    "C5, B5, C6, D5, C4 à 100 m et rien sur la case C5 à 200 m on place des 'R' partout.\n",
    "- 'V': veut dire \"Vu\", c'est-à-dire qu'il y avait un sous-marin sur l'une des cases précitées. On mettra\n",
    "donc des V partout.\n",
    "- 'T': veut dire \"Touché\", c'est-à-dire qu'il y avait un sous-marin sur la case que l'on vient de viser.\n",
    "- 'C': veut dire \"Coulé\", c'est-à-dire que l'on vient d'une part de toucher le sous-marin mais qu'on vient\n",
    "en plus de le couler car toutes les cases qu'il représentait ont été au préalable touchées.\n",
    "A noter que si une case a été notée ‘C’ à un moment pour dire que le sous-marin a été coulé, l’état de\n",
    "cette case ne changera plus dans le futur. Par exemple, à la Figure 1, le joueur B tire en D8 à la profondeur\n",
    "300 m, cela va donc couler le sous-marin en D8. La case passera donc à ‘C’ pour coulé. On ne touche pas à\n",
    "l’état des autres cases… Par la suite, si le joueur B tire en D9 à la profondeur 300 m, il ne faudra pas que le\n",
    "case D8 change ; dans l’idéal, par la suite, pour un tir en D9 à la profondeur 300 m, il faudrait avoir\n",
    "ceci d’affiché car le sous-marin de D8 a été coulé et a donc pour ainsi dire disparu des radars :"
   ]
  },
  {
   "cell_type": "code",
   "execution_count": 37,
   "id": "7085c07f-b94a-4ffa-a636-f554b6ff7f93",
   "metadata": {},
   "outputs": [],
   "source": [
    "def attaque(X, Y, P):\n",
    "    \"\"\"\n",
    "    Cette fonction exécute une attaque portée par un joueur. \n",
    "    Elle prend en paramètre les corrdonnées représentées par X et Y et la profondeur P\n",
    "    \"\"\"\n",
    "    print(f\"Le joueur a entré les corrdonnées {X, Y} à la profondeur {P}\")"
   ]
  },
  {
   "cell_type": "code",
   "execution_count": 38,
   "id": "40fed912-b87b-4cb7-86fd-8d9bef396bc3",
   "metadata": {},
   "outputs": [
    {
     "name": "stdout",
     "output_type": "stream",
     "text": [
      "Le joueur a entré les corrdonnées ('C', 5) à la profondeur 100m\n"
     ]
    }
   ],
   "source": [
    "attaque(\"C\", 5, \"100m\")"
   ]
  },
  {
   "cell_type": "code",
   "execution_count": 39,
   "id": "ea659246-aa20-4bc8-9c2f-36da3a273940",
   "metadata": {},
   "outputs": [
    {
     "name": "stdin",
     "output_type": "stream",
     "text": [
      "Entrer les coordonnées de vos attaques X, Y, P séparés par des virgules. Ex : C,5,P100 C, 5, P100\n"
     ]
    }
   ],
   "source": [
    "coords = input(\"Entrer les coordonnées de vos attaques X, Y, P séparés par des virgules. Ex : C,5,P100\")"
   ]
  },
  {
   "cell_type": "code",
   "execution_count": 40,
   "id": "dd01c84b-2e86-4545-9f3c-e00d8adf5280",
   "metadata": {},
   "outputs": [
    {
     "data": {
      "text/plain": [
       "'C, 5, P100'"
      ]
     },
     "execution_count": 40,
     "metadata": {},
     "output_type": "execute_result"
    }
   ],
   "source": [
    "coords"
   ]
  },
  {
   "cell_type": "code",
   "execution_count": 42,
   "id": "e8c5b161-fc45-4a55-9b71-7e1fce83994d",
   "metadata": {},
   "outputs": [
    {
     "data": {
      "text/plain": [
       "['C', ' 5', ' P100']"
      ]
     },
     "execution_count": 42,
     "metadata": {},
     "output_type": "execute_result"
    }
   ],
   "source": [
    "coords.split(\",\")"
   ]
  },
  {
   "cell_type": "code",
   "execution_count": null,
   "id": "47837f95-ffe8-413a-b5fe-a4df8208b54e",
   "metadata": {},
   "outputs": [],
   "source": []
  }
 ],
 "metadata": {
  "kernelspec": {
   "display_name": "Python 3 (ipykernel)",
   "language": "python",
   "name": "python3"
  },
  "language_info": {
   "codemirror_mode": {
    "name": "ipython",
    "version": 3
   },
   "file_extension": ".py",
   "mimetype": "text/x-python",
   "name": "python",
   "nbconvert_exporter": "python",
   "pygments_lexer": "ipython3",
   "version": "3.9.0"
  }
 },
 "nbformat": 4,
 "nbformat_minor": 5
}
