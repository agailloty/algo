{
 "cells": [
  {
   "cell_type": "markdown",
   "id": "4abfaaf0-3809-4a5b-b3b3-88afc1e42956",
   "metadata": {},
   "source": [
    "# Les règles du jeu : bataille navale"
   ]
  },
  {
   "cell_type": "markdown",
   "id": "fd60df2a-7566-41ee-8c00-07d3c733d50a",
   "metadata": {},
   "source": [
    "On se propose de programmer un jeu de **\"bataille navale\"** pour 2 joueurs A et B qui s'affrontent sur 3\n",
    "damiers 10*5 cases (sous la mer en fait…). Chaque utilisateur pourra placer 3 sous-marins au total, à une\n",
    "profondeur de 100 m, de 200 m ou encore de 300 m:\n"
   ]
  },
  {
   "cell_type": "markdown",
   "id": "6d3caa81-9fd0-4bf6-9b98-a2161801ecc1",
   "metadata": {},
   "source": [
    "![](regle.JPG)"
   ]
  },
  {
   "cell_type": "code",
   "execution_count": null,
   "id": "22085bdf-5cf7-4e09-9e60-c8bd0b6be2b7",
   "metadata": {},
   "outputs": [],
   "source": [
    "joueurs = [\"A\", \"B\"]\n"
   ]
  },
  {
   "cell_type": "markdown",
   "id": "7946edff-c842-409b-a081-9963ab825760",
   "metadata": {},
   "source": [
    "## Représenter les damiers (10 * 5)"
   ]
  },
  {
   "cell_type": "code",
   "execution_count": 30,
   "id": "705c63c8-ce86-4900-b008-0c0044634a34",
   "metadata": {},
   "outputs": [],
   "source": [
    "longueur = [\"\", \"A\", \"B\", \"C\", \"D\", \"E\"]\n",
    "largeur = range(11)"
   ]
  },
  {
   "cell_type": "code",
   "execution_count": 33,
   "id": "1352a994-407e-49d4-90f3-ac19adbc400b",
   "metadata": {},
   "outputs": [
    {
     "name": "stdout",
     "output_type": "stream",
     "text": [
      "0__|__|__|__|__|__|__|__|__|__|__|\n",
      "A__|__|__|__|__|__|__|__|__|__|__|\n",
      "B__|__|__|__|__|__|__|__|__|__|__|\n",
      "C__|__|__|__|__|__|__|__|__|__|__|\n",
      "D__|__|__|__|__|__|__|__|__|__|__|\n",
      "E__|__|__|__|__|__|__|__|__|__|__|\n"
     ]
    }
   ],
   "source": [
    "count = 0\n",
    "for x in longueur:\n",
    "    print(x, end=\"\")\n",
    "    for y in largeur:\n",
    "        count = count + 1\n",
    "        if count == 1:\n",
    "            print(y, end = \"\")\n",
    "        print(\"__\", end = \"\")\n",
    "        print(\"|\", end = \"\")\n",
    "    print()"
   ]
  },
  {
   "cell_type": "markdown",
   "id": "939af0d1-aa54-4758-936a-b87fee1a181d",
   "metadata": {},
   "source": [
    "Chaque utilisateur pourra placer 3 sous-marins au total, à une profondeur de 100 m, de 200 m ou encore de 300 m: \n",
    " **Compréhension ** :   \n",
    "- Total = 3 sous marins \n",
    "\n",
    "Sur chaque damier combien au maximum doit-il placer ? 3 mais vu qu'il y a deux joueurs il y a en total 6 sous-marins à représenter sur les 3 damiers. "
   ]
  },
  {
   "cell_type": "markdown",
   "id": "034c1bc7-e2ff-4f1b-b972-774f40800056",
   "metadata": {},
   "source": [
    "### Suite de la règle\n",
    "Les 3 sous-marins ont une taille respective de 1 case, 2 cases et 3 cases de long et peuvent être\n",
    "disposés horizontalement (voir l’exemple à la profondeur de 300 m) ou verticalement (voir l’exemple à la Figure\n",
    "1- profondeur de 100 m).\n",
    "Une solution classique consisterait à faire jouer le joueur A sur un ordinateur et le joueur B sur un\n",
    "autre. Ici, nous allons utiliser une autre approche: les deux joueurs vont s'affronter sur le même ordinateur.\n",
    "Dès lors, pour des raisons évidentes de confidentialité, il faut prévoir 4 phases dans le jeu:\n",
    " 1ère phase : le joueur A indique à l'ordinateur où se trouvent ses sous-marins (le joueur B ne\n",
    "regarde pas bien entendu).\n",
    " 2ème phase : le joueur B réalise la même opération pour ses propres sous-marins.\n",
    " 3ème phase : le joueur A revient et la partie peut commencer."
   ]
  },
  {
   "cell_type": "code",
   "execution_count": null,
   "id": "1f9561c5-4522-4c7c-875f-e2b23f46239b",
   "metadata": {},
   "outputs": [],
   "source": []
  }
 ],
 "metadata": {
  "kernelspec": {
   "display_name": "Python 3 (ipykernel)",
   "language": "python",
   "name": "python3"
  },
  "language_info": {
   "codemirror_mode": {
    "name": "ipython",
    "version": 3
   },
   "file_extension": ".py",
   "mimetype": "text/x-python",
   "name": "python",
   "nbconvert_exporter": "python",
   "pygments_lexer": "ipython3",
   "version": "3.9.0"
  }
 },
 "nbformat": 4,
 "nbformat_minor": 5
}
