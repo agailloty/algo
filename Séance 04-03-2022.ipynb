{
 "cells": [
  {
   "cell_type": "code",
   "execution_count": 2,
   "id": "b6c0491e-c774-4b01-a628-0c3e7faf052f",
   "metadata": {},
   "outputs": [],
   "source": [
    "import m2IEE"
   ]
  },
  {
   "cell_type": "code",
   "execution_count": 4,
   "id": "daddd068-1ca1-4008-8153-c3f59077edea",
   "metadata": {},
   "outputs": [
    {
     "name": "stdout",
     "output_type": "stream",
     "text": [
      "\n"
     ]
    },
    {
     "data": {
      "text/plain": [
       "4.285714285714286"
      ]
     },
     "execution_count": 4,
     "metadata": {},
     "output_type": "execute_result"
    }
   ],
   "source": [
    "m2IEE.moyenne([1,2,3,4,5,8,7])"
   ]
  },
  {
   "cell_type": "code",
   "execution_count": 15,
   "id": "4464e41c-467d-495e-bac1-bad2f4bf7c73",
   "metadata": {},
   "outputs": [],
   "source": [
    "from m2IEE import variance, moyenne"
   ]
  },
  {
   "cell_type": "code",
   "execution_count": 6,
   "id": "25208a31-160e-4f79-bb91-5bc293539e40",
   "metadata": {},
   "outputs": [
    {
     "data": {
      "text/plain": [
       "<function m2IEE.variance(valeur_variance: list)>"
      ]
     },
     "execution_count": 6,
     "metadata": {},
     "output_type": "execute_result"
    }
   ],
   "source": [
    "variance"
   ]
  },
  {
   "cell_type": "code",
   "execution_count": 7,
   "id": "129c828d-c7c0-40b3-b6c2-f97db86ebabe",
   "metadata": {},
   "outputs": [],
   "source": [
    "import inspect"
   ]
  },
  {
   "cell_type": "code",
   "execution_count": 9,
   "id": "c9cbe393-893b-4cf5-8be5-945f6e61c7a5",
   "metadata": {},
   "outputs": [
    {
     "name": "stdout",
     "output_type": "stream",
     "text": [
      "def variance(valeur_variance:list):\n",
      "    \"\"\"\n",
      "    Cette fonction calcule la variance d'une série de données.\n",
      "    Prend en argument une séquence de valeur\n",
      "    \"\"\"\n",
      "    # Nous calculons n et la moyenne de la liste\n",
      "    n = len(valeur_variance)\n",
      "    moyenne_list = moyenne(valeur_variance)\n",
      "    # Logique pour calculer la variance\n",
      "    sommesqEM = 0\n",
      "    \n",
      "    for var in valeur_variance : \n",
      "        sqEM = (var - moyenne_list)**2\n",
      "        #print(f\"l'écart à la moyenne au carré est {sqEM}\")\n",
      "        sommesqEM = sommesqEM + sqEM\n",
      "        #print(f\"la somme des carrés des EM est {sommesqEM}\")\n",
      "    variance_list = sommesqEM / n\n",
      "    return variance_list\n",
      "\n"
     ]
    }
   ],
   "source": [
    "print(inspect.getsource(variance))"
   ]
  },
  {
   "cell_type": "code",
   "execution_count": 11,
   "id": "ea1ec3f2-a711-46d0-91e7-50e34935c18c",
   "metadata": {},
   "outputs": [
    {
     "name": "stdout",
     "output_type": "stream",
     "text": [
      "def moyenne(donnees):\n",
      "    \"\"\"\n",
      "    Cette fonction calcule la moyenne d'une série de valeurs. \n",
      "    \"\"\"\n",
      "    somme = 0\n",
      "    n = 0\n",
      "    for valeur in donnees:\n",
      "        n = n+1\n",
      "        somme = somme + valeur\n",
      "        #print(f\"La valeur actuelle de somme est : {somme}\")\n",
      "    print()\n",
      "    moyenne = somme / n\n",
      "    #print(f\"La moyenne est {moyenne}\")\n",
      "    return moyenne\n",
      "\n"
     ]
    }
   ],
   "source": [
    "print(inspect.getsource(m2IEE.moyenne))"
   ]
  },
  {
   "cell_type": "markdown",
   "id": "2394abb0-6fbd-41ee-a0a5-5814747ae0a8",
   "metadata": {},
   "source": [
    "# Statistiques bivariées "
   ]
  },
  {
   "cell_type": "code",
   "execution_count": 10,
   "id": "d9f597b8-6718-4120-91f2-9c2fcba5f6ed",
   "metadata": {},
   "outputs": [],
   "source": [
    "tailles = [1.90, 1.75, 1.88, 1.87, 2.04, 1.65, 1.77, 1.78, 1.81, 1.79]\n",
    "poids = [95, 75, 70, 77, 103, 60, 71, 66, 80, 69]"
   ]
  },
  {
   "cell_type": "markdown",
   "id": "45027ac8-8a70-487f-b8bf-11c03749ba16",
   "metadata": {},
   "source": [
    "**Calculer la covariance entre tailles et âges :**  \n",
    "Pour rappel, la covariance entre X et Y est :  \n",
    "\n",
    "![](images/covariance.png)"
   ]
  },
  {
   "cell_type": "markdown",
   "id": "06d6942f-2613-47e5-89f5-37a07101245d",
   "metadata": {},
   "source": [
    "# https://codeshare.io/3A3BML"
   ]
  },
  {
   "cell_type": "code",
   "execution_count": 14,
   "id": "268efe9c-31ad-42ee-8d54-a2ff985a67be",
   "metadata": {},
   "outputs": [],
   "source": [
    "def covariance(x,y):\n",
    "    X = moyenne(y)"
   ]
  },
  {
   "cell_type": "code",
   "execution_count": null,
   "id": "c2d90a60-3f29-4809-ac22-b3d276598ce7",
   "metadata": {},
   "outputs": [],
   "source": []
  }
 ],
 "metadata": {
  "kernelspec": {
   "display_name": "Python 3 (ipykernel)",
   "language": "python",
   "name": "python3"
  },
  "language_info": {
   "codemirror_mode": {
    "name": "ipython",
    "version": 3
   },
   "file_extension": ".py",
   "mimetype": "text/x-python",
   "name": "python",
   "nbconvert_exporter": "python",
   "pygments_lexer": "ipython3",
   "version": "3.7.12"
  }
 },
 "nbformat": 4,
 "nbformat_minor": 5
}
