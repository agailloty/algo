{
 "cells": [
  {
   "cell_type": "markdown",
   "id": "463ac186-0191-44c3-b1c3-7c21c80159a2",
   "metadata": {},
   "source": [
    "# Les bases de la programmation"
   ]
  },
  {
   "cell_type": "markdown",
   "id": "569aece8-bb48-4d0d-9f33-8115f815e250",
   "metadata": {},
   "source": [
    "## Une instruction\n",
    "Un programme informatique est constitué d'une suite d'instructions.\n",
    "Une instruction informatique désigne une étape dans un programme informatique. Une instruction dicte à l'ordinateur l'action nécessaire qu'il doit effectuer avant de passer à l'instruction suivante. "
   ]
  },
  {
   "cell_type": "code",
   "execution_count": 1,
   "id": "45f129ee-0910-43e7-b4da-4d09b2e69c56",
   "metadata": {},
   "outputs": [
    {
     "name": "stdout",
     "output_type": "stream",
     "text": [
      "France\n"
     ]
    }
   ],
   "source": [
    "pays = \"France\"\n",
    "print(pays)"
   ]
  },
  {
   "cell_type": "markdown",
   "id": "6db17195-45cc-4bd6-be0d-1f3e8c10db9f",
   "metadata": {},
   "source": [
    "# Les opérations \n",
    "La plupart des opérations algébriques sont disponibles dans le langage Python. "
   ]
  },
  {
   "cell_type": "code",
   "execution_count": 2,
   "id": "c81f4e8c-198e-4f8a-a855-dc5b2c16afca",
   "metadata": {},
   "outputs": [
    {
     "data": {
      "text/plain": [
       "10"
      ]
     },
     "execution_count": 2,
     "metadata": {},
     "output_type": "execute_result"
    }
   ],
   "source": [
    "5 + 5"
   ]
  },
  {
   "cell_type": "code",
   "execution_count": 3,
   "id": "e9503aba-7b0a-4d9b-b947-6a7cfa71a32f",
   "metadata": {},
   "outputs": [
    {
     "data": {
      "text/plain": [
       "0"
      ]
     },
     "execution_count": 3,
     "metadata": {},
     "output_type": "execute_result"
    }
   ],
   "source": [
    "5 - 5"
   ]
  },
  {
   "cell_type": "code",
   "execution_count": 4,
   "id": "2d8e1fd0-ac84-4e33-88dd-88ccd3de48a6",
   "metadata": {},
   "outputs": [
    {
     "data": {
      "text/plain": [
       "25"
      ]
     },
     "execution_count": 4,
     "metadata": {},
     "output_type": "execute_result"
    }
   ],
   "source": [
    "5 * 5"
   ]
  },
  {
   "cell_type": "code",
   "execution_count": 5,
   "id": "4b36a7ad-fea6-4090-812b-bd1213573b1b",
   "metadata": {},
   "outputs": [
    {
     "data": {
      "text/plain": [
       "25"
      ]
     },
     "execution_count": 5,
     "metadata": {},
     "output_type": "execute_result"
    }
   ],
   "source": [
    "5 ** 2"
   ]
  },
  {
   "cell_type": "code",
   "execution_count": null,
   "id": "abd67259-9e32-45c3-b11e-17f3eb8febf3",
   "metadata": {},
   "outputs": [],
   "source": []
  },
  {
   "cell_type": "markdown",
   "id": "a2162db7-cd52-440f-80d8-ad3c53ec1eae",
   "metadata": {
    "slideshow": {
     "slide_type": "slide"
    },
    "tags": []
   },
   "source": [
    "# Les variables\n",
    "Une variable est une référence vers une donnée en mémoire.  \n"
   ]
  },
  {
   "cell_type": "code",
   "execution_count": 6,
   "id": "e86ab7f5-574c-4f8d-92c8-d06ab761058a",
   "metadata": {
    "slideshow": {
     "slide_type": "slide"
    },
    "tags": []
   },
   "outputs": [
    {
     "name": "stdout",
     "output_type": "stream",
     "text": [
      "L'année actuelle est 2022\n"
     ]
    }
   ],
   "source": [
    "# Exemple \n",
    "annee_actuelle = 2022\n",
    "print(f\"L'année actuelle est {annee_actuelle}\")"
   ]
  },
  {
   "cell_type": "code",
   "execution_count": 7,
   "id": "e467c283-a63e-4ac0-a012-6997d1423576",
   "metadata": {
    "slideshow": {
     "slide_type": "slide"
    }
   },
   "outputs": [
    {
     "data": {
      "text/plain": [
       "42"
      ]
     },
     "execution_count": 7,
     "metadata": {},
     "output_type": "execute_result"
    }
   ],
   "source": [
    "annee_actuelle - 1980"
   ]
  },
  {
   "cell_type": "markdown",
   "id": "a976e243",
   "metadata": {
    "slideshow": {
     "slide_type": "slide"
    }
   },
   "source": [
    "Officiellement, les noms de variables en Python être de n'importe quelle longueur et peuvent être constitués de lettres majuscules et minuscules (A-Z, a-z), de chiffres (0-9) et du caractère de soulignement (_).  \n",
    "Une restriction supplémentaire est que, bien qu'un nom de variable puisse contenir des chiffres, le premier caractère d'un nom de variable ne peut pas être un chiffre."
   ]
  },
  {
   "cell_type": "code",
   "execution_count": 8,
   "id": "2a25b93e",
   "metadata": {
    "slideshow": {
     "slide_type": "subslide"
    }
   },
   "outputs": [
    {
     "ename": "SyntaxError",
     "evalue": "invalid syntax (Temp/ipykernel_14368/4080265089.py, line 2)",
     "output_type": "error",
     "traceback": [
      "\u001b[1;36m  File \u001b[1;32m\"C:\\Users\\AXEL-C~3\\AppData\\Local\\Temp/ipykernel_14368/4080265089.py\"\u001b[1;36m, line \u001b[1;32m2\u001b[0m\n\u001b[1;33m    9bis = 23\u001b[0m\n\u001b[1;37m     ^\u001b[0m\n\u001b[1;31mSyntaxError\u001b[0m\u001b[1;31m:\u001b[0m invalid syntax\n"
     ]
    }
   ],
   "source": [
    "# Nom invalide de variable \n",
    "9bis = 23"
   ]
  },
  {
   "cell_type": "code",
   "execution_count": 9,
   "id": "ad210889",
   "metadata": {
    "slideshow": {
     "slide_type": "subslide"
    }
   },
   "outputs": [
    {
     "ename": "SyntaxError",
     "evalue": "invalid syntax (Temp/ipykernel_14368/3716344460.py, line 1)",
     "output_type": "error",
     "traceback": [
      "\u001b[1;36m  File \u001b[1;32m\"C:\\Users\\AXEL-C~3\\AppData\\Local\\Temp/ipykernel_14368/3716344460.py\"\u001b[1;36m, line \u001b[1;32m1\u001b[0m\n\u001b[1;33m    $hello = 12\u001b[0m\n\u001b[1;37m    ^\u001b[0m\n\u001b[1;31mSyntaxError\u001b[0m\u001b[1;31m:\u001b[0m invalid syntax\n"
     ]
    }
   ],
   "source": [
    "$hello = 12"
   ]
  },
  {
   "cell_type": "code",
   "execution_count": 10,
   "id": "e0a7ddc3",
   "metadata": {
    "slideshow": {
     "slide_type": "subslide"
    }
   },
   "outputs": [],
   "source": [
    "_ = 25"
   ]
  },
  {
   "cell_type": "code",
   "execution_count": 11,
   "id": "aa3251ba",
   "metadata": {
    "slideshow": {
     "slide_type": "subslide"
    }
   },
   "outputs": [
    {
     "data": {
      "text/plain": [
       "25"
      ]
     },
     "execution_count": 11,
     "metadata": {},
     "output_type": "execute_result"
    }
   ],
   "source": [
    "_"
   ]
  },
  {
   "cell_type": "markdown",
   "id": "6a9a148d",
   "metadata": {
    "slideshow": {
     "slide_type": "slide"
    }
   },
   "source": [
    "# Variable et types de données"
   ]
  },
  {
   "cell_type": "markdown",
   "id": "715c983d-75a7-4b65-865f-783433bbf7a8",
   "metadata": {
    "slideshow": {
     "slide_type": "subslide"
    },
    "tags": []
   },
   "source": [
    "Python est un langage à type dynamique. Cela signifie que nous n'avons pas besoin de spécifier le type des variables que nous utilisons. \n",
    "L'interpréteur Python se charge, au moment d'exécuter le code, de déterminer quel type de données ira dans la variable. \n",
    "\n",
    "La fonction `type(x)` retourne le type de données que contient la variable. "
   ]
  },
  {
   "cell_type": "code",
   "execution_count": 12,
   "id": "cf4de5c6-9bbd-447b-915e-e6a70b7c4e27",
   "metadata": {
    "slideshow": {
     "slide_type": "subslide"
    }
   },
   "outputs": [
    {
     "data": {
      "text/plain": [
       "int"
      ]
     },
     "execution_count": 12,
     "metadata": {},
     "output_type": "execute_result"
    }
   ],
   "source": [
    "x = 1\n",
    "type(x)"
   ]
  },
  {
   "cell_type": "code",
   "execution_count": 13,
   "id": "d8774189-24d8-4e42-a87a-d0dd32b9da21",
   "metadata": {
    "slideshow": {
     "slide_type": "subslide"
    }
   },
   "outputs": [
    {
     "data": {
      "text/plain": [
       "str"
      ]
     },
     "execution_count": 13,
     "metadata": {},
     "output_type": "execute_result"
    }
   ],
   "source": [
    "x = \"Python\"\n",
    "type(x)"
   ]
  },
  {
   "cell_type": "code",
   "execution_count": 14,
   "id": "b540e360-90b7-47b2-9f3f-c4bf7a5e6912",
   "metadata": {
    "slideshow": {
     "slide_type": "subslide"
    }
   },
   "outputs": [
    {
     "data": {
      "text/plain": [
       "float"
      ]
     },
     "execution_count": 14,
     "metadata": {},
     "output_type": "execute_result"
    }
   ],
   "source": [
    "x = 12.9\n",
    "type(x)"
   ]
  },
  {
   "cell_type": "markdown",
   "id": "2118ec40",
   "metadata": {
    "slideshow": {
     "slide_type": "slide"
    }
   },
   "source": [
    "## Les types de données de base en Python\n",
    "Pour plus d'infos consulter cet [article](https://www.upgrad.com/blog/top-7-data-types-of-python-python-data-types/)"
   ]
  },
  {
   "cell_type": "markdown",
   "id": "1c165a51",
   "metadata": {
    "slideshow": {
     "slide_type": "slide"
    }
   },
   "source": [
    "Type texte : str  \n",
    "Type booléen : bool  \n",
    "Les ensembles : frozenset, set  \n",
    "Table de hachage : dict  \n",
    "Les séquences : range, tuple, list  \n",
    "Types numériques : complex, float, int  "
   ]
  },
  {
   "cell_type": "markdown",
   "id": "1b202b9e",
   "metadata": {
    "slideshow": {
     "slide_type": "slide"
    }
   },
   "source": [
    "**Ces types sont définis dans le langage Python. Ils peuvent être utilisés tels quels, pas besoin de les importer** "
   ]
  },
  {
   "cell_type": "markdown",
   "id": "729a415a",
   "metadata": {
    "slideshow": {
     "slide_type": "slide"
    }
   },
   "source": [
    "### Type text : `str`"
   ]
  },
  {
   "cell_type": "code",
   "execution_count": 15,
   "id": "a14cf4b1",
   "metadata": {
    "slideshow": {
     "slide_type": "slide"
    }
   },
   "outputs": [],
   "source": [
    "lang = \"Python est cool\""
   ]
  },
  {
   "cell_type": "code",
   "execution_count": 16,
   "id": "fd8cbbba",
   "metadata": {
    "slideshow": {
     "slide_type": "slide"
    }
   },
   "outputs": [
    {
     "data": {
      "text/plain": [
       "str"
      ]
     },
     "execution_count": 16,
     "metadata": {},
     "output_type": "execute_result"
    }
   ],
   "source": [
    "type(lang)"
   ]
  },
  {
   "cell_type": "code",
   "execution_count": 17,
   "id": "1c792a02",
   "metadata": {
    "slideshow": {
     "slide_type": "slide"
    }
   },
   "outputs": [
    {
     "name": "stdout",
     "output_type": "stream",
     "text": [
      "Python est cool\n"
     ]
    }
   ],
   "source": [
    "print(lang)"
   ]
  },
  {
   "cell_type": "markdown",
   "id": "e6f61216",
   "metadata": {
    "slideshow": {
     "slide_type": "slide"
    }
   },
   "source": [
    "Le type `str` est un objet Python.  \n",
    "Cela signifie qu'il contient des propriétés et des méthodes.  "
   ]
  },
  {
   "cell_type": "code",
   "execution_count": 18,
   "id": "83b9edbe",
   "metadata": {
    "slideshow": {
     "slide_type": "slide"
    }
   },
   "outputs": [
    {
     "data": {
      "text/plain": [
       "'PYTHON EST COOL'"
      ]
     },
     "execution_count": 18,
     "metadata": {},
     "output_type": "execute_result"
    }
   ],
   "source": [
    "# Par exemple\n",
    "lang.upper()"
   ]
  },
  {
   "cell_type": "code",
   "execution_count": 19,
   "id": "0436e334",
   "metadata": {
    "slideshow": {
     "slide_type": "slide"
    }
   },
   "outputs": [
    {
     "data": {
      "text/plain": [
       "'python est cool'"
      ]
     },
     "execution_count": 19,
     "metadata": {},
     "output_type": "execute_result"
    }
   ],
   "source": [
    "lang.lower()"
   ]
  },
  {
   "cell_type": "code",
   "execution_count": 20,
   "id": "ea2f1c09",
   "metadata": {
    "slideshow": {
     "slide_type": "slide"
    }
   },
   "outputs": [
    {
     "data": {
      "text/plain": [
       "15"
      ]
     },
     "execution_count": 20,
     "metadata": {},
     "output_type": "execute_result"
    }
   ],
   "source": [
    "len(lang)"
   ]
  },
  {
   "cell_type": "code",
   "execution_count": 21,
   "id": "a5c92a94",
   "metadata": {
    "slideshow": {
     "slide_type": "slide"
    }
   },
   "outputs": [
    {
     "data": {
      "text/plain": [
       "True"
      ]
     },
     "execution_count": 21,
     "metadata": {},
     "output_type": "execute_result"
    }
   ],
   "source": [
    "lang.startswith(\"P\")"
   ]
  },
  {
   "cell_type": "markdown",
   "id": "772f2da8",
   "metadata": {
    "slideshow": {
     "slide_type": "slide"
    }
   },
   "source": [
    "### Type booléen \n",
    "Ne peut contenir que deux états : True et False.   \n",
    "C'est un sous-type des nombres entiers.   \n",
    "En ce sens True = 1 et False = 0"
   ]
  },
  {
   "cell_type": "code",
   "execution_count": 22,
   "id": "002687f7",
   "metadata": {
    "slideshow": {
     "slide_type": "slide"
    }
   },
   "outputs": [
    {
     "data": {
      "text/plain": [
       "(True, False)"
      ]
     },
     "execution_count": 22,
     "metadata": {},
     "output_type": "execute_result"
    }
   ],
   "source": [
    "True, False"
   ]
  },
  {
   "cell_type": "markdown",
   "id": "5adf92f1",
   "metadata": {
    "slideshow": {
     "slide_type": "slide"
    }
   },
   "source": [
    "On utilise le type booléen pour comparer des valeurs.  \n",
    "C'est un outil puissant pour exécuter de manière conditionnelle un code grâce aux construction if et else. "
   ]
  },
  {
   "cell_type": "code",
   "execution_count": 23,
   "id": "7e76d77c",
   "metadata": {
    "slideshow": {
     "slide_type": "slide"
    }
   },
   "outputs": [
    {
     "name": "stdout",
     "output_type": "stream",
     "text": [
      "True\n"
     ]
    }
   ],
   "source": [
    "# Exemple\n",
    "test = (5 == 3 + 2)\n",
    "print(test)"
   ]
  },
  {
   "cell_type": "code",
   "execution_count": 24,
   "id": "bd7e11d1",
   "metadata": {
    "slideshow": {
     "slide_type": "slide"
    }
   },
   "outputs": [
    {
     "data": {
      "text/plain": [
       "bool"
      ]
     },
     "execution_count": 24,
     "metadata": {},
     "output_type": "execute_result"
    }
   ],
   "source": [
    "type(test)"
   ]
  },
  {
   "cell_type": "code",
   "execution_count": 26,
   "id": "78721336",
   "metadata": {
    "slideshow": {
     "slide_type": "slide"
    }
   },
   "outputs": [
    {
     "data": {
      "text/plain": [
       "1"
      ]
     },
     "execution_count": 26,
     "metadata": {},
     "output_type": "execute_result"
    }
   ],
   "source": [
    "test.bit_length()"
   ]
  },
  {
   "cell_type": "markdown",
   "id": "0d84b5ee",
   "metadata": {
    "slideshow": {
     "slide_type": "slide"
    }
   },
   "source": [
    "### Les ensembles \n",
    "La collection d'articles uniques qui ne sont pas en ordre s'appelle Set. Les accolades {} sont utilisées pour définir l'ensemble et une virgule est utilisée pour séparer les valeurs. On constatera que les éléments ne sont pas ordonnés dans un type de données défini.\n",
    "\n",
    "Les doublons sont éliminés dans un ensemble et l'ensemble ne conserve que des valeurs uniques. Des opérations telles que l'intersection et l'union peuvent être effectuées sur deux ensembles."
   ]
  },
  {
   "cell_type": "code",
   "execution_count": 27,
   "id": "b5ab7414",
   "metadata": {
    "slideshow": {
     "slide_type": "slide"
    }
   },
   "outputs": [
    {
     "data": {
      "text/plain": [
       "set"
      ]
     },
     "execution_count": 27,
     "metadata": {},
     "output_type": "execute_result"
    }
   ],
   "source": [
    "ensemble = {1, 1, 2, 5, 7, 5, 3, 0, 1, 5, 5, 9, 8, 9, 1, 3, 1}\n",
    "type(ensemble)"
   ]
  },
  {
   "cell_type": "code",
   "execution_count": 29,
   "id": "d92b92ec-a1c5-4a1c-86b7-44cca4e3be74",
   "metadata": {},
   "outputs": [
    {
     "data": {
      "text/plain": [
       "{0, 1, 2, 3, 5, 7, 8, 9}"
      ]
     },
     "execution_count": 29,
     "metadata": {},
     "output_type": "execute_result"
    }
   ],
   "source": [
    "ensemble"
   ]
  },
  {
   "cell_type": "markdown",
   "id": "d629b401",
   "metadata": {
    "slideshow": {
     "slide_type": "slide"
    }
   },
   "source": [
    "La liste des méthodes disponibles pour l'objet set. "
   ]
  },
  {
   "cell_type": "code",
   "execution_count": 28,
   "id": "82a70f49",
   "metadata": {
    "slideshow": {
     "slide_type": "slide"
    }
   },
   "outputs": [
    {
     "data": {
      "text/plain": [
       "True"
      ]
     },
     "execution_count": 28,
     "metadata": {},
     "output_type": "execute_result"
    }
   ],
   "source": [
    "ensemble.issuperset({1, 2, 3})"
   ]
  },
  {
   "cell_type": "markdown",
   "id": "1c202d7f",
   "metadata": {
    "slideshow": {
     "slide_type": "slide"
    }
   },
   "source": [
    "### Table de hachage\n",
    "Une table de hachage est une structure de données qui permet une association clé–valeur, c'est-à-dire une implémentation du type abstrait tableau associatif. Son but principal est de permettre de retrouver une clé donnée très rapidement, en la cherchant à un emplacement de la table correspondant au résultat d'une fonction de hachage. \n",
    "\n",
    "En Python, le type `dict` implémente la table de hachage. "
   ]
  },
  {
   "cell_type": "code",
   "execution_count": 30,
   "id": "2800fbaf",
   "metadata": {
    "slideshow": {
     "slide_type": "slide"
    }
   },
   "outputs": [],
   "source": [
    "joueur = {\n",
    "    \"nom\": \"Woods\",\n",
    "    \"prenom\": \"Tiger\",\n",
    "    \"age\": annee_actuelle - 1975\n",
    "}"
   ]
  },
  {
   "cell_type": "code",
   "execution_count": 31,
   "id": "e9d868f7",
   "metadata": {
    "slideshow": {
     "slide_type": "slide"
    }
   },
   "outputs": [
    {
     "data": {
      "text/plain": [
       "dict"
      ]
     },
     "execution_count": 31,
     "metadata": {},
     "output_type": "execute_result"
    }
   ],
   "source": [
    "type(joueur)"
   ]
  },
  {
   "cell_type": "code",
   "execution_count": 35,
   "id": "df366340",
   "metadata": {
    "slideshow": {
     "slide_type": "slide"
    }
   },
   "outputs": [
    {
     "data": {
      "text/plain": [
       "dict_keys(['nom', 'prenom', 'age'])"
      ]
     },
     "execution_count": 35,
     "metadata": {},
     "output_type": "execute_result"
    }
   ],
   "source": [
    "joueur.keys()"
   ]
  },
  {
   "cell_type": "code",
   "execution_count": 36,
   "id": "7ff4b7af",
   "metadata": {
    "slideshow": {
     "slide_type": "slide"
    }
   },
   "outputs": [
    {
     "data": {
      "text/plain": [
       "dict_values(['Woods', 'Tiger', 47])"
      ]
     },
     "execution_count": 36,
     "metadata": {},
     "output_type": "execute_result"
    }
   ],
   "source": [
    "joueur.values()"
   ]
  },
  {
   "cell_type": "code",
   "execution_count": 37,
   "id": "edd58fac",
   "metadata": {
    "slideshow": {
     "slide_type": "slide"
    }
   },
   "outputs": [
    {
     "data": {
      "text/plain": [
       "dict_items([('nom', 'Woods'), ('prenom', 'Tiger'), ('age', 47)])"
      ]
     },
     "execution_count": 37,
     "metadata": {},
     "output_type": "execute_result"
    }
   ],
   "source": [
    "joueur.items()"
   ]
  },
  {
   "cell_type": "code",
   "execution_count": 38,
   "id": "be01f535",
   "metadata": {
    "slideshow": {
     "slide_type": "slide"
    }
   },
   "outputs": [
    {
     "data": {
      "text/plain": [
       "'Woods'"
      ]
     },
     "execution_count": 38,
     "metadata": {},
     "output_type": "execute_result"
    }
   ],
   "source": [
    "joueur[\"nom\"]"
   ]
  },
  {
   "cell_type": "code",
   "execution_count": 39,
   "id": "3b538bc3",
   "metadata": {
    "slideshow": {
     "slide_type": "slide"
    }
   },
   "outputs": [
    {
     "data": {
      "text/plain": [
       "47"
      ]
     },
     "execution_count": 39,
     "metadata": {},
     "output_type": "execute_result"
    }
   ],
   "source": [
    "joueur[\"age\"]"
   ]
  },
  {
   "cell_type": "code",
   "execution_count": 40,
   "id": "5aef7d49",
   "metadata": {
    "slideshow": {
     "slide_type": "slide"
    }
   },
   "outputs": [],
   "source": [
    "joueur[\"nationalite\"] = \"Américaine\""
   ]
  },
  {
   "cell_type": "code",
   "execution_count": 41,
   "id": "6dd7a6e4",
   "metadata": {
    "slideshow": {
     "slide_type": "slide"
    }
   },
   "outputs": [
    {
     "data": {
      "text/plain": [
       "dict_items([('nom', 'Woods'), ('prenom', 'Tiger'), ('age', 47), ('nationalite', 'Américaine')])"
      ]
     },
     "execution_count": 41,
     "metadata": {},
     "output_type": "execute_result"
    }
   ],
   "source": [
    "joueur.items()"
   ]
  },
  {
   "cell_type": "markdown",
   "id": "bb0a577e",
   "metadata": {
    "slideshow": {
     "slide_type": "slide"
    }
   },
   "source": [
    "### Les séquences\n",
    "####  Les listes\n",
    "Une séquence ordonnée d'éléments est appelée liste. C'est un type de données très flexible en Python. Il n'est pas nécessaire que la valeur de la liste soit du même type de données. La liste est le type de données le plus utilisé en Python. Le type de données List est le type de données le plus exclusif de Python pour contenir des données polyvalentes. Il peut facilement contenir différents types de données en Python.\n",
    "\n",
    "Il est facile de déclarer une liste. La liste est entourée de crochets et des virgules sont utilisées pour séparer les éléments."
   ]
  },
  {
   "cell_type": "code",
   "execution_count": 42,
   "id": "0e151a69",
   "metadata": {
    "slideshow": {
     "slide_type": "slide"
    }
   },
   "outputs": [],
   "source": [
    "nombres = [1, 1, 2, 5, 7, 5, 3, 0, 1, 5, 5, 9, 8, 9, 1, 3, 1]"
   ]
  },
  {
   "cell_type": "code",
   "execution_count": 43,
   "id": "a60133f0",
   "metadata": {
    "slideshow": {
     "slide_type": "slide"
    }
   },
   "outputs": [
    {
     "data": {
      "text/plain": [
       "list"
      ]
     },
     "execution_count": 43,
     "metadata": {},
     "output_type": "execute_result"
    }
   ],
   "source": [
    "type(nombres)"
   ]
  },
  {
   "cell_type": "code",
   "execution_count": 45,
   "id": "609ebd64",
   "metadata": {
    "slideshow": {
     "slide_type": "slide"
    }
   },
   "outputs": [],
   "source": [
    "nombres.append(99)"
   ]
  },
  {
   "cell_type": "code",
   "execution_count": 46,
   "id": "fdf26f3d",
   "metadata": {
    "slideshow": {
     "slide_type": "slide"
    }
   },
   "outputs": [
    {
     "name": "stdout",
     "output_type": "stream",
     "text": [
      "[1, 1, 2, 5, 7, 5, 3, 0, 1, 5, 5, 9, 8, 9, 1, 3, 1, 99]\n"
     ]
    }
   ],
   "source": [
    "print(nombres)"
   ]
  },
  {
   "cell_type": "code",
   "execution_count": 47,
   "id": "c91bd9a4",
   "metadata": {
    "slideshow": {
     "slide_type": "slide"
    }
   },
   "outputs": [
    {
     "data": {
      "text/plain": [
       "1"
      ]
     },
     "execution_count": 47,
     "metadata": {},
     "output_type": "execute_result"
    }
   ],
   "source": [
    "# On peut obtenir un ou plusieurs élements d'une liste avec les slices\n",
    "nombres[0]"
   ]
  },
  {
   "cell_type": "code",
   "execution_count": 48,
   "id": "b91880b3",
   "metadata": {
    "slideshow": {
     "slide_type": "slide"
    }
   },
   "outputs": [
    {
     "data": {
      "text/plain": [
       "[1, 1, 2]"
      ]
     },
     "execution_count": 48,
     "metadata": {},
     "output_type": "execute_result"
    }
   ],
   "source": [
    "nombres[0:3]"
   ]
  },
  {
   "cell_type": "code",
   "execution_count": 49,
   "id": "c021c9a6",
   "metadata": {
    "slideshow": {
     "slide_type": "slide"
    }
   },
   "outputs": [
    {
     "data": {
      "text/plain": [
       "[1, 1, 2, 5, 7, 5, 3, 0, 1, 5, 5, 9, 8, 9, 1, 3, 1, 99]"
      ]
     },
     "execution_count": 49,
     "metadata": {},
     "output_type": "execute_result"
    }
   ],
   "source": [
    "nombres[0:len(nombres)]"
   ]
  },
  {
   "cell_type": "code",
   "execution_count": 50,
   "id": "84a158df",
   "metadata": {
    "slideshow": {
     "slide_type": "slide"
    }
   },
   "outputs": [
    {
     "data": {
      "text/plain": [
       "[1, 1, 2, 5, 7, 5, 3, 0, 1, 5, 5, 9, 8, 9, 1, 3, 1, 99]"
      ]
     },
     "execution_count": 50,
     "metadata": {},
     "output_type": "execute_result"
    }
   ],
   "source": [
    "nombres[:]"
   ]
  },
  {
   "cell_type": "code",
   "execution_count": 51,
   "id": "58d9485d",
   "metadata": {
    "slideshow": {
     "slide_type": "slide"
    }
   },
   "outputs": [
    {
     "data": {
      "text/plain": [
       "99"
      ]
     },
     "execution_count": 51,
     "metadata": {},
     "output_type": "execute_result"
    }
   ],
   "source": [
    "nombres[-1]"
   ]
  },
  {
   "cell_type": "code",
   "execution_count": 52,
   "id": "b0a8708e",
   "metadata": {
    "slideshow": {
     "slide_type": "slide"
    }
   },
   "outputs": [
    {
     "data": {
      "text/plain": [
       "[99, 1, 3, 1, 9, 8, 9, 5, 5, 1, 0, 3, 5, 7, 5, 2, 1, 1]"
      ]
     },
     "execution_count": 52,
     "metadata": {},
     "output_type": "execute_result"
    }
   ],
   "source": [
    "nombres[::-1]"
   ]
  },
  {
   "cell_type": "markdown",
   "id": "78d472a4",
   "metadata": {
    "slideshow": {
     "slide_type": "slide"
    }
   },
   "source": [
    "> Remarque: EN fait les chaînes de caractères sont aussi des types séquences. Certaines opérations comme les slices marchent exactement comme si c'était une liste. "
   ]
  },
  {
   "cell_type": "code",
   "execution_count": 53,
   "id": "12911851",
   "metadata": {
    "slideshow": {
     "slide_type": "slide"
    }
   },
   "outputs": [
    {
     "data": {
      "text/plain": [
       "'Python est cool'"
      ]
     },
     "execution_count": 53,
     "metadata": {},
     "output_type": "execute_result"
    }
   ],
   "source": [
    "lang"
   ]
  },
  {
   "cell_type": "code",
   "execution_count": 54,
   "id": "f731706e",
   "metadata": {
    "slideshow": {
     "slide_type": "slide"
    }
   },
   "outputs": [
    {
     "data": {
      "text/plain": [
       "'looc tse nohtyP'"
      ]
     },
     "execution_count": 54,
     "metadata": {},
     "output_type": "execute_result"
    }
   ],
   "source": [
    "lang[::-1]"
   ]
  },
  {
   "cell_type": "code",
   "execution_count": 55,
   "id": "497a1bf3",
   "metadata": {
    "slideshow": {
     "slide_type": "slide"
    }
   },
   "outputs": [
    {
     "data": {
      "text/plain": [
       "['P', 'y', 't', 'h', 'o', 'n', ' ', 'e', 's', 't', ' ', 'c', 'o', 'o', 'l']"
      ]
     },
     "execution_count": 55,
     "metadata": {},
     "output_type": "execute_result"
    }
   ],
   "source": [
    "# Il est possible de convertir une chaîne de caractère en liste et vice versa \n",
    "# (tant que c'est possible)\n",
    "[x for x in lang]"
   ]
  },
  {
   "cell_type": "markdown",
   "id": "8faa80f9-9760-4540-b144-383596bd310a",
   "metadata": {},
   "source": [
    "# Les alternatives\n",
    "Les alternatives sont des structures de programmation effectuant un test logique sur une condition et permettant un choix entre divers blocs d'instructions suivant le résultat de ce test. "
   ]
  },
  {
   "cell_type": "markdown",
   "id": "f775e2a4-e0c1-4465-bd1d-eba88820d052",
   "metadata": {},
   "source": [
    "## La condition `if`"
   ]
  },
  {
   "cell_type": "code",
   "execution_count": 56,
   "id": "7ee0934e-1126-472f-bdac-bcf71a004d2d",
   "metadata": {},
   "outputs": [],
   "source": [
    "x = 10\n",
    "y = 5\n",
    "operation = \"addition\""
   ]
  },
  {
   "cell_type": "code",
   "execution_count": 57,
   "id": "10d2697e-c48c-4fa7-aa28-52a4648cf875",
   "metadata": {},
   "outputs": [
    {
     "name": "stdout",
     "output_type": "stream",
     "text": [
      "15\n"
     ]
    }
   ],
   "source": [
    "if operation == \"addition\":\n",
    "    print(x+y)"
   ]
  },
  {
   "cell_type": "code",
   "execution_count": 58,
   "id": "2f6d8bd8-3e7a-49f3-ac47-3020ab478b6a",
   "metadata": {},
   "outputs": [],
   "source": [
    "if operation == \"multiplication\":\n",
    "    print(x*y)"
   ]
  },
  {
   "cell_type": "markdown",
   "id": "c06babc5-26a1-4cb9-8882-2f1e968f5bc0",
   "metadata": {},
   "source": [
    "## La condition `if - elif - else`"
   ]
  },
  {
   "cell_type": "code",
   "execution_count": 60,
   "id": "c1ceebf1-0fbc-4146-9ce7-ac02b48076c3",
   "metadata": {},
   "outputs": [
    {
     "name": "stdout",
     "output_type": "stream",
     "text": [
      "L'opération n'est pas valide\n"
     ]
    }
   ],
   "source": [
    "x = 10\n",
    "y = 5\n",
    "operation = \"inconnu\"\n",
    "if operation == \"addition\":\n",
    "    print(x+y)\n",
    "elif operation == \"multiplication\":\n",
    "    print(x*y)\n",
    "else:\n",
    "    print(\"L'opération n'est pas valide\")"
   ]
  },
  {
   "cell_type": "markdown",
   "id": "388a4ea6-01a0-4d97-b990-f973cf2b43a1",
   "metadata": {},
   "source": [
    "## Visualiser l'exécution d'un code Python\n",
    "\n",
    "https://pythontutor.com/visualize.html#mode=edit\n",
    "```python\n",
    "x = 10\n",
    "y = 5\n",
    "operation = \"inconnu\"\n",
    "if operation == \"addition\":\n",
    "    print(x+y)\n",
    "elif operation == \"multiplication\":\n",
    "    print(x*y)\n",
    "else:\n",
    "    print(\"L'opération n'est pas valide\")\n",
    "```"
   ]
  },
  {
   "cell_type": "markdown",
   "id": "4f2a83d3-769c-4292-827c-6b4e118481a2",
   "metadata": {},
   "source": [
    "# Application \n",
    "## Le discriminant\n",
    "\n",
    "Equation : $2x^2 + 3x + 1$\n",
    "\n",
    "**Resoudre avec le discriminant**   \n",
    "La formule du discriminant est $$ \\Delta = b^2 - 4ac $$\n",
    "Si $\\Delta < 0$ alors terminer la procedure. Il n'y a pas de solution à l'équation  \n",
    "Sinon: \n",
    "> Si $\\Delta = 0$ alors :  \n",
    "Il n'existe qu'une seule solution à l'équation. Cette solution est :   \n",
    "$$ x_1 = x_2 = - \\frac{b}{2a} $$\n",
    "\n",
    "> Si $\\Delta > 0$ alors il existe deux solutions : $x_1, x_2$.\n",
    "$$x_1 = \\frac{-b - \\sqrt{\\Delta}}{2a}$$\n",
    "$$x_2 = \\frac{-b + \\sqrt{\\Delta}}{2a}$$\n",
    "\n",
    "Traduire cela en un programme Python pour résoudre des équations du second degré. "
   ]
  },
  {
   "cell_type": "markdown",
   "id": "971df7a2-b343-473a-9390-7f1b9cf358a7",
   "metadata": {},
   "source": [
    "## Solution en Python"
   ]
  },
  {
   "cell_type": "code",
   "execution_count": 61,
   "id": "96401938-acfd-4908-b462-dd942aca590e",
   "metadata": {},
   "outputs": [
    {
     "name": "stdout",
     "output_type": "stream",
     "text": [
      "delta = 4\n",
      "Les solutions sont x1 = -9.0, x2 = -3.0\n"
     ]
    }
   ],
   "source": [
    "a = 3\n",
    "b = 4\n",
    "c = 1\n",
    "\n",
    "delta = b**2 - 4 * (a * c)\n",
    "print(\"delta =\", delta)\n",
    "\n",
    "if delta < 0:\n",
    "    print(\"Il n'existe pas de solution à l'équation\")\n",
    "elif delta == 0:\n",
    "    print(\"Il existe une solution unique à l'équation\")\n",
    "    x = -b / (2 * a)\n",
    "    print(\"La solution unique est\", x)\n",
    "else:\n",
    "    racine_delta = delta**0.5\n",
    "    x1 = (-b - racine_delta) / 2 * a\n",
    "    x2 = (-b + racine_delta) / 2* a\n",
    "    print(f\"Les solutions sont x1 = {x1}, x2 = {x2}\")"
   ]
  },
  {
   "cell_type": "markdown",
   "id": "66bd9ddf-7c34-4066-9551-c9ff35981087",
   "metadata": {},
   "source": [
    "# Les fonctions"
   ]
  },
  {
   "cell_type": "code",
   "execution_count": null,
   "id": "f093e669-a513-4314-b00e-993bf814d3fa",
   "metadata": {},
   "outputs": [],
   "source": []
  },
  {
   "cell_type": "markdown",
   "id": "0bf9f2f0-e54a-43f2-8b60-274521beddec",
   "metadata": {},
   "source": [
    "# Les boucles\n",
    "La boucle est l’une des bases de la programmation informatique. Elle est parmi **les plus basiques** et les plus puissantes des concepts de programmation. \n",
    "Une boucle dans un programme d’ordinateur est **une instruction qui se répète jusqu’à ce qu’une condition spécifiée soit atteinte**. Dans une structure en boucle, elle pose une question,et si la réponse exige une autre action, elle sera exécutée automatiquement. La même question est posée successivement jusqu’à ce qu’aucune action supplémentaire ne soit nécessaire. Cette action est communément appelée itération."
   ]
  },
  {
   "cell_type": "markdown",
   "id": "937d003f-033d-4332-aefe-35cd263a397f",
   "metadata": {},
   "source": [
    "## La boucle `for`"
   ]
  },
  {
   "cell_type": "code",
   "execution_count": null,
   "id": "33b02d5b-7534-4c06-a34c-d41e4cd31913",
   "metadata": {},
   "outputs": [],
   "source": []
  }
 ],
 "metadata": {
  "celltoolbar": "Diaporama",
  "kernelspec": {
   "display_name": "Python 3 (ipykernel)",
   "language": "python",
   "name": "python3"
  },
  "language_info": {
   "codemirror_mode": {
    "name": "ipython",
    "version": 3
   },
   "file_extension": ".py",
   "mimetype": "text/x-python",
   "name": "python",
   "nbconvert_exporter": "python",
   "pygments_lexer": "ipython3",
   "version": "3.9.0"
  }
 },
 "nbformat": 4,
 "nbformat_minor": 5
}
