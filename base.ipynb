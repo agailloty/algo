{
 "cells": [
  {
   "cell_type": "markdown",
   "id": "a2162db7-cd52-440f-80d8-ad3c53ec1eae",
   "metadata": {
    "slideshow": {
     "slide_type": "slide"
    },
    "tags": []
   },
   "source": [
    "# Les variables\n",
    "Une variable est une référence vers une donnée en mémoire.  \n"
   ]
  },
  {
   "cell_type": "code",
   "execution_count": 76,
   "id": "e86ab7f5-574c-4f8d-92c8-d06ab761058a",
   "metadata": {
    "slideshow": {
     "slide_type": "slide"
    },
    "tags": []
   },
   "outputs": [
    {
     "name": "stdout",
     "output_type": "stream",
     "text": [
      "L'année actuelle est 2022\n"
     ]
    }
   ],
   "source": [
    "# Exemple \n",
    "annee_actuelle = 2022\n",
    "print(f\"L'année actuelle est {annee_actuelle}\")"
   ]
  },
  {
   "cell_type": "code",
   "execution_count": null,
   "id": "870f3086",
   "metadata": {},
   "outputs": [],
   "source": []
  },
  {
   "cell_type": "code",
   "execution_count": 8,
   "id": "e467c283-a63e-4ac0-a012-6997d1423576",
   "metadata": {
    "slideshow": {
     "slide_type": "slide"
    }
   },
   "outputs": [
    {
     "data": {
      "text/plain": [
       "41"
      ]
     },
     "execution_count": 8,
     "metadata": {},
     "output_type": "execute_result"
    }
   ],
   "source": [
    "annee_actuelle - 1980"
   ]
  },
  {
   "cell_type": "markdown",
   "id": "a976e243",
   "metadata": {
    "slideshow": {
     "slide_type": "slide"
    }
   },
   "source": [
    "Officiellement, les noms de variables en Python être de n'importe quelle longueur et peuvent être constitués de lettres majuscules et minuscules (A-Z, a-z), de chiffres (0-9) et du caractère de soulignement (_).  \n",
    "Une restriction supplémentaire est que, bien qu'un nom de variable puisse contenir des chiffres, le premier caractère d'un nom de variable ne peut pas être un chiffre."
   ]
  },
  {
   "cell_type": "code",
   "execution_count": 2,
   "id": "2a25b93e",
   "metadata": {
    "slideshow": {
     "slide_type": "subslide"
    }
   },
   "outputs": [
    {
     "ename": "SyntaxError",
     "evalue": "invalid syntax (Temp/ipykernel_4456/4080265089.py, line 2)",
     "output_type": "error",
     "traceback": [
      "\u001b[1;36m  File \u001b[1;32m\"C:\\Users\\AXEL-C~3\\AppData\\Local\\Temp/ipykernel_4456/4080265089.py\"\u001b[1;36m, line \u001b[1;32m2\u001b[0m\n\u001b[1;33m    9bis = 23\u001b[0m\n\u001b[1;37m     ^\u001b[0m\n\u001b[1;31mSyntaxError\u001b[0m\u001b[1;31m:\u001b[0m invalid syntax\n"
     ]
    }
   ],
   "source": [
    "# Nom invalide de variable \n",
    "9bis = 23"
   ]
  },
  {
   "cell_type": "code",
   "execution_count": 3,
   "id": "ad210889",
   "metadata": {
    "slideshow": {
     "slide_type": "subslide"
    }
   },
   "outputs": [
    {
     "ename": "SyntaxError",
     "evalue": "invalid syntax (Temp/ipykernel_4456/3716344460.py, line 1)",
     "output_type": "error",
     "traceback": [
      "\u001b[1;36m  File \u001b[1;32m\"C:\\Users\\AXEL-C~3\\AppData\\Local\\Temp/ipykernel_4456/3716344460.py\"\u001b[1;36m, line \u001b[1;32m1\u001b[0m\n\u001b[1;33m    $hello = 12\u001b[0m\n\u001b[1;37m    ^\u001b[0m\n\u001b[1;31mSyntaxError\u001b[0m\u001b[1;31m:\u001b[0m invalid syntax\n"
     ]
    }
   ],
   "source": [
    "$hello = 12"
   ]
  },
  {
   "cell_type": "code",
   "execution_count": 4,
   "id": "e0a7ddc3",
   "metadata": {
    "slideshow": {
     "slide_type": "subslide"
    }
   },
   "outputs": [],
   "source": [
    "_ = 25"
   ]
  },
  {
   "cell_type": "code",
   "execution_count": 5,
   "id": "aa3251ba",
   "metadata": {
    "slideshow": {
     "slide_type": "subslide"
    }
   },
   "outputs": [
    {
     "data": {
      "text/plain": [
       "25"
      ]
     },
     "execution_count": 5,
     "metadata": {},
     "output_type": "execute_result"
    }
   ],
   "source": [
    "_"
   ]
  },
  {
   "cell_type": "markdown",
   "id": "6a9a148d",
   "metadata": {
    "slideshow": {
     "slide_type": "slide"
    }
   },
   "source": [
    "# Variable et types de données"
   ]
  },
  {
   "cell_type": "markdown",
   "id": "715c983d-75a7-4b65-865f-783433bbf7a8",
   "metadata": {
    "slideshow": {
     "slide_type": "subslide"
    },
    "tags": []
   },
   "source": [
    "Python est un langage à type dynamique. Cela signifie que nous n'avons pas besoin de spécifier le type des variables que nous utilisons. \n",
    "L'interpréteur Python se charge, au moment d'exécuter le code, de déterminer quel type de données ira dans la variable. \n",
    "\n",
    "La fonction `type(x)` retourne le type de données que contient la variable. "
   ]
  },
  {
   "cell_type": "code",
   "execution_count": 1,
   "id": "cf4de5c6-9bbd-447b-915e-e6a70b7c4e27",
   "metadata": {
    "slideshow": {
     "slide_type": "subslide"
    }
   },
   "outputs": [
    {
     "data": {
      "text/plain": [
       "int"
      ]
     },
     "execution_count": 1,
     "metadata": {},
     "output_type": "execute_result"
    }
   ],
   "source": [
    "x = 1\n",
    "type(x)"
   ]
  },
  {
   "cell_type": "code",
   "execution_count": 3,
   "id": "d8774189-24d8-4e42-a87a-d0dd32b9da21",
   "metadata": {
    "slideshow": {
     "slide_type": "subslide"
    }
   },
   "outputs": [
    {
     "data": {
      "text/plain": [
       "str"
      ]
     },
     "execution_count": 3,
     "metadata": {},
     "output_type": "execute_result"
    }
   ],
   "source": [
    "x = \"Python\"\n",
    "type(x)"
   ]
  },
  {
   "cell_type": "code",
   "execution_count": 4,
   "id": "b540e360-90b7-47b2-9f3f-c4bf7a5e6912",
   "metadata": {
    "slideshow": {
     "slide_type": "subslide"
    }
   },
   "outputs": [
    {
     "data": {
      "text/plain": [
       "float"
      ]
     },
     "execution_count": 4,
     "metadata": {},
     "output_type": "execute_result"
    }
   ],
   "source": [
    "x = 12.9\n",
    "type(x)"
   ]
  },
  {
   "cell_type": "markdown",
   "id": "2118ec40",
   "metadata": {
    "slideshow": {
     "slide_type": "slide"
    }
   },
   "source": [
    "## Les types de données de base en Python\n",
    "Pour plus d'infos consulter cet [article](https://www.upgrad.com/blog/top-7-data-types-of-python-python-data-types/)"
   ]
  },
  {
   "cell_type": "markdown",
   "id": "1c165a51",
   "metadata": {
    "slideshow": {
     "slide_type": "slide"
    }
   },
   "source": [
    "Type texte : str  \n",
    "Type booléen : bool  \n",
    "Les ensembles : frozenset, set  \n",
    "Table de hachage : dict  \n",
    "Les séquences : range, tuple, list  \n",
    "Types numériques : complex, float, int  "
   ]
  },
  {
   "cell_type": "markdown",
   "id": "1b202b9e",
   "metadata": {
    "slideshow": {
     "slide_type": "slide"
    }
   },
   "source": [
    "**Ces types sont définis dans le langage Python. Ils peuvent être utilisés tels quels, pas besoin de les importer** "
   ]
  },
  {
   "cell_type": "markdown",
   "id": "729a415a",
   "metadata": {
    "slideshow": {
     "slide_type": "slide"
    }
   },
   "source": [
    "### Type text : `str`"
   ]
  },
  {
   "cell_type": "code",
   "execution_count": 36,
   "id": "a14cf4b1",
   "metadata": {
    "slideshow": {
     "slide_type": "slide"
    }
   },
   "outputs": [],
   "source": [
    "lang = \"Python est cool\""
   ]
  },
  {
   "cell_type": "code",
   "execution_count": 37,
   "id": "fd8cbbba",
   "metadata": {
    "slideshow": {
     "slide_type": "slide"
    }
   },
   "outputs": [
    {
     "data": {
      "text/plain": [
       "str"
      ]
     },
     "execution_count": 37,
     "metadata": {},
     "output_type": "execute_result"
    }
   ],
   "source": [
    "type(lang)"
   ]
  },
  {
   "cell_type": "code",
   "execution_count": 38,
   "id": "1c792a02",
   "metadata": {
    "slideshow": {
     "slide_type": "slide"
    }
   },
   "outputs": [
    {
     "name": "stdout",
     "output_type": "stream",
     "text": [
      "Python est cool\n"
     ]
    }
   ],
   "source": [
    "print(lang)"
   ]
  },
  {
   "cell_type": "markdown",
   "id": "e6f61216",
   "metadata": {
    "slideshow": {
     "slide_type": "slide"
    }
   },
   "source": [
    "Le type `str` est un objet Python.  \n",
    "Cela signifie qu'il contient des propriétés et des méthodes.  "
   ]
  },
  {
   "cell_type": "code",
   "execution_count": 41,
   "id": "83b9edbe",
   "metadata": {
    "slideshow": {
     "slide_type": "slide"
    }
   },
   "outputs": [
    {
     "data": {
      "text/plain": [
       "'PYTHON EST COOL'"
      ]
     },
     "execution_count": 41,
     "metadata": {},
     "output_type": "execute_result"
    }
   ],
   "source": [
    "# Par exemple\n",
    "lang.upper()"
   ]
  },
  {
   "cell_type": "code",
   "execution_count": 42,
   "id": "0436e334",
   "metadata": {
    "slideshow": {
     "slide_type": "slide"
    }
   },
   "outputs": [
    {
     "data": {
      "text/plain": [
       "'python est cool'"
      ]
     },
     "execution_count": 42,
     "metadata": {},
     "output_type": "execute_result"
    }
   ],
   "source": [
    "lang.lower()"
   ]
  },
  {
   "cell_type": "code",
   "execution_count": 43,
   "id": "ea2f1c09",
   "metadata": {
    "slideshow": {
     "slide_type": "slide"
    }
   },
   "outputs": [
    {
     "data": {
      "text/plain": [
       "15"
      ]
     },
     "execution_count": 43,
     "metadata": {},
     "output_type": "execute_result"
    }
   ],
   "source": [
    "len(lang)"
   ]
  },
  {
   "cell_type": "code",
   "execution_count": 44,
   "id": "cf862f3f",
   "metadata": {
    "slideshow": {
     "slide_type": "slide"
    }
   },
   "outputs": [],
   "source": [
    "# Pour afficher la liste des méthodes et propriétés disponibles pour un objet. \n",
    "def afficher_proprietes(nom_type):\n",
    "    print([method for method in dir(nom_type) if not method.startswith(\"_\")])"
   ]
  },
  {
   "cell_type": "code",
   "execution_count": 45,
   "id": "ed7316e7",
   "metadata": {
    "slideshow": {
     "slide_type": "slide"
    }
   },
   "outputs": [
    {
     "name": "stdout",
     "output_type": "stream",
     "text": [
      "['capitalize', 'casefold', 'center', 'count', 'encode', 'endswith', 'expandtabs', 'find', 'format', 'format_map', 'index', 'isalnum', 'isalpha', 'isascii', 'isdecimal', 'isdigit', 'isidentifier', 'islower', 'isnumeric', 'isprintable', 'isspace', 'istitle', 'isupper', 'join', 'ljust', 'lower', 'lstrip', 'maketrans', 'partition', 'removeprefix', 'removesuffix', 'replace', 'rfind', 'rindex', 'rjust', 'rpartition', 'rsplit', 'rstrip', 'split', 'splitlines', 'startswith', 'strip', 'swapcase', 'title', 'translate', 'upper', 'zfill']\n"
     ]
    }
   ],
   "source": [
    "afficher_proprietes(str)"
   ]
  },
  {
   "cell_type": "code",
   "execution_count": 46,
   "id": "a5c92a94",
   "metadata": {
    "slideshow": {
     "slide_type": "slide"
    }
   },
   "outputs": [
    {
     "data": {
      "text/plain": [
       "True"
      ]
     },
     "execution_count": 46,
     "metadata": {},
     "output_type": "execute_result"
    }
   ],
   "source": [
    "lang.startswith(\"P\")"
   ]
  },
  {
   "cell_type": "markdown",
   "id": "772f2da8",
   "metadata": {
    "slideshow": {
     "slide_type": "slide"
    }
   },
   "source": [
    "### Type booléen \n",
    "Ne peut contenir que deux états : True et False.   \n",
    "C'est un sous-type des nombres entiers.   \n",
    "En ce sens True = 1 et False = 0"
   ]
  },
  {
   "cell_type": "code",
   "execution_count": 10,
   "id": "002687f7",
   "metadata": {
    "slideshow": {
     "slide_type": "slide"
    }
   },
   "outputs": [
    {
     "data": {
      "text/plain": [
       "(True, False)"
      ]
     },
     "execution_count": 10,
     "metadata": {},
     "output_type": "execute_result"
    }
   ],
   "source": [
    "True, False"
   ]
  },
  {
   "cell_type": "markdown",
   "id": "5adf92f1",
   "metadata": {
    "slideshow": {
     "slide_type": "slide"
    }
   },
   "source": [
    "On utilise le type booléen pour comparer des valeurs.  \n",
    "C'est un outil puissant pour exécuter de manière conditionnelle un code grâce aux construction if et else. "
   ]
  },
  {
   "cell_type": "code",
   "execution_count": 89,
   "id": "7e76d77c",
   "metadata": {
    "slideshow": {
     "slide_type": "slide"
    }
   },
   "outputs": [
    {
     "name": "stdout",
     "output_type": "stream",
     "text": [
      "True\n"
     ]
    }
   ],
   "source": [
    "# Exemple\n",
    "test = 5 == 3 + 2\n",
    "print(test)"
   ]
  },
  {
   "cell_type": "code",
   "execution_count": 24,
   "id": "bd7e11d1",
   "metadata": {
    "slideshow": {
     "slide_type": "slide"
    }
   },
   "outputs": [
    {
     "data": {
      "text/plain": [
       "bool"
      ]
     },
     "execution_count": 24,
     "metadata": {},
     "output_type": "execute_result"
    }
   ],
   "source": [
    "type(test)"
   ]
  },
  {
   "cell_type": "code",
   "execution_count": 47,
   "id": "cd7ba381",
   "metadata": {
    "slideshow": {
     "slide_type": "slide"
    }
   },
   "outputs": [
    {
     "name": "stdout",
     "output_type": "stream",
     "text": [
      "['as_integer_ratio', 'bit_length', 'conjugate', 'denominator', 'from_bytes', 'imag', 'numerator', 'real', 'to_bytes']\n"
     ]
    }
   ],
   "source": [
    "afficher_proprietes(bool)"
   ]
  },
  {
   "cell_type": "code",
   "execution_count": 32,
   "id": "78721336",
   "metadata": {
    "slideshow": {
     "slide_type": "slide"
    }
   },
   "outputs": [
    {
     "data": {
      "text/plain": [
       "1"
      ]
     },
     "execution_count": 32,
     "metadata": {},
     "output_type": "execute_result"
    }
   ],
   "source": [
    "test.bit_length()"
   ]
  },
  {
   "cell_type": "markdown",
   "id": "0d84b5ee",
   "metadata": {
    "slideshow": {
     "slide_type": "slide"
    }
   },
   "source": [
    "### Les ensembles \n",
    "La collection d'articles uniques qui ne sont pas en ordre s'appelle Set. Les accolades {} sont utilisées pour définir l'ensemble et une virgule est utilisée pour séparer les valeurs. On constatera que les éléments ne sont pas ordonnés dans un type de données défini.\n",
    "\n",
    "Les doublons sont éliminés dans un ensemble et l'ensemble ne conserve que des valeurs uniques. Des opérations telles que l'intersection et l'union peuvent être effectuées sur deux ensembles."
   ]
  },
  {
   "cell_type": "code",
   "execution_count": 19,
   "id": "b5ab7414",
   "metadata": {
    "slideshow": {
     "slide_type": "slide"
    }
   },
   "outputs": [
    {
     "data": {
      "text/plain": [
       "set"
      ]
     },
     "execution_count": 19,
     "metadata": {},
     "output_type": "execute_result"
    }
   ],
   "source": [
    "ensemble = {1, 1, 2, 5, 7, 5, 3, 0, 1, 5, 5, 9, 8, 9, 1, 3, 1}\n",
    "type(ensemble)"
   ]
  },
  {
   "cell_type": "markdown",
   "id": "d629b401",
   "metadata": {
    "slideshow": {
     "slide_type": "slide"
    }
   },
   "source": [
    "La liste des méthodes disponibles pour l'objet set. "
   ]
  },
  {
   "cell_type": "code",
   "execution_count": 48,
   "id": "41510fb4",
   "metadata": {
    "slideshow": {
     "slide_type": "slide"
    }
   },
   "outputs": [
    {
     "name": "stdout",
     "output_type": "stream",
     "text": [
      "['add', 'clear', 'copy', 'difference', 'difference_update', 'discard', 'intersection', 'intersection_update', 'isdisjoint', 'issubset', 'issuperset', 'pop', 'remove', 'symmetric_difference', 'symmetric_difference_update', 'union', 'update']\n"
     ]
    }
   ],
   "source": [
    "afficher_proprietes(set)"
   ]
  },
  {
   "cell_type": "code",
   "execution_count": 35,
   "id": "82a70f49",
   "metadata": {
    "slideshow": {
     "slide_type": "slide"
    }
   },
   "outputs": [
    {
     "data": {
      "text/plain": [
       "True"
      ]
     },
     "execution_count": 35,
     "metadata": {},
     "output_type": "execute_result"
    }
   ],
   "source": [
    "ensemble.issuperset({1, 2, 3})"
   ]
  },
  {
   "cell_type": "markdown",
   "id": "1c202d7f",
   "metadata": {
    "slideshow": {
     "slide_type": "slide"
    }
   },
   "source": [
    "### Table de hachage\n",
    "Une table de hachage est une structure de données qui permet une association clé–valeur, c'est-à-dire une implémentation du type abstrait tableau associatif. Son but principal est de permettre de retrouver une clé donnée très rapidement, en la cherchant à un emplacement de la table correspondant au résultat d'une fonction de hachage. \n",
    "\n",
    "En Python, le type `dict` implémente la table de hachage. "
   ]
  },
  {
   "cell_type": "code",
   "execution_count": 77,
   "id": "2800fbaf",
   "metadata": {
    "slideshow": {
     "slide_type": "slide"
    }
   },
   "outputs": [],
   "source": [
    "joueur = {\n",
    "    \"nom\": \"Woods\",\n",
    "    \"prenom\": \"Tiger\",\n",
    "    \"age\": annee_actuelle - 1975\n",
    "}"
   ]
  },
  {
   "cell_type": "code",
   "execution_count": 80,
   "id": "e9d868f7",
   "metadata": {
    "slideshow": {
     "slide_type": "slide"
    }
   },
   "outputs": [
    {
     "data": {
      "text/plain": [
       "dict"
      ]
     },
     "execution_count": 80,
     "metadata": {},
     "output_type": "execute_result"
    }
   ],
   "source": [
    "type(joueur)"
   ]
  },
  {
   "cell_type": "code",
   "execution_count": 81,
   "id": "812e8f32",
   "metadata": {
    "slideshow": {
     "slide_type": "slide"
    }
   },
   "outputs": [
    {
     "name": "stdout",
     "output_type": "stream",
     "text": [
      "['clear', 'copy', 'fromkeys', 'get', 'items', 'keys', 'pop', 'popitem', 'setdefault', 'update', 'values']\n"
     ]
    }
   ],
   "source": [
    "afficher_proprietes(dict)"
   ]
  },
  {
   "cell_type": "code",
   "execution_count": 83,
   "id": "df366340",
   "metadata": {
    "slideshow": {
     "slide_type": "slide"
    }
   },
   "outputs": [
    {
     "data": {
      "text/plain": [
       "dict_keys(['nom', 'prenom', 'age'])"
      ]
     },
     "execution_count": 83,
     "metadata": {},
     "output_type": "execute_result"
    }
   ],
   "source": [
    "joueur.keys()"
   ]
  },
  {
   "cell_type": "code",
   "execution_count": 85,
   "id": "7ff4b7af",
   "metadata": {
    "slideshow": {
     "slide_type": "slide"
    }
   },
   "outputs": [
    {
     "data": {
      "text/plain": [
       "dict_values(['Woods', 'Tiger', 47])"
      ]
     },
     "execution_count": 85,
     "metadata": {},
     "output_type": "execute_result"
    }
   ],
   "source": [
    "joueur.values()"
   ]
  },
  {
   "cell_type": "code",
   "execution_count": 86,
   "id": "edd58fac",
   "metadata": {
    "slideshow": {
     "slide_type": "slide"
    }
   },
   "outputs": [
    {
     "data": {
      "text/plain": [
       "dict_items([('nom', 'Woods'), ('prenom', 'Tiger'), ('age', 47)])"
      ]
     },
     "execution_count": 86,
     "metadata": {},
     "output_type": "execute_result"
    }
   ],
   "source": [
    "joueur.items()"
   ]
  },
  {
   "cell_type": "code",
   "execution_count": 78,
   "id": "be01f535",
   "metadata": {
    "slideshow": {
     "slide_type": "slide"
    }
   },
   "outputs": [
    {
     "data": {
      "text/plain": [
       "'Woods'"
      ]
     },
     "execution_count": 78,
     "metadata": {},
     "output_type": "execute_result"
    }
   ],
   "source": [
    "joueur[\"nom\"]"
   ]
  },
  {
   "cell_type": "code",
   "execution_count": 79,
   "id": "3b538bc3",
   "metadata": {
    "slideshow": {
     "slide_type": "slide"
    }
   },
   "outputs": [
    {
     "data": {
      "text/plain": [
       "47"
      ]
     },
     "execution_count": 79,
     "metadata": {},
     "output_type": "execute_result"
    }
   ],
   "source": [
    "joueur[\"age\"]"
   ]
  },
  {
   "cell_type": "code",
   "execution_count": 87,
   "id": "5aef7d49",
   "metadata": {
    "slideshow": {
     "slide_type": "slide"
    }
   },
   "outputs": [],
   "source": [
    "joueur[\"nationalite\"] = \"Américaine\""
   ]
  },
  {
   "cell_type": "code",
   "execution_count": 88,
   "id": "6dd7a6e4",
   "metadata": {
    "slideshow": {
     "slide_type": "slide"
    }
   },
   "outputs": [
    {
     "data": {
      "text/plain": [
       "dict_items([('nom', 'Woods'), ('prenom', 'Tiger'), ('age', 47), ('nationalite', 'Américaine')])"
      ]
     },
     "execution_count": 88,
     "metadata": {},
     "output_type": "execute_result"
    }
   ],
   "source": [
    "joueur.items()"
   ]
  },
  {
   "cell_type": "markdown",
   "id": "bb0a577e",
   "metadata": {
    "slideshow": {
     "slide_type": "slide"
    }
   },
   "source": [
    "### Les séquences\n",
    "####  Les listes\n",
    "Une séquence ordonnée d'éléments est appelée liste. C'est un type de données très flexible en Python. Il n'est pas nécessaire que la valeur de la liste soit du même type de données. La liste est le type de données le plus utilisé en Python. Le type de données List est le type de données le plus exclusif de Python pour contenir des données polyvalentes. Il peut facilement contenir différents types de données en Python.\n",
    "\n",
    "Il est facile de déclarer une liste. La liste est entourée de crochets et des virgules sont utilisées pour séparer les éléments."
   ]
  },
  {
   "cell_type": "code",
   "execution_count": 49,
   "id": "0e151a69",
   "metadata": {
    "slideshow": {
     "slide_type": "slide"
    }
   },
   "outputs": [],
   "source": [
    "nombres = [1, 1, 2, 5, 7, 5, 3, 0, 1, 5, 5, 9, 8, 9, 1, 3, 1]"
   ]
  },
  {
   "cell_type": "code",
   "execution_count": 50,
   "id": "a60133f0",
   "metadata": {
    "slideshow": {
     "slide_type": "slide"
    }
   },
   "outputs": [
    {
     "data": {
      "text/plain": [
       "list"
      ]
     },
     "execution_count": 50,
     "metadata": {},
     "output_type": "execute_result"
    }
   ],
   "source": [
    "type(nombres)"
   ]
  },
  {
   "cell_type": "code",
   "execution_count": 51,
   "id": "9ee3963f",
   "metadata": {
    "slideshow": {
     "slide_type": "slide"
    }
   },
   "outputs": [
    {
     "name": "stdout",
     "output_type": "stream",
     "text": [
      "['append', 'clear', 'copy', 'count', 'extend', 'index', 'insert', 'pop', 'remove', 'reverse', 'sort']\n"
     ]
    }
   ],
   "source": [
    "afficher_proprietes(list)"
   ]
  },
  {
   "cell_type": "code",
   "execution_count": 52,
   "id": "609ebd64",
   "metadata": {
    "slideshow": {
     "slide_type": "slide"
    }
   },
   "outputs": [],
   "source": [
    "nombres.append(99)"
   ]
  },
  {
   "cell_type": "code",
   "execution_count": 53,
   "id": "fdf26f3d",
   "metadata": {
    "slideshow": {
     "slide_type": "slide"
    }
   },
   "outputs": [
    {
     "name": "stdout",
     "output_type": "stream",
     "text": [
      "[1, 1, 2, 5, 7, 5, 3, 0, 1, 5, 5, 9, 8, 9, 1, 3, 1, 99]\n"
     ]
    }
   ],
   "source": [
    "print(nombres)"
   ]
  },
  {
   "cell_type": "code",
   "execution_count": 54,
   "id": "c91bd9a4",
   "metadata": {
    "slideshow": {
     "slide_type": "slide"
    }
   },
   "outputs": [
    {
     "data": {
      "text/plain": [
       "1"
      ]
     },
     "execution_count": 54,
     "metadata": {},
     "output_type": "execute_result"
    }
   ],
   "source": [
    "# On peut obtenir un ou plusieurs élements d'une liste avec les slices\n",
    "nombres[0]"
   ]
  },
  {
   "cell_type": "code",
   "execution_count": 55,
   "id": "b91880b3",
   "metadata": {
    "slideshow": {
     "slide_type": "slide"
    }
   },
   "outputs": [
    {
     "data": {
      "text/plain": [
       "[1, 1, 2]"
      ]
     },
     "execution_count": 55,
     "metadata": {},
     "output_type": "execute_result"
    }
   ],
   "source": [
    "nombres[0:3]"
   ]
  },
  {
   "cell_type": "code",
   "execution_count": 56,
   "id": "c021c9a6",
   "metadata": {
    "slideshow": {
     "slide_type": "slide"
    }
   },
   "outputs": [
    {
     "data": {
      "text/plain": [
       "[1, 1, 2, 5, 7, 5, 3, 0, 1, 5, 5, 9, 8, 9, 1, 3, 1, 99]"
      ]
     },
     "execution_count": 56,
     "metadata": {},
     "output_type": "execute_result"
    }
   ],
   "source": [
    "nombres[0:len(nombres)]"
   ]
  },
  {
   "cell_type": "code",
   "execution_count": 59,
   "id": "84a158df",
   "metadata": {
    "slideshow": {
     "slide_type": "slide"
    }
   },
   "outputs": [
    {
     "data": {
      "text/plain": [
       "[1, 1, 2, 5, 7, 5, 3, 0, 1, 5, 5, 9, 8, 9, 1, 3, 1, 99]"
      ]
     },
     "execution_count": 59,
     "metadata": {},
     "output_type": "execute_result"
    }
   ],
   "source": [
    "nombres[:]"
   ]
  },
  {
   "cell_type": "code",
   "execution_count": 57,
   "id": "58d9485d",
   "metadata": {
    "slideshow": {
     "slide_type": "slide"
    }
   },
   "outputs": [
    {
     "data": {
      "text/plain": [
       "99"
      ]
     },
     "execution_count": 57,
     "metadata": {},
     "output_type": "execute_result"
    }
   ],
   "source": [
    "nombres[-1]"
   ]
  },
  {
   "cell_type": "code",
   "execution_count": 60,
   "id": "b0a8708e",
   "metadata": {
    "slideshow": {
     "slide_type": "slide"
    }
   },
   "outputs": [
    {
     "data": {
      "text/plain": [
       "[99, 1, 3, 1, 9, 8, 9, 5, 5, 1, 0, 3, 5, 7, 5, 2, 1, 1]"
      ]
     },
     "execution_count": 60,
     "metadata": {},
     "output_type": "execute_result"
    }
   ],
   "source": [
    "nombres[::-1]"
   ]
  },
  {
   "cell_type": "markdown",
   "id": "78d472a4",
   "metadata": {
    "slideshow": {
     "slide_type": "slide"
    }
   },
   "source": [
    "> Remarque: EN fait les chaînes de caractères sont aussi des types séquences. Certaines opérations comme les slices marchent exactement comme si c'était une liste. "
   ]
  },
  {
   "cell_type": "code",
   "execution_count": 61,
   "id": "12911851",
   "metadata": {
    "slideshow": {
     "slide_type": "slide"
    }
   },
   "outputs": [
    {
     "data": {
      "text/plain": [
       "'Python est cool'"
      ]
     },
     "execution_count": 61,
     "metadata": {},
     "output_type": "execute_result"
    }
   ],
   "source": [
    "lang"
   ]
  },
  {
   "cell_type": "code",
   "execution_count": 62,
   "id": "f731706e",
   "metadata": {
    "slideshow": {
     "slide_type": "slide"
    }
   },
   "outputs": [
    {
     "data": {
      "text/plain": [
       "'looc tse nohtyP'"
      ]
     },
     "execution_count": 62,
     "metadata": {},
     "output_type": "execute_result"
    }
   ],
   "source": [
    "lang[::-1]"
   ]
  },
  {
   "cell_type": "code",
   "execution_count": 69,
   "id": "497a1bf3",
   "metadata": {
    "slideshow": {
     "slide_type": "slide"
    }
   },
   "outputs": [
    {
     "data": {
      "text/plain": [
       "['P', 'y', 't', 'h', 'o', 'n', ' ', 'e', 's', 't', ' ', 'c', 'o', 'o', 'l']"
      ]
     },
     "execution_count": 69,
     "metadata": {},
     "output_type": "execute_result"
    }
   ],
   "source": [
    "# Il est possible de convertir une chaîne de caractère en liste et vice versa \n",
    "# (tant que c'est possible)\n",
    "[x for x in lang]"
   ]
  },
  {
   "cell_type": "code",
   "execution_count": null,
   "id": "fc0b2efa",
   "metadata": {},
   "outputs": [],
   "source": []
  }
 ],
 "metadata": {
  "celltoolbar": "Diaporama",
  "kernelspec": {
   "display_name": "Python 3 (ipykernel)",
   "language": "python",
   "name": "python3"
  },
  "language_info": {
   "codemirror_mode": {
    "name": "ipython",
    "version": 3
   },
   "file_extension": ".py",
   "mimetype": "text/x-python",
   "name": "python",
   "nbconvert_exporter": "python",
   "pygments_lexer": "ipython3",
   "version": "3.9.0"
  }
 },
 "nbformat": 4,
 "nbformat_minor": 5
}
